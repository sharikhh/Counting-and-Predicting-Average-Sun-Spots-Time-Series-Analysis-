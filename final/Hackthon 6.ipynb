{
 "cells": [
  {
   "cell_type": "markdown",
   "id": "6da4dc02",
   "metadata": {},
   "source": [
    "# Hunagund Sharikh Mannusaheb \n",
    "# PES2PEG20DS293"
   ]
  },
  {
   "cell_type": "code",
   "execution_count": 1,
   "id": "7ccd4b18",
   "metadata": {},
   "outputs": [],
   "source": [
    "import pandas                          as      pd\n",
    "import numpy                           as      np\n",
    "import matplotlib.pyplot               as      plt\n",
    "import statsmodels.tools.eval_measures as      em\n",
    "from   sklearn.metrics                 import  mean_squared_error\n",
    "from   statsmodels.tsa.api             import ExponentialSmoothing, SimpleExpSmoothing, Holt\n",
    "from   IPython.display                 import display\n",
    "from   pylab                           import rcParams\n",
    "from   datetime                        import  datetime,timedelta\n",
    "from math import sqrt\n",
    "import warnings\n",
    "warnings.filterwarnings('ignore')\n",
    "from statsmodels.tsa.seasonal     import seasonal_decompose, STL\n",
    "from matplotlib.pyplot import figure\n",
    "import pandas                          as      pd\n",
    "import numpy                           as      np\n",
    "import matplotlib.pyplot               as      plt\n",
    "from   IPython.display                 import  display\n",
    "from   pylab                           import  rcParams \n",
    "from   datetime                        import  datetime, timedelta\n",
    "from statsmodels.tsa.stattools         import  adfuller\n",
    "from statsmodels.tsa.stattools         import  pacf\n",
    "from statsmodels.tsa.stattools         import  acf\n",
    "from statsmodels.graphics.tsaplots     import  plot_pacf\n",
    "from statsmodels.graphics.tsaplots     import  plot_acf\n",
    "from statsmodels.graphics.gofplots     import qqplot\n",
    "from statsmodels.tsa.seasonal          import seasonal_decompose\n",
    "from statsmodels.tsa.arima_model       import  ARMA, ARIMA\n",
    "import warnings\n",
    "warnings.filterwarnings('ignore')\n",
    "%matplotlib inline\n",
    "import pandas                             as      pd\n",
    "import numpy                              as      np\n",
    "import matplotlib.pyplot                  as      plt\n",
    "import seaborn                            as      sns\n",
    "from   IPython.display                    import  display\n",
    "from   pylab                              import  rcParams \n",
    "from   datetime                           import  datetime, timedelta\n",
    "from sklearn                              import  metrics\n",
    "from statsmodels.tsa.vector_ar.vecm       import  coint_johansen\n",
    "from statsmodels.tsa.stattools            import  adfuller\n",
    "from statsmodels.tsa.stattools            import  pacf\n",
    "from statsmodels.tsa.stattools            import  acf\n",
    "from statsmodels.graphics.tsaplots        import  plot_pacf\n",
    "from statsmodels.graphics.tsaplots        import  plot_acf\n",
    "from statsmodels.tsa.api                  import  VAR\n",
    "from statsmodels.tsa.statespace.varmax    import  VARMAX\n",
    "import warnings\n",
    "warnings.filterwarnings('ignore')\n",
    "%matplotlib inline\n",
    "import pandas                             as      pd\n",
    "import numpy                              as      np\n",
    "import matplotlib.pyplot                  as      plt\n",
    "import seaborn                            as      sns\n",
    "from   IPython.display                    import  display\n",
    "from   pylab                              import  rcParams \n",
    "from   datetime                           import  datetime, timedelta\n",
    "from statsmodels.tsa.stattools            import  adfuller\n",
    "from statsmodels.tsa.stattools            import  pacf\n",
    "from statsmodels.tsa.stattools            import  acf\n",
    "from statsmodels.graphics.tsaplots        import  plot_pacf\n",
    "from statsmodels.graphics.tsaplots        import  plot_acf\n",
    "from statsmodels.graphics.gofplots        import  qqplot\n",
    "from statsmodels.tsa.seasonal             import  seasonal_decompose\n",
    "from statsmodels.tsa.arima_model          import  ARIMA\n",
    "from statsmodels.tsa.statespace.sarimax   import  SARIMAX\n",
    "import warnings\n",
    "warnings.filterwarnings('ignore')\n",
    "%matplotlib inline"
   ]
  },
  {
   "cell_type": "code",
   "execution_count": 133,
   "id": "788aa5ba",
   "metadata": {},
   "outputs": [
    {
     "data": {
      "text/html": [
       "<div>\n",
       "<style scoped>\n",
       "    .dataframe tbody tr th:only-of-type {\n",
       "        vertical-align: middle;\n",
       "    }\n",
       "\n",
       "    .dataframe tbody tr th {\n",
       "        vertical-align: top;\n",
       "    }\n",
       "\n",
       "    .dataframe thead th {\n",
       "        text-align: right;\n",
       "    }\n",
       "</style>\n",
       "<table border=\"1\" class=\"dataframe\">\n",
       "  <thead>\n",
       "    <tr style=\"text-align: right;\">\n",
       "      <th></th>\n",
       "      <th>Month</th>\n",
       "      <th>Avg_sunspot_count</th>\n",
       "    </tr>\n",
       "  </thead>\n",
       "  <tbody>\n",
       "    <tr>\n",
       "      <th>0</th>\n",
       "      <td>01-01-1749</td>\n",
       "      <td>97</td>\n",
       "    </tr>\n",
       "    <tr>\n",
       "      <th>1</th>\n",
       "      <td>02-01-1749</td>\n",
       "      <td>104</td>\n",
       "    </tr>\n",
       "    <tr>\n",
       "      <th>2</th>\n",
       "      <td>03-01-1749</td>\n",
       "      <td>117</td>\n",
       "    </tr>\n",
       "    <tr>\n",
       "      <th>3</th>\n",
       "      <td>04-01-1749</td>\n",
       "      <td>93</td>\n",
       "    </tr>\n",
       "    <tr>\n",
       "      <th>4</th>\n",
       "      <td>05-01-1749</td>\n",
       "      <td>142</td>\n",
       "    </tr>\n",
       "  </tbody>\n",
       "</table>\n",
       "</div>"
      ],
      "text/plain": [
       "        Month  Avg_sunspot_count\n",
       "0  01-01-1749                 97\n",
       "1  02-01-1749                104\n",
       "2  03-01-1749                117\n",
       "3  04-01-1749                 93\n",
       "4  05-01-1749                142"
      ]
     },
     "execution_count": 133,
     "metadata": {},
     "output_type": "execute_result"
    }
   ],
   "source": [
    "a=pd.read_csv('train_(2).csv')\n",
    "a.head()"
   ]
  },
  {
   "cell_type": "code",
   "execution_count": 134,
   "id": "f16f3f72",
   "metadata": {},
   "outputs": [
    {
     "data": {
      "text/html": [
       "<div>\n",
       "<style scoped>\n",
       "    .dataframe tbody tr th:only-of-type {\n",
       "        vertical-align: middle;\n",
       "    }\n",
       "\n",
       "    .dataframe tbody tr th {\n",
       "        vertical-align: top;\n",
       "    }\n",
       "\n",
       "    .dataframe thead th {\n",
       "        text-align: right;\n",
       "    }\n",
       "</style>\n",
       "<table border=\"1\" class=\"dataframe\">\n",
       "  <thead>\n",
       "    <tr style=\"text-align: right;\">\n",
       "      <th></th>\n",
       "      <th>Month</th>\n",
       "      <th>Avg_sunspot_count</th>\n",
       "    </tr>\n",
       "  </thead>\n",
       "  <tbody>\n",
       "    <tr>\n",
       "      <th>3139</th>\n",
       "      <td>08-01-2010</td>\n",
       "      <td>30</td>\n",
       "    </tr>\n",
       "    <tr>\n",
       "      <th>3140</th>\n",
       "      <td>09-01-2010</td>\n",
       "      <td>36</td>\n",
       "    </tr>\n",
       "    <tr>\n",
       "      <th>3141</th>\n",
       "      <td>10-01-2010</td>\n",
       "      <td>34</td>\n",
       "    </tr>\n",
       "    <tr>\n",
       "      <th>3142</th>\n",
       "      <td>11-01-2010</td>\n",
       "      <td>34</td>\n",
       "    </tr>\n",
       "    <tr>\n",
       "      <th>3143</th>\n",
       "      <td>12-01-2010</td>\n",
       "      <td>25</td>\n",
       "    </tr>\n",
       "  </tbody>\n",
       "</table>\n",
       "</div>"
      ],
      "text/plain": [
       "           Month  Avg_sunspot_count\n",
       "3139  08-01-2010                 30\n",
       "3140  09-01-2010                 36\n",
       "3141  10-01-2010                 34\n",
       "3142  11-01-2010                 34\n",
       "3143  12-01-2010                 25"
      ]
     },
     "execution_count": 134,
     "metadata": {},
     "output_type": "execute_result"
    }
   ],
   "source": [
    "a.tail()"
   ]
  },
  {
   "cell_type": "code",
   "execution_count": 135,
   "id": "8aa3fec8",
   "metadata": {},
   "outputs": [
    {
     "data": {
      "text/plain": [
       "Month                0\n",
       "Avg_sunspot_count    0\n",
       "dtype: int64"
      ]
     },
     "execution_count": 135,
     "metadata": {},
     "output_type": "execute_result"
    }
   ],
   "source": [
    "a.isnull().sum()"
   ]
  },
  {
   "cell_type": "code",
   "execution_count": 136,
   "id": "88c9f2ea",
   "metadata": {},
   "outputs": [
    {
     "data": {
      "text/html": [
       "<div>\n",
       "<style scoped>\n",
       "    .dataframe tbody tr th:only-of-type {\n",
       "        vertical-align: middle;\n",
       "    }\n",
       "\n",
       "    .dataframe tbody tr th {\n",
       "        vertical-align: top;\n",
       "    }\n",
       "\n",
       "    .dataframe thead th {\n",
       "        text-align: right;\n",
       "    }\n",
       "</style>\n",
       "<table border=\"1\" class=\"dataframe\">\n",
       "  <thead>\n",
       "    <tr style=\"text-align: right;\">\n",
       "      <th></th>\n",
       "      <th>Month</th>\n",
       "      <th>Avg_sunspot_count</th>\n",
       "    </tr>\n",
       "  </thead>\n",
       "  <tbody>\n",
       "    <tr>\n",
       "      <th>0</th>\n",
       "      <td>01-01-1749</td>\n",
       "      <td>97</td>\n",
       "    </tr>\n",
       "    <tr>\n",
       "      <th>1</th>\n",
       "      <td>02-01-1749</td>\n",
       "      <td>104</td>\n",
       "    </tr>\n",
       "    <tr>\n",
       "      <th>2</th>\n",
       "      <td>03-01-1749</td>\n",
       "      <td>117</td>\n",
       "    </tr>\n",
       "    <tr>\n",
       "      <th>3</th>\n",
       "      <td>04-01-1749</td>\n",
       "      <td>93</td>\n",
       "    </tr>\n",
       "    <tr>\n",
       "      <th>4</th>\n",
       "      <td>05-01-1749</td>\n",
       "      <td>142</td>\n",
       "    </tr>\n",
       "    <tr>\n",
       "      <th>...</th>\n",
       "      <td>...</td>\n",
       "      <td>...</td>\n",
       "    </tr>\n",
       "    <tr>\n",
       "      <th>3139</th>\n",
       "      <td>08-01-2010</td>\n",
       "      <td>30</td>\n",
       "    </tr>\n",
       "    <tr>\n",
       "      <th>3140</th>\n",
       "      <td>09-01-2010</td>\n",
       "      <td>36</td>\n",
       "    </tr>\n",
       "    <tr>\n",
       "      <th>3141</th>\n",
       "      <td>10-01-2010</td>\n",
       "      <td>34</td>\n",
       "    </tr>\n",
       "    <tr>\n",
       "      <th>3142</th>\n",
       "      <td>11-01-2010</td>\n",
       "      <td>34</td>\n",
       "    </tr>\n",
       "    <tr>\n",
       "      <th>3143</th>\n",
       "      <td>12-01-2010</td>\n",
       "      <td>25</td>\n",
       "    </tr>\n",
       "  </tbody>\n",
       "</table>\n",
       "<p>3144 rows × 2 columns</p>\n",
       "</div>"
      ],
      "text/plain": [
       "           Month  Avg_sunspot_count\n",
       "0     01-01-1749                 97\n",
       "1     02-01-1749                104\n",
       "2     03-01-1749                117\n",
       "3     04-01-1749                 93\n",
       "4     05-01-1749                142\n",
       "...          ...                ...\n",
       "3139  08-01-2010                 30\n",
       "3140  09-01-2010                 36\n",
       "3141  10-01-2010                 34\n",
       "3142  11-01-2010                 34\n",
       "3143  12-01-2010                 25\n",
       "\n",
       "[3144 rows x 2 columns]"
      ]
     },
     "execution_count": 136,
     "metadata": {},
     "output_type": "execute_result"
    }
   ],
   "source": [
    "a"
   ]
  },
  {
   "cell_type": "code",
   "execution_count": 137,
   "id": "93e5875a",
   "metadata": {},
   "outputs": [
    {
     "data": {
      "text/plain": [
       "<AxesSubplot:>"
      ]
     },
     "execution_count": 137,
     "metadata": {},
     "output_type": "execute_result"
    },
    {
     "data": {
      "image/png": "[encoded data removed]",
      "text/plain": [
       "<Figure size 432x288 with 1 Axes>"
      ]
     },
     "metadata": {
      "needs_background": "light"
     },
     "output_type": "display_data"
    }
   ],
   "source": [
    "a['Avg_sunspot_count'].plot()"
   ]
  },
  {
   "cell_type": "code",
   "execution_count": 138,
   "id": "1c49ac6f",
   "metadata": {},
   "outputs": [
    {
     "data": {
      "text/plain": [
       "DatetimeIndex(['1749-01-31', '1749-02-28', '1749-03-31', '1749-04-30',\n",
       "               '1749-05-31', '1749-06-30', '1749-07-31', '1749-08-31',\n",
       "               '1749-09-30', '1749-10-31',\n",
       "               ...\n",
       "               '2010-03-31', '2010-04-30', '2010-05-31', '2010-06-30',\n",
       "               '2010-07-31', '2010-08-31', '2010-09-30', '2010-10-31',\n",
       "               '2010-11-30', '2010-12-31'],\n",
       "              dtype='datetime64[ns]', length=3144, freq='M')"
      ]
     },
     "execution_count": 138,
     "metadata": {},
     "output_type": "execute_result"
    }
   ],
   "source": [
    "date=pd.date_range(start='01/01/1749',end='01/01/2011',freq='M')\n",
    "date"
   ]
  },
  {
   "cell_type": "code",
   "execution_count": 139,
   "id": "d1b3abee",
   "metadata": {},
   "outputs": [
    {
     "data": {
      "text/html": [
       "<div>\n",
       "<style scoped>\n",
       "    .dataframe tbody tr th:only-of-type {\n",
       "        vertical-align: middle;\n",
       "    }\n",
       "\n",
       "    .dataframe tbody tr th {\n",
       "        vertical-align: top;\n",
       "    }\n",
       "\n",
       "    .dataframe thead th {\n",
       "        text-align: right;\n",
       "    }\n",
       "</style>\n",
       "<table border=\"1\" class=\"dataframe\">\n",
       "  <thead>\n",
       "    <tr style=\"text-align: right;\">\n",
       "      <th></th>\n",
       "      <th>Month</th>\n",
       "      <th>Avg_sunspot_count</th>\n",
       "      <th>Time_Stamp</th>\n",
       "    </tr>\n",
       "  </thead>\n",
       "  <tbody>\n",
       "    <tr>\n",
       "      <th>0</th>\n",
       "      <td>01-01-1749</td>\n",
       "      <td>97</td>\n",
       "      <td>1749-01-31</td>\n",
       "    </tr>\n",
       "    <tr>\n",
       "      <th>1</th>\n",
       "      <td>02-01-1749</td>\n",
       "      <td>104</td>\n",
       "      <td>1749-02-28</td>\n",
       "    </tr>\n",
       "    <tr>\n",
       "      <th>2</th>\n",
       "      <td>03-01-1749</td>\n",
       "      <td>117</td>\n",
       "      <td>1749-03-31</td>\n",
       "    </tr>\n",
       "    <tr>\n",
       "      <th>3</th>\n",
       "      <td>04-01-1749</td>\n",
       "      <td>93</td>\n",
       "      <td>1749-04-30</td>\n",
       "    </tr>\n",
       "    <tr>\n",
       "      <th>4</th>\n",
       "      <td>05-01-1749</td>\n",
       "      <td>142</td>\n",
       "      <td>1749-05-31</td>\n",
       "    </tr>\n",
       "  </tbody>\n",
       "</table>\n",
       "</div>"
      ],
      "text/plain": [
       "        Month  Avg_sunspot_count Time_Stamp\n",
       "0  01-01-1749                 97 1749-01-31\n",
       "1  02-01-1749                104 1749-02-28\n",
       "2  03-01-1749                117 1749-03-31\n",
       "3  04-01-1749                 93 1749-04-30\n",
       "4  05-01-1749                142 1749-05-31"
      ]
     },
     "execution_count": 139,
     "metadata": {},
     "output_type": "execute_result"
    }
   ],
   "source": [
    "a['Time_Stamp']=pd.DataFrame(date)\n",
    "a.head()"
   ]
  },
  {
   "cell_type": "code",
   "execution_count": 140,
   "id": "748dcd6e",
   "metadata": {},
   "outputs": [
    {
     "data": {
      "text/html": [
       "<div>\n",
       "<style scoped>\n",
       "    .dataframe tbody tr th:only-of-type {\n",
       "        vertical-align: middle;\n",
       "    }\n",
       "\n",
       "    .dataframe tbody tr th {\n",
       "        vertical-align: top;\n",
       "    }\n",
       "\n",
       "    .dataframe thead th {\n",
       "        text-align: right;\n",
       "    }\n",
       "</style>\n",
       "<table border=\"1\" class=\"dataframe\">\n",
       "  <thead>\n",
       "    <tr style=\"text-align: right;\">\n",
       "      <th></th>\n",
       "      <th>Avg_sunspot_count</th>\n",
       "      <th>Time_Stamp</th>\n",
       "    </tr>\n",
       "  </thead>\n",
       "  <tbody>\n",
       "    <tr>\n",
       "      <th>0</th>\n",
       "      <td>97</td>\n",
       "      <td>1749-01-31</td>\n",
       "    </tr>\n",
       "    <tr>\n",
       "      <th>1</th>\n",
       "      <td>104</td>\n",
       "      <td>1749-02-28</td>\n",
       "    </tr>\n",
       "    <tr>\n",
       "      <th>2</th>\n",
       "      <td>117</td>\n",
       "      <td>1749-03-31</td>\n",
       "    </tr>\n",
       "    <tr>\n",
       "      <th>3</th>\n",
       "      <td>93</td>\n",
       "      <td>1749-04-30</td>\n",
       "    </tr>\n",
       "    <tr>\n",
       "      <th>4</th>\n",
       "      <td>142</td>\n",
       "      <td>1749-05-31</td>\n",
       "    </tr>\n",
       "  </tbody>\n",
       "</table>\n",
       "</div>"
      ],
      "text/plain": [
       "   Avg_sunspot_count Time_Stamp\n",
       "0                 97 1749-01-31\n",
       "1                104 1749-02-28\n",
       "2                117 1749-03-31\n",
       "3                 93 1749-04-30\n",
       "4                142 1749-05-31"
      ]
     },
     "execution_count": 140,
     "metadata": {},
     "output_type": "execute_result"
    }
   ],
   "source": [
    "a.drop('Month',inplace=True,axis=1)\n",
    "a.head()"
   ]
  },
  {
   "cell_type": "code",
   "execution_count": 141,
   "id": "c684eccb",
   "metadata": {},
   "outputs": [
    {
     "data": {
      "text/html": [
       "<div>\n",
       "<style scoped>\n",
       "    .dataframe tbody tr th:only-of-type {\n",
       "        vertical-align: middle;\n",
       "    }\n",
       "\n",
       "    .dataframe tbody tr th {\n",
       "        vertical-align: top;\n",
       "    }\n",
       "\n",
       "    .dataframe thead th {\n",
       "        text-align: right;\n",
       "    }\n",
       "</style>\n",
       "<table border=\"1\" class=\"dataframe\">\n",
       "  <thead>\n",
       "    <tr style=\"text-align: right;\">\n",
       "      <th></th>\n",
       "      <th>Avg_sunspot_count</th>\n",
       "    </tr>\n",
       "    <tr>\n",
       "      <th>Time_Stamp</th>\n",
       "      <th></th>\n",
       "    </tr>\n",
       "  </thead>\n",
       "  <tbody>\n",
       "    <tr>\n",
       "      <th>1749-01-31</th>\n",
       "      <td>97</td>\n",
       "    </tr>\n",
       "    <tr>\n",
       "      <th>1749-02-28</th>\n",
       "      <td>104</td>\n",
       "    </tr>\n",
       "    <tr>\n",
       "      <th>1749-03-31</th>\n",
       "      <td>117</td>\n",
       "    </tr>\n",
       "    <tr>\n",
       "      <th>1749-04-30</th>\n",
       "      <td>93</td>\n",
       "    </tr>\n",
       "    <tr>\n",
       "      <th>1749-05-31</th>\n",
       "      <td>142</td>\n",
       "    </tr>\n",
       "  </tbody>\n",
       "</table>\n",
       "</div>"
      ],
      "text/plain": [
       "            Avg_sunspot_count\n",
       "Time_Stamp                   \n",
       "1749-01-31                 97\n",
       "1749-02-28                104\n",
       "1749-03-31                117\n",
       "1749-04-30                 93\n",
       "1749-05-31                142"
      ]
     },
     "execution_count": 141,
     "metadata": {},
     "output_type": "execute_result"
    }
   ],
   "source": [
    "a1=a.set_index('Time_Stamp')\n",
    "a1.head()"
   ]
  },
  {
   "cell_type": "code",
   "execution_count": 142,
   "id": "3803c72c",
   "metadata": {},
   "outputs": [
    {
     "data": {
      "text/html": [
       "<div>\n",
       "<style scoped>\n",
       "    .dataframe tbody tr th:only-of-type {\n",
       "        vertical-align: middle;\n",
       "    }\n",
       "\n",
       "    .dataframe tbody tr th {\n",
       "        vertical-align: top;\n",
       "    }\n",
       "\n",
       "    .dataframe thead th {\n",
       "        text-align: right;\n",
       "    }\n",
       "</style>\n",
       "<table border=\"1\" class=\"dataframe\">\n",
       "  <thead>\n",
       "    <tr style=\"text-align: right;\">\n",
       "      <th></th>\n",
       "      <th>Avg_sunspot_count</th>\n",
       "    </tr>\n",
       "    <tr>\n",
       "      <th>Time_Stamp</th>\n",
       "      <th></th>\n",
       "    </tr>\n",
       "  </thead>\n",
       "  <tbody>\n",
       "    <tr>\n",
       "      <th>1749-01-31</th>\n",
       "      <td>97</td>\n",
       "    </tr>\n",
       "    <tr>\n",
       "      <th>1749-02-28</th>\n",
       "      <td>104</td>\n",
       "    </tr>\n",
       "    <tr>\n",
       "      <th>1749-03-31</th>\n",
       "      <td>117</td>\n",
       "    </tr>\n",
       "    <tr>\n",
       "      <th>1749-04-30</th>\n",
       "      <td>93</td>\n",
       "    </tr>\n",
       "    <tr>\n",
       "      <th>1749-05-31</th>\n",
       "      <td>142</td>\n",
       "    </tr>\n",
       "    <tr>\n",
       "      <th>...</th>\n",
       "      <td>...</td>\n",
       "    </tr>\n",
       "    <tr>\n",
       "      <th>2010-08-31</th>\n",
       "      <td>30</td>\n",
       "    </tr>\n",
       "    <tr>\n",
       "      <th>2010-09-30</th>\n",
       "      <td>36</td>\n",
       "    </tr>\n",
       "    <tr>\n",
       "      <th>2010-10-31</th>\n",
       "      <td>34</td>\n",
       "    </tr>\n",
       "    <tr>\n",
       "      <th>2010-11-30</th>\n",
       "      <td>34</td>\n",
       "    </tr>\n",
       "    <tr>\n",
       "      <th>2010-12-31</th>\n",
       "      <td>25</td>\n",
       "    </tr>\n",
       "  </tbody>\n",
       "</table>\n",
       "<p>3144 rows × 1 columns</p>\n",
       "</div>"
      ],
      "text/plain": [
       "            Avg_sunspot_count\n",
       "Time_Stamp                   \n",
       "1749-01-31                 97\n",
       "1749-02-28                104\n",
       "1749-03-31                117\n",
       "1749-04-30                 93\n",
       "1749-05-31                142\n",
       "...                       ...\n",
       "2010-08-31                 30\n",
       "2010-09-30                 36\n",
       "2010-10-31                 34\n",
       "2010-11-30                 34\n",
       "2010-12-31                 25\n",
       "\n",
       "[3144 rows x 1 columns]"
      ]
     },
     "execution_count": 142,
     "metadata": {},
     "output_type": "execute_result"
    }
   ],
   "source": [
    "a1.sort_index()"
   ]
  },
  {
   "cell_type": "code",
   "execution_count": 143,
   "id": "6dec79d6",
   "metadata": {},
   "outputs": [
    {
     "data": {
      "text/html": [
       "<div>\n",
       "<style scoped>\n",
       "    .dataframe tbody tr th:only-of-type {\n",
       "        vertical-align: middle;\n",
       "    }\n",
       "\n",
       "    .dataframe tbody tr th {\n",
       "        vertical-align: top;\n",
       "    }\n",
       "\n",
       "    .dataframe thead th {\n",
       "        text-align: right;\n",
       "    }\n",
       "</style>\n",
       "<table border=\"1\" class=\"dataframe\">\n",
       "  <thead>\n",
       "    <tr style=\"text-align: right;\">\n",
       "      <th></th>\n",
       "      <th>Avg_sunspot_count</th>\n",
       "    </tr>\n",
       "    <tr>\n",
       "      <th>Time_Stamp</th>\n",
       "      <th></th>\n",
       "    </tr>\n",
       "  </thead>\n",
       "  <tbody>\n",
       "    <tr>\n",
       "      <th>1995-01-31</th>\n",
       "      <td>33</td>\n",
       "    </tr>\n",
       "    <tr>\n",
       "      <th>1995-02-28</th>\n",
       "      <td>46</td>\n",
       "    </tr>\n",
       "    <tr>\n",
       "      <th>1995-03-31</th>\n",
       "      <td>46</td>\n",
       "    </tr>\n",
       "    <tr>\n",
       "      <th>1995-04-30</th>\n",
       "      <td>22</td>\n",
       "    </tr>\n",
       "    <tr>\n",
       "      <th>1995-05-31</th>\n",
       "      <td>19</td>\n",
       "    </tr>\n",
       "  </tbody>\n",
       "</table>\n",
       "</div>"
      ],
      "text/plain": [
       "            Avg_sunspot_count\n",
       "Time_Stamp                   \n",
       "1995-01-31                 33\n",
       "1995-02-28                 46\n",
       "1995-03-31                 46\n",
       "1995-04-30                 22\n",
       "1995-05-31                 19"
      ]
     },
     "execution_count": 143,
     "metadata": {},
     "output_type": "execute_result"
    }
   ],
   "source": [
    "a1.iloc[2952:3144,:].head()"
   ]
  },
  {
   "cell_type": "code",
   "execution_count": 144,
   "id": "16840df4",
   "metadata": {},
   "outputs": [
    {
     "data": {
      "text/html": [
       "<div>\n",
       "<style scoped>\n",
       "    .dataframe tbody tr th:only-of-type {\n",
       "        vertical-align: middle;\n",
       "    }\n",
       "\n",
       "    .dataframe tbody tr th {\n",
       "        vertical-align: top;\n",
       "    }\n",
       "\n",
       "    .dataframe thead th {\n",
       "        text-align: right;\n",
       "    }\n",
       "</style>\n",
       "<table border=\"1\" class=\"dataframe\">\n",
       "  <thead>\n",
       "    <tr style=\"text-align: right;\">\n",
       "      <th></th>\n",
       "      <th>Avg_sunspot_count</th>\n",
       "    </tr>\n",
       "    <tr>\n",
       "      <th>Time_Stamp</th>\n",
       "      <th></th>\n",
       "    </tr>\n",
       "  </thead>\n",
       "  <tbody>\n",
       "    <tr>\n",
       "      <th>2010-08-31</th>\n",
       "      <td>30</td>\n",
       "    </tr>\n",
       "    <tr>\n",
       "      <th>2010-09-30</th>\n",
       "      <td>36</td>\n",
       "    </tr>\n",
       "    <tr>\n",
       "      <th>2010-10-31</th>\n",
       "      <td>34</td>\n",
       "    </tr>\n",
       "    <tr>\n",
       "      <th>2010-11-30</th>\n",
       "      <td>34</td>\n",
       "    </tr>\n",
       "    <tr>\n",
       "      <th>2010-12-31</th>\n",
       "      <td>25</td>\n",
       "    </tr>\n",
       "  </tbody>\n",
       "</table>\n",
       "</div>"
      ],
      "text/plain": [
       "            Avg_sunspot_count\n",
       "Time_Stamp                   \n",
       "2010-08-31                 30\n",
       "2010-09-30                 36\n",
       "2010-10-31                 34\n",
       "2010-11-30                 34\n",
       "2010-12-31                 25"
      ]
     },
     "execution_count": 144,
     "metadata": {},
     "output_type": "execute_result"
    }
   ],
   "source": [
    "a1.iloc[2952:3144,:].tail()"
   ]
  },
  {
   "cell_type": "code",
   "execution_count": 145,
   "id": "19926d25",
   "metadata": {},
   "outputs": [
    {
     "data": {
      "text/html": [
       "<div>\n",
       "<style scoped>\n",
       "    .dataframe tbody tr th:only-of-type {\n",
       "        vertical-align: middle;\n",
       "    }\n",
       "\n",
       "    .dataframe tbody tr th {\n",
       "        vertical-align: top;\n",
       "    }\n",
       "\n",
       "    .dataframe thead th {\n",
       "        text-align: right;\n",
       "    }\n",
       "</style>\n",
       "<table border=\"1\" class=\"dataframe\">\n",
       "  <thead>\n",
       "    <tr style=\"text-align: right;\">\n",
       "      <th></th>\n",
       "      <th>Avg_sunspot_count</th>\n",
       "    </tr>\n",
       "    <tr>\n",
       "      <th>Time_Stamp</th>\n",
       "      <th></th>\n",
       "    </tr>\n",
       "  </thead>\n",
       "  <tbody>\n",
       "    <tr>\n",
       "      <th>1995-01-31</th>\n",
       "      <td>33</td>\n",
       "    </tr>\n",
       "    <tr>\n",
       "      <th>1995-02-28</th>\n",
       "      <td>46</td>\n",
       "    </tr>\n",
       "    <tr>\n",
       "      <th>1995-03-31</th>\n",
       "      <td>46</td>\n",
       "    </tr>\n",
       "    <tr>\n",
       "      <th>1995-04-30</th>\n",
       "      <td>22</td>\n",
       "    </tr>\n",
       "    <tr>\n",
       "      <th>1995-05-31</th>\n",
       "      <td>19</td>\n",
       "    </tr>\n",
       "  </tbody>\n",
       "</table>\n",
       "</div>"
      ],
      "text/plain": [
       "            Avg_sunspot_count\n",
       "Time_Stamp                   \n",
       "1995-01-31                 33\n",
       "1995-02-28                 46\n",
       "1995-03-31                 46\n",
       "1995-04-30                 22\n",
       "1995-05-31                 19"
      ]
     },
     "execution_count": 145,
     "metadata": {},
     "output_type": "execute_result"
    }
   ],
   "source": [
    "a1=a1.iloc[2952:3144,:]\n",
    "a1.head()"
   ]
  },
  {
   "cell_type": "code",
   "execution_count": 146,
   "id": "303688cb",
   "metadata": {},
   "outputs": [
    {
     "data": {
      "text/plain": [
       "(192, 1)"
      ]
     },
     "execution_count": 146,
     "metadata": {},
     "output_type": "execute_result"
    }
   ],
   "source": [
    "a1.shape"
   ]
  },
  {
   "cell_type": "code",
   "execution_count": 147,
   "id": "52fa56d8",
   "metadata": {},
   "outputs": [
    {
     "data": {
      "image/png": "[encoded data removed]",
      "text/plain": [
       "<Figure size 1080x1080 with 4 Axes>"
      ]
     },
     "metadata": {
      "needs_background": "light"
     },
     "output_type": "display_data"
    }
   ],
   "source": [
    "plt.rcParams['figure.figsize']=[15,15]\n",
    "decomposition=seasonal_decompose(a1,model='additive')\n",
    "decomposition.plot();\n"
   ]
  },
  {
   "cell_type": "code",
   "execution_count": 148,
   "id": "ce88bcd0",
   "metadata": {},
   "outputs": [
    {
     "data": {
      "text/plain": [
       "Avg_sunspot_count    4\n",
       "Name: 2007-09-30 00:00:00, dtype: int64"
      ]
     },
     "execution_count": 148,
     "metadata": {},
     "output_type": "execute_result"
    }
   ],
   "source": [
    "a1.iloc[152,:]"
   ]
  },
  {
   "cell_type": "code",
   "execution_count": 149,
   "id": "91c86284",
   "metadata": {},
   "outputs": [
    {
     "data": {
      "text/html": [
       "<div>\n",
       "<style scoped>\n",
       "    .dataframe tbody tr th:only-of-type {\n",
       "        vertical-align: middle;\n",
       "    }\n",
       "\n",
       "    .dataframe tbody tr th {\n",
       "        vertical-align: top;\n",
       "    }\n",
       "\n",
       "    .dataframe thead th {\n",
       "        text-align: right;\n",
       "    }\n",
       "</style>\n",
       "<table border=\"1\" class=\"dataframe\">\n",
       "  <thead>\n",
       "    <tr style=\"text-align: right;\">\n",
       "      <th></th>\n",
       "      <th>Avg_sunspot_count</th>\n",
       "    </tr>\n",
       "    <tr>\n",
       "      <th>Time_Stamp</th>\n",
       "      <th></th>\n",
       "    </tr>\n",
       "  </thead>\n",
       "  <tbody>\n",
       "    <tr>\n",
       "      <th>2010-08-31</th>\n",
       "      <td>30</td>\n",
       "    </tr>\n",
       "    <tr>\n",
       "      <th>2010-09-30</th>\n",
       "      <td>36</td>\n",
       "    </tr>\n",
       "    <tr>\n",
       "      <th>2010-10-31</th>\n",
       "      <td>34</td>\n",
       "    </tr>\n",
       "    <tr>\n",
       "      <th>2010-11-30</th>\n",
       "      <td>34</td>\n",
       "    </tr>\n",
       "    <tr>\n",
       "      <th>2010-12-31</th>\n",
       "      <td>25</td>\n",
       "    </tr>\n",
       "  </tbody>\n",
       "</table>\n",
       "</div>"
      ],
      "text/plain": [
       "            Avg_sunspot_count\n",
       "Time_Stamp                   \n",
       "2010-08-31                 30\n",
       "2010-09-30                 36\n",
       "2010-10-31                 34\n",
       "2010-11-30                 34\n",
       "2010-12-31                 25"
      ]
     },
     "execution_count": 149,
     "metadata": {},
     "output_type": "execute_result"
    }
   ],
   "source": [
    "a1.tail()"
   ]
  },
  {
   "cell_type": "code",
   "execution_count": 150,
   "id": "3dce3ec2",
   "metadata": {},
   "outputs": [],
   "source": [
    "train_end=datetime(2007,9,30)\n",
    "test_end=datetime(2010,12,31)"
   ]
  },
  {
   "cell_type": "code",
   "execution_count": 151,
   "id": "f3c3ebf4",
   "metadata": {},
   "outputs": [],
   "source": [
    "train= a1[:train_end] \n",
    "test = a1[train_end + timedelta(days=1):test_end]"
   ]
  },
  {
   "cell_type": "code",
   "execution_count": 152,
   "id": "ada9e15d",
   "metadata": {},
   "outputs": [
    {
     "name": "stdout",
     "output_type": "stream",
     "text": [
      "train\n"
     ]
    },
    {
     "data": {
      "text/html": [
       "<div>\n",
       "<style scoped>\n",
       "    .dataframe tbody tr th:only-of-type {\n",
       "        vertical-align: middle;\n",
       "    }\n",
       "\n",
       "    .dataframe tbody tr th {\n",
       "        vertical-align: top;\n",
       "    }\n",
       "\n",
       "    .dataframe thead th {\n",
       "        text-align: right;\n",
       "    }\n",
       "</style>\n",
       "<table border=\"1\" class=\"dataframe\">\n",
       "  <thead>\n",
       "    <tr style=\"text-align: right;\">\n",
       "      <th></th>\n",
       "      <th>Avg_sunspot_count</th>\n",
       "    </tr>\n",
       "    <tr>\n",
       "      <th>Time_Stamp</th>\n",
       "      <th></th>\n",
       "    </tr>\n",
       "  </thead>\n",
       "  <tbody>\n",
       "    <tr>\n",
       "      <th>1995-01-31</th>\n",
       "      <td>33</td>\n",
       "    </tr>\n",
       "    <tr>\n",
       "      <th>1995-02-28</th>\n",
       "      <td>46</td>\n",
       "    </tr>\n",
       "    <tr>\n",
       "      <th>1995-03-31</th>\n",
       "      <td>46</td>\n",
       "    </tr>\n",
       "    <tr>\n",
       "      <th>1995-04-30</th>\n",
       "      <td>22</td>\n",
       "    </tr>\n",
       "    <tr>\n",
       "      <th>1995-05-31</th>\n",
       "      <td>19</td>\n",
       "    </tr>\n",
       "  </tbody>\n",
       "</table>\n",
       "</div>"
      ],
      "text/plain": [
       "            Avg_sunspot_count\n",
       "Time_Stamp                   \n",
       "1995-01-31                 33\n",
       "1995-02-28                 46\n",
       "1995-03-31                 46\n",
       "1995-04-30                 22\n",
       "1995-05-31                 19"
      ]
     },
     "metadata": {},
     "output_type": "display_data"
    },
    {
     "name": "stdout",
     "output_type": "stream",
     "text": [
      "test\n"
     ]
    },
    {
     "data": {
      "text/html": [
       "<div>\n",
       "<style scoped>\n",
       "    .dataframe tbody tr th:only-of-type {\n",
       "        vertical-align: middle;\n",
       "    }\n",
       "\n",
       "    .dataframe tbody tr th {\n",
       "        vertical-align: top;\n",
       "    }\n",
       "\n",
       "    .dataframe thead th {\n",
       "        text-align: right;\n",
       "    }\n",
       "</style>\n",
       "<table border=\"1\" class=\"dataframe\">\n",
       "  <thead>\n",
       "    <tr style=\"text-align: right;\">\n",
       "      <th></th>\n",
       "      <th>Avg_sunspot_count</th>\n",
       "    </tr>\n",
       "    <tr>\n",
       "      <th>Time_Stamp</th>\n",
       "      <th></th>\n",
       "    </tr>\n",
       "  </thead>\n",
       "  <tbody>\n",
       "    <tr>\n",
       "      <th>2007-10-31</th>\n",
       "      <td>2</td>\n",
       "    </tr>\n",
       "    <tr>\n",
       "      <th>2007-11-30</th>\n",
       "      <td>3</td>\n",
       "    </tr>\n",
       "    <tr>\n",
       "      <th>2007-12-31</th>\n",
       "      <td>17</td>\n",
       "    </tr>\n",
       "    <tr>\n",
       "      <th>2008-01-31</th>\n",
       "      <td>4</td>\n",
       "    </tr>\n",
       "    <tr>\n",
       "      <th>2008-02-29</th>\n",
       "      <td>3</td>\n",
       "    </tr>\n",
       "  </tbody>\n",
       "</table>\n",
       "</div>"
      ],
      "text/plain": [
       "            Avg_sunspot_count\n",
       "Time_Stamp                   \n",
       "2007-10-31                  2\n",
       "2007-11-30                  3\n",
       "2007-12-31                 17\n",
       "2008-01-31                  4\n",
       "2008-02-29                  3"
      ]
     },
     "metadata": {},
     "output_type": "display_data"
    }
   ],
   "source": [
    "print('train')\n",
    "display(train.head())\n",
    "print('test')\n",
    "display(test.head())"
   ]
  },
  {
   "cell_type": "markdown",
   "id": "1575d7bf",
   "metadata": {},
   "source": [
    "# Triple Exponential Smoothing"
   ]
  },
  {
   "cell_type": "code",
   "execution_count": 153,
   "id": "a754de64",
   "metadata": {},
   "outputs": [],
   "source": [
    "model_TES_add = ExponentialSmoothing(train,trend='additive',seasonal='additive',initialization_method='heuristic')"
   ]
  },
  {
   "cell_type": "code",
   "execution_count": 154,
   "id": "0e0e7d4e",
   "metadata": {},
   "outputs": [
    {
     "data": {
      "text/html": [
       "<table class=\"simpletable\">\n",
       "<caption>ExponentialSmoothing Model Results</caption>\n",
       "<tr>\n",
       "  <th>Dep. Variable:</th>      <td>Avg_sunspot_count</td>  <th>  No. Observations:  </th>        <td>153</td>      \n",
       "</tr>\n",
       "<tr>\n",
       "  <th>Model:</th>            <td>ExponentialSmoothing</td> <th>  SSE                </th>     <td>76553.246</td>   \n",
       "</tr>\n",
       "<tr>\n",
       "  <th>Optimized:</th>                <td>True</td>         <th>  AIC                </th>      <td>982.941</td>    \n",
       "</tr>\n",
       "<tr>\n",
       "  <th>Trend:</th>                  <td>Additive</td>       <th>  BIC                </th>     <td>1031.429</td>    \n",
       "</tr>\n",
       "<tr>\n",
       "  <th>Seasonal:</th>               <td>Additive</td>       <th>  AICC               </th>      <td>988.046</td>    \n",
       "</tr>\n",
       "<tr>\n",
       "  <th>Seasonal Periods:</th>          <td>12</td>          <th>  Date:              </th> <td>Fri, 17 Sep 2021</td>\n",
       "</tr>\n",
       "<tr>\n",
       "  <th>Box-Cox:</th>                  <td>False</td>        <th>  Time:              </th>     <td>09:31:29</td>    \n",
       "</tr>\n",
       "<tr>\n",
       "  <th>Box-Cox Coeff.:</th>           <td>None</td>         <th>                     </th>         <td> </td>       \n",
       "</tr>\n",
       "</table>\n",
       "<table class=\"simpletable\">\n",
       "<tr>\n",
       "           <td></td>                  <th>coeff</th>                <th>code</th>               <th>optimized</th>     \n",
       "</tr>\n",
       "<tr>\n",
       "  <th>smoothing_level</th>    <td>           0.3595047</td> <td>               alpha</td> <td>                True</td>\n",
       "</tr>\n",
       "<tr>\n",
       "  <th>smoothing_trend</th>    <td>           0.0734696</td> <td>                beta</td> <td>                True</td>\n",
       "</tr>\n",
       "<tr>\n",
       "  <th>smoothing_seasonal</th> <td>           0.0010320</td> <td>               gamma</td> <td>                True</td>\n",
       "</tr>\n",
       "<tr>\n",
       "  <th>initial_level</th>      <td>           42.120339</td> <td>                 l.0</td> <td>                True</td>\n",
       "</tr>\n",
       "<tr>\n",
       "  <th>initial_trend</th>      <td>          -1.4023651</td> <td>                 b.0</td> <td>                True</td>\n",
       "</tr>\n",
       "<tr>\n",
       "  <th>initial_seasons.0</th>  <td>          -8.1612573</td> <td>                 s.0</td> <td>                True</td>\n",
       "</tr>\n",
       "<tr>\n",
       "  <th>initial_seasons.1</th>  <td>          -11.616984</td> <td>                 s.1</td> <td>                True</td>\n",
       "</tr>\n",
       "<tr>\n",
       "  <th>initial_seasons.2</th>  <td>          -0.7084146</td> <td>                 s.2</td> <td>                True</td>\n",
       "</tr>\n",
       "<tr>\n",
       "  <th>initial_seasons.3</th>  <td>          -1.8835268</td> <td>                 s.3</td> <td>                True</td>\n",
       "</tr>\n",
       "<tr>\n",
       "  <th>initial_seasons.4</th>  <td>           1.5205403</td> <td>                 s.4</td> <td>                True</td>\n",
       "</tr>\n",
       "<tr>\n",
       "  <th>initial_seasons.5</th>  <td>           10.910588</td> <td>                 s.5</td> <td>                True</td>\n",
       "</tr>\n",
       "<tr>\n",
       "  <th>initial_seasons.6</th>  <td>           10.238955</td> <td>                 s.6</td> <td>                True</td>\n",
       "</tr>\n",
       "<tr>\n",
       "  <th>initial_seasons.7</th>  <td>           8.7940728</td> <td>                 s.7</td> <td>                True</td>\n",
       "</tr>\n",
       "<tr>\n",
       "  <th>initial_seasons.8</th>  <td>           5.9393842</td> <td>                 s.8</td> <td>                True</td>\n",
       "</tr>\n",
       "<tr>\n",
       "  <th>initial_seasons.9</th>  <td>          -0.8231746</td> <td>                 s.9</td> <td>                True</td>\n",
       "</tr>\n",
       "<tr>\n",
       "  <th>initial_seasons.10</th> <td>           5.4258172</td> <td>                s.10</td> <td>                True</td>\n",
       "</tr>\n",
       "<tr>\n",
       "  <th>initial_seasons.11</th> <td>          -0.9878413</td> <td>                s.11</td> <td>                True</td>\n",
       "</tr>\n",
       "</table>"
      ],
      "text/plain": [
       "<class 'statsmodels.iolib.summary.Summary'>\n",
       "\"\"\"\n",
       "                       ExponentialSmoothing Model Results                       \n",
       "================================================================================\n",
       "Dep. Variable:        Avg_sunspot_count   No. Observations:                  153\n",
       "Model:             ExponentialSmoothing   SSE                          76553.246\n",
       "Optimized:                         True   AIC                            982.941\n",
       "Trend:                         Additive   BIC                           1031.429\n",
       "Seasonal:                      Additive   AICC                           988.046\n",
       "Seasonal Periods:                    12   Date:                 Fri, 17 Sep 2021\n",
       "Box-Cox:                          False   Time:                         09:31:29\n",
       "Box-Cox Coeff.:                    None                                         \n",
       "=================================================================================\n",
       "                          coeff                 code              optimized      \n",
       "---------------------------------------------------------------------------------\n",
       "smoothing_level               0.3595047                alpha                 True\n",
       "smoothing_trend               0.0734696                 beta                 True\n",
       "smoothing_seasonal            0.0010320                gamma                 True\n",
       "initial_level                 42.120339                  l.0                 True\n",
       "initial_trend                -1.4023651                  b.0                 True\n",
       "initial_seasons.0            -8.1612573                  s.0                 True\n",
       "initial_seasons.1            -11.616984                  s.1                 True\n",
       "initial_seasons.2            -0.7084146                  s.2                 True\n",
       "initial_seasons.3            -1.8835268                  s.3                 True\n",
       "initial_seasons.4             1.5205403                  s.4                 True\n",
       "initial_seasons.5             10.910588                  s.5                 True\n",
       "initial_seasons.6             10.238955                  s.6                 True\n",
       "initial_seasons.7             8.7940728                  s.7                 True\n",
       "initial_seasons.8             5.9393842                  s.8                 True\n",
       "initial_seasons.9            -0.8231746                  s.9                 True\n",
       "initial_seasons.10            5.4258172                 s.10                 True\n",
       "initial_seasons.11           -0.9878413                 s.11                 True\n",
       "---------------------------------------------------------------------------------\n",
       "\"\"\""
      ]
     },
     "execution_count": 154,
     "metadata": {},
     "output_type": "execute_result"
    }
   ],
   "source": [
    "model_TES_add = model_TES_add.fit(optimized=True)\n",
    "model_TES_add.summary()"
   ]
  },
  {
   "cell_type": "code",
   "execution_count": 155,
   "id": "41838cd8",
   "metadata": {},
   "outputs": [],
   "source": [
    "TES_add_predict =  model_TES_add.forecast(len(test))"
   ]
  },
  {
   "cell_type": "code",
   "execution_count": 156,
   "id": "59efc79a",
   "metadata": {},
   "outputs": [
    {
     "data": {
      "image/png": "[encoded data removed]",
      "text/plain": [
       "<Figure size 1080x576 with 1 Axes>"
      ]
     },
     "metadata": {
      "needs_background": "light"
     },
     "output_type": "display_data"
    }
   ],
   "source": [
    "plt.rcParams['figure.figsize']=[15,8]\n",
    "plt.plot(train, label='Train')\n",
    "plt.plot(test, label='Test')\n",
    "\n",
    "plt.plot(TES_add_predict, label='TES forecast')\n",
    "plt.legend(loc='best')\n",
    "plt.grid()"
   ]
  },
  {
   "cell_type": "code",
   "execution_count": 157,
   "id": "9d6cb5b4",
   "metadata": {},
   "outputs": [
    {
     "data": {
      "text/plain": [
       "53.17386288626107"
      ]
     },
     "execution_count": 157,
     "metadata": {},
     "output_type": "execute_result"
    }
   ],
   "source": [
    "mean_squared_error(test.values,TES_add_predict.values,squared=False)"
   ]
  },
  {
   "cell_type": "markdown",
   "id": "68f27c04",
   "metadata": {},
   "source": [
    "# ARMA "
   ]
  },
  {
   "cell_type": "markdown",
   "id": "f430e717",
   "metadata": {},
   "source": [
    "Adfuller test\n"
   ]
  },
  {
   "cell_type": "code",
   "execution_count": 158,
   "id": "eb96d5e2",
   "metadata": {},
   "outputs": [],
   "source": [
    "observations= a1.values\n",
    "test_result = adfuller(observations)"
   ]
  },
  {
   "cell_type": "code",
   "execution_count": 159,
   "id": "ad080234",
   "metadata": {},
   "outputs": [
    {
     "name": "stdout",
     "output_type": "stream",
     "text": [
      "ADF Statistic: -1.946707\n",
      "p-value: 0.310418\n",
      "Critical Values:\n",
      "\t1%: -3.46806\n",
      "\t5%: -2.87811\n",
      "\t10%: -2.57560\n"
     ]
    }
   ],
   "source": [
    "print('ADF Statistic: %f' % test_result[0])\n",
    "print('p-value: %f' % test_result[1])\n",
    "print('Critical Values:')\n",
    "for key, value in test_result[4].items():\n",
    "\tprint('\\t%s: %.5f' % (key, value))"
   ]
  },
  {
   "cell_type": "markdown",
   "id": "01a578ed",
   "metadata": {},
   "source": [
    "since the p-value is 0.68 that is it is greater than 0.05 the series is not stationary so we have to do differencing"
   ]
  },
  {
   "cell_type": "code",
   "execution_count": 160,
   "id": "19927763",
   "metadata": {},
   "outputs": [
    {
     "name": "stdout",
     "output_type": "stream",
     "text": [
      "ADF Statistic: -3.724666\n",
      "p-value: 0.003779\n",
      "Critical Values:\n",
      "\t1%: -3.46721\n",
      "\t5%: -2.87773\n",
      "\t10%: -2.57540\n"
     ]
    }
   ],
   "source": [
    "df_diff = a1.diff(periods=2).dropna()\n",
    "observations= df_diff.values\n",
    "test_result = adfuller(observations)\n",
    "print('ADF Statistic: %f' % test_result[0])\n",
    "print('p-value: %f' % test_result[1])\n",
    "print('Critical Values:')\n",
    "for key, value in test_result[4].items():\n",
    "\tprint('\\t%s: %.5f' % (key, value))"
   ]
  },
  {
   "cell_type": "markdown",
   "id": "0cb14501",
   "metadata": {},
   "source": [
    "since the p-value is 0 that is it is lesser than 0.05 the series is  stationary "
   ]
  },
  {
   "cell_type": "code",
   "execution_count": 161,
   "id": "5eb98c98",
   "metadata": {
    "scrolled": false
   },
   "outputs": [
    {
     "data": {
      "image/png": "[encoded data removed]",
      "text/plain": [
       "<Figure size 1080x576 with 1 Axes>"
      ]
     },
     "metadata": {
      "needs_background": "light"
     },
     "output_type": "display_data"
    }
   ],
   "source": [
    "plt.rcParams['figure.figsize']=[15,8]\n",
    "plot_acf(df_diff);"
   ]
  },
  {
   "cell_type": "code",
   "execution_count": 162,
   "id": "f5b49b9a",
   "metadata": {},
   "outputs": [
    {
     "data": {
      "image/png": "[encoded data removed]",
      "text/plain": [
       "<Figure size 1080x576 with 1 Axes>"
      ]
     },
     "metadata": {
      "needs_background": "light"
     },
     "output_type": "display_data"
    }
   ],
   "source": [
    "plt.rcParams['figure.figsize']=[15,8]\n",
    "plot_pacf(df_diff);"
   ]
  },
  {
   "cell_type": "code",
   "execution_count": 163,
   "id": "aa960433",
   "metadata": {},
   "outputs": [
    {
     "name": "stdout",
     "output_type": "stream",
     "text": [
      "                              ARMA Model Results                              \n",
      "==============================================================================\n",
      "Dep. Variable:      Avg_sunspot_count   No. Observations:                  153\n",
      "Model:                     ARMA(2, 2)   Log Likelihood                -693.597\n",
      "Method:                       css-mle   S.D. of innovations             22.343\n",
      "Date:                Fri, 17 Sep 2021   AIC                           1399.193\n",
      "Time:                        09:31:30   BIC                           1417.376\n",
      "Sample:                    01-31-1995   HQIC                          1406.579\n",
      "                         - 09-30-2007                                         \n",
      "===========================================================================================\n",
      "                              coef    std err          z      P>|z|      [0.025      0.975]\n",
      "-------------------------------------------------------------------------------------------\n",
      "const                      54.0445     42.861      1.261      0.207     -29.962     138.051\n",
      "ar.L1.Avg_sunspot_count     0.6091      0.226      2.696      0.007       0.166       1.052\n",
      "ar.L2.Avg_sunspot_count     0.3711      0.222      1.674      0.094      -0.063       0.805\n",
      "ma.L1.Avg_sunspot_count     0.0502      0.201      0.250      0.803      -0.343       0.444\n",
      "ma.L2.Avg_sunspot_count    -0.4344      0.099     -4.389      0.000      -0.628      -0.240\n",
      "                                    Roots                                    \n",
      "=============================================================================\n",
      "                  Real          Imaginary           Modulus         Frequency\n",
      "-----------------------------------------------------------------------------\n",
      "AR.1            1.0146           +0.0000j            1.0146            0.0000\n",
      "AR.2           -2.6560           +0.0000j            2.6560            0.5000\n",
      "MA.1           -1.4606           +0.0000j            1.4606            0.5000\n",
      "MA.2            1.5762           +0.0000j            1.5762            0.0000\n",
      "-----------------------------------------------------------------------------\n"
     ]
    }
   ],
   "source": [
    "model=ARMA(train,(2,2))\n",
    "\n",
    "model_fit=model.fit()\n",
    "\n",
    "print(model_fit.summary())"
   ]
  },
  {
   "cell_type": "code",
   "execution_count": 164,
   "id": "44be0d1c",
   "metadata": {
    "scrolled": true
   },
   "outputs": [
    {
     "data": {
      "text/plain": [
       "(array([10.18967114, 12.82074805, 12.66043316, 13.53913917, 14.01488435,\n",
       "        14.63074521, 15.18241983, 15.74699246, 16.29560285, 16.83927664,\n",
       "        17.37402008, 17.90149198, 18.42122073, 18.9335346 , 19.43845855,\n",
       "        19.93612963, 20.42664053, 20.91009861, 21.38660364, 21.85625623,\n",
       "        22.3191547 , 22.77539625, 23.22507661, 23.66829012, 24.10512979,\n",
       "        24.53568728, 24.96005293, 25.37831579, 25.79056363, 26.19688293,\n",
       "        26.59735897, 26.99207578, 27.38111617, 27.76456178, 28.14249307,\n",
       "        28.51498934, 28.88212875, 29.24398834, 29.60064404]),\n",
       " array([22.3430657 , 26.76252381, 27.80964752, 29.57712442, 30.89863019,\n",
       "        32.23424576, 33.44320485, 34.59060138, 35.66507386, 36.68048004,\n",
       "        37.64003986, 38.5495628 , 39.41293802, 40.23395244, 41.01577768,\n",
       "        41.76126832, 42.47294195, 43.15305675, 43.80363999, 44.42652377,\n",
       "        45.02336994, 45.59569248, 46.14487554, 46.67218904, 47.17880167,\n",
       "        47.66579213, 48.13415871, 48.58482763, 49.01866021, 49.43645917,\n",
       "        49.83897412, 50.22690643, 50.60091344, 50.96161232, 51.30958336,\n",
       "        51.64537303, 51.96949664, 52.28244074, 52.58466532]),\n",
       " array([[-33.60193294,  53.98127521],\n",
       "        [-39.63283476,  65.27433086],\n",
       "        [-41.8454744 ,  67.16634072],\n",
       "        [-44.43095945,  71.50923779],\n",
       "        [-46.54531799,  74.57508669],\n",
       "        [-48.54721556,  77.80870598],\n",
       "        [-50.36505721,  80.72989687],\n",
       "        [-52.04934045,  83.54332536],\n",
       "        [-53.60665741,  86.19786312],\n",
       "        [-55.05314317,  88.73169645],\n",
       "        [-56.39910242,  91.14714259],\n",
       "        [-57.65426272,  93.45724669],\n",
       "        [-58.82671832,  95.66915977],\n",
       "        [-59.92356315,  97.79063234],\n",
       "        [-60.9509885 ,  99.82790561],\n",
       "        [-61.91445224, 101.78671149],\n",
       "        [-62.818796  , 103.67207707],\n",
       "        [-63.66833844, 105.48853566],\n",
       "        [-64.46695312, 107.2401604 ],\n",
       "        [-65.21813031, 108.93064277],\n",
       "        [-65.92502886, 110.56333825],\n",
       "        [-66.59051885, 112.14131136],\n",
       "        [-67.21721753, 113.66737074],\n",
       "        [-67.80751949, 115.14409972],\n",
       "        [-68.36362233, 116.5738819 ],\n",
       "        [-68.88754859, 117.95892315],\n",
       "        [-69.38116457, 119.30127043],\n",
       "        [-69.84619656, 120.60282815],\n",
       "        [-70.28424496, 121.86537221],\n",
       "        [-70.69679656, 123.09056243],\n",
       "        [-71.08523534, 124.27995328],\n",
       "        [-71.45085188, 125.43500343],\n",
       "        [-71.79485176, 126.5570841 ],\n",
       "        [-72.11836295, 127.64748652],\n",
       "        [-72.42244237, 128.70742852],\n",
       "        [-72.70808177, 129.73806045],\n",
       "        [-72.97621295, 130.74047046],\n",
       "        [-73.22771253, 131.71568922],\n",
       "        [-73.46340612, 132.6646942 ]]))"
      ]
     },
     "execution_count": 164,
     "metadata": {},
     "output_type": "execute_result"
    }
   ],
   "source": [
    "pred_start=test.index[0]\n",
    "pred_end=test.index[-1]\n",
    "\n",
    "pred_end\n",
    "\n",
    "predictions=model_fit.predict(start=pred_start, end=pred_end)\n",
    "\n",
    "predictions1=model_fit.forecast(len(test))#TES_add_predict =  model_TES_add.forecast(len(test))\n",
    "\n",
    "predictions1"
   ]
  },
  {
   "cell_type": "code",
   "execution_count": 165,
   "id": "cb7590ce",
   "metadata": {},
   "outputs": [
    {
     "data": {
      "image/png": "[encoded data removed]",
      "text/plain": [
       "<Figure size 1080x576 with 1 Axes>"
      ]
     },
     "metadata": {
      "needs_background": "light"
     },
     "output_type": "display_data"
    }
   ],
   "source": [
    "plt.plot(train,label='Training Data')\n",
    "plt.plot(test,label='Test Data')\n",
    "plt.plot(test.index,predictions,label='Predicted Data - ARMA(1,1)')\n",
    "plt.legend(loc='best')\n",
    "plt.grid();"
   ]
  },
  {
   "cell_type": "code",
   "execution_count": 166,
   "id": "d8641286",
   "metadata": {},
   "outputs": [
    {
     "data": {
      "text/plain": [
       "13.305847155907717"
      ]
     },
     "execution_count": 166,
     "metadata": {},
     "output_type": "execute_result"
    }
   ],
   "source": [
    "mean_squared_error(test.values,predictions.values,squared=False)"
   ]
  },
  {
   "cell_type": "markdown",
   "id": "0f844fa6",
   "metadata": {},
   "source": [
    "# ARIMA"
   ]
  },
  {
   "cell_type": "code",
   "execution_count": 167,
   "id": "1ff13bb9",
   "metadata": {
    "scrolled": false
   },
   "outputs": [
    {
     "data": {
      "image/png": "[encoded data removed]",
      "text/plain": [
       "<Figure size 1080x576 with 1 Axes>"
      ]
     },
     "metadata": {
      "needs_background": "light"
     },
     "output_type": "display_data"
    }
   ],
   "source": [
    "plt.rcParams['figure.figsize']=[15,8]\n",
    "plot_acf(df_diff);"
   ]
  },
  {
   "cell_type": "code",
   "execution_count": 168,
   "id": "d15b92e3",
   "metadata": {},
   "outputs": [
    {
     "data": {
      "image/png": "[encoded data removed]",
      "text/plain": [
       "<Figure size 1080x576 with 1 Axes>"
      ]
     },
     "metadata": {
      "needs_background": "light"
     },
     "output_type": "display_data"
    }
   ],
   "source": [
    "plt.rcParams['figure.figsize']=[15,8]\n",
    "plot_pacf(df_diff);"
   ]
  },
  {
   "cell_type": "code",
   "execution_count": 169,
   "id": "6cfa5294",
   "metadata": {
    "scrolled": true
   },
   "outputs": [
    {
     "name": "stdout",
     "output_type": "stream",
     "text": [
      "parameter combinations for the Model\n",
      "Model: (0, 1, 1)\n",
      "Model: (0, 1, 2)\n",
      "Model: (0, 1, 3)\n",
      "Model: (0, 1, 4)\n",
      "Model: (0, 1, 5)\n",
      "Model: (0, 1, 6)\n",
      "Model: (0, 1, 7)\n",
      "Model: (0, 1, 8)\n",
      "Model: (0, 2, 0)\n",
      "Model: (0, 2, 1)\n",
      "Model: (0, 2, 2)\n",
      "Model: (0, 2, 3)\n",
      "Model: (0, 2, 4)\n",
      "Model: (0, 2, 5)\n",
      "Model: (0, 2, 6)\n",
      "Model: (0, 2, 7)\n",
      "Model: (0, 2, 8)\n",
      "Model: (0, 3, 0)\n",
      "Model: (0, 3, 1)\n",
      "Model: (0, 3, 2)\n",
      "Model: (0, 3, 3)\n",
      "Model: (0, 3, 4)\n",
      "Model: (0, 3, 5)\n",
      "Model: (0, 3, 6)\n",
      "Model: (0, 3, 7)\n",
      "Model: (0, 3, 8)\n",
      "Model: (0, 4, 0)\n",
      "Model: (0, 4, 1)\n",
      "Model: (0, 4, 2)\n",
      "Model: (0, 4, 3)\n",
      "Model: (0, 4, 4)\n",
      "Model: (0, 4, 5)\n",
      "Model: (0, 4, 6)\n",
      "Model: (0, 4, 7)\n",
      "Model: (0, 4, 8)\n",
      "Model: (0, 5, 0)\n",
      "Model: (0, 5, 1)\n",
      "Model: (0, 5, 2)\n",
      "Model: (0, 5, 3)\n",
      "Model: (0, 5, 4)\n",
      "Model: (0, 5, 5)\n",
      "Model: (0, 5, 6)\n",
      "Model: (0, 5, 7)\n",
      "Model: (0, 5, 8)\n",
      "Model: (0, 6, 0)\n",
      "Model: (0, 6, 1)\n",
      "Model: (0, 6, 2)\n",
      "Model: (0, 6, 3)\n",
      "Model: (0, 6, 4)\n",
      "Model: (0, 6, 5)\n",
      "Model: (0, 6, 6)\n",
      "Model: (0, 6, 7)\n",
      "Model: (0, 6, 8)\n",
      "Model: (0, 7, 0)\n",
      "Model: (0, 7, 1)\n",
      "Model: (0, 7, 2)\n",
      "Model: (0, 7, 3)\n",
      "Model: (0, 7, 4)\n",
      "Model: (0, 7, 5)\n",
      "Model: (0, 7, 6)\n",
      "Model: (0, 7, 7)\n",
      "Model: (0, 7, 8)\n",
      "Model: (0, 8, 0)\n",
      "Model: (0, 8, 1)\n",
      "Model: (0, 8, 2)\n",
      "Model: (0, 8, 3)\n",
      "Model: (0, 8, 4)\n",
      "Model: (0, 8, 5)\n",
      "Model: (0, 8, 6)\n",
      "Model: (0, 8, 7)\n",
      "Model: (0, 8, 8)\n",
      "Model: (0, 9, 0)\n",
      "Model: (0, 9, 1)\n",
      "Model: (0, 9, 2)\n",
      "Model: (0, 9, 3)\n",
      "Model: (0, 9, 4)\n",
      "Model: (0, 9, 5)\n",
      "Model: (0, 9, 6)\n",
      "Model: (0, 9, 7)\n",
      "Model: (0, 9, 8)\n",
      "Model: (1, 1, 0)\n",
      "Model: (1, 1, 1)\n",
      "Model: (1, 1, 2)\n",
      "Model: (1, 1, 3)\n",
      "Model: (1, 1, 4)\n",
      "Model: (1, 1, 5)\n",
      "Model: (1, 1, 6)\n",
      "Model: (1, 1, 7)\n",
      "Model: (1, 1, 8)\n",
      "Model: (1, 2, 0)\n",
      "Model: (1, 2, 1)\n",
      "Model: (1, 2, 2)\n",
      "Model: (1, 2, 3)\n",
      "Model: (1, 2, 4)\n",
      "Model: (1, 2, 5)\n",
      "Model: (1, 2, 6)\n",
      "Model: (1, 2, 7)\n",
      "Model: (1, 2, 8)\n",
      "Model: (1, 3, 0)\n",
      "Model: (1, 3, 1)\n",
      "Model: (1, 3, 2)\n",
      "Model: (1, 3, 3)\n",
      "Model: (1, 3, 4)\n",
      "Model: (1, 3, 5)\n",
      "Model: (1, 3, 6)\n",
      "Model: (1, 3, 7)\n",
      "Model: (1, 3, 8)\n",
      "Model: (1, 4, 0)\n",
      "Model: (1, 4, 1)\n",
      "Model: (1, 4, 2)\n",
      "Model: (1, 4, 3)\n",
      "Model: (1, 4, 4)\n",
      "Model: (1, 4, 5)\n",
      "Model: (1, 4, 6)\n",
      "Model: (1, 4, 7)\n",
      "Model: (1, 4, 8)\n",
      "Model: (1, 5, 0)\n",
      "Model: (1, 5, 1)\n",
      "Model: (1, 5, 2)\n",
      "Model: (1, 5, 3)\n",
      "Model: (1, 5, 4)\n",
      "Model: (1, 5, 5)\n",
      "Model: (1, 5, 6)\n",
      "Model: (1, 5, 7)\n",
      "Model: (1, 5, 8)\n",
      "Model: (1, 6, 0)\n",
      "Model: (1, 6, 1)\n",
      "Model: (1, 6, 2)\n",
      "Model: (1, 6, 3)\n",
      "Model: (1, 6, 4)\n",
      "Model: (1, 6, 5)\n",
      "Model: (1, 6, 6)\n",
      "Model: (1, 6, 7)\n",
      "Model: (1, 6, 8)\n",
      "Model: (1, 7, 0)\n",
      "Model: (1, 7, 1)\n",
      "Model: (1, 7, 2)\n",
      "Model: (1, 7, 3)\n",
      "Model: (1, 7, 4)\n",
      "Model: (1, 7, 5)\n",
      "Model: (1, 7, 6)\n",
      "Model: (1, 7, 7)\n",
      "Model: (1, 7, 8)\n",
      "Model: (1, 8, 0)\n",
      "Model: (1, 8, 1)\n",
      "Model: (1, 8, 2)\n",
      "Model: (1, 8, 3)\n",
      "Model: (1, 8, 4)\n",
      "Model: (1, 8, 5)\n",
      "Model: (1, 8, 6)\n",
      "Model: (1, 8, 7)\n",
      "Model: (1, 8, 8)\n",
      "Model: (1, 9, 0)\n",
      "Model: (1, 9, 1)\n",
      "Model: (1, 9, 2)\n",
      "Model: (1, 9, 3)\n",
      "Model: (1, 9, 4)\n",
      "Model: (1, 9, 5)\n",
      "Model: (1, 9, 6)\n",
      "Model: (1, 9, 7)\n",
      "Model: (1, 9, 8)\n",
      "Model: (2, 1, 0)\n",
      "Model: (2, 1, 1)\n",
      "Model: (2, 1, 2)\n",
      "Model: (2, 1, 3)\n",
      "Model: (2, 1, 4)\n",
      "Model: (2, 1, 5)\n",
      "Model: (2, 1, 6)\n",
      "Model: (2, 1, 7)\n",
      "Model: (2, 1, 8)\n",
      "Model: (2, 2, 0)\n",
      "Model: (2, 2, 1)\n",
      "Model: (2, 2, 2)\n",
      "Model: (2, 2, 3)\n",
      "Model: (2, 2, 4)\n",
      "Model: (2, 2, 5)\n",
      "Model: (2, 2, 6)\n",
      "Model: (2, 2, 7)\n",
      "Model: (2, 2, 8)\n",
      "Model: (2, 3, 0)\n",
      "Model: (2, 3, 1)\n",
      "Model: (2, 3, 2)\n",
      "Model: (2, 3, 3)\n",
      "Model: (2, 3, 4)\n",
      "Model: (2, 3, 5)\n",
      "Model: (2, 3, 6)\n",
      "Model: (2, 3, 7)\n",
      "Model: (2, 3, 8)\n",
      "Model: (2, 4, 0)\n",
      "Model: (2, 4, 1)\n",
      "Model: (2, 4, 2)\n",
      "Model: (2, 4, 3)\n",
      "Model: (2, 4, 4)\n",
      "Model: (2, 4, 5)\n",
      "Model: (2, 4, 6)\n",
      "Model: (2, 4, 7)\n",
      "Model: (2, 4, 8)\n",
      "Model: (2, 5, 0)\n",
      "Model: (2, 5, 1)\n",
      "Model: (2, 5, 2)\n",
      "Model: (2, 5, 3)\n",
      "Model: (2, 5, 4)\n",
      "Model: (2, 5, 5)\n",
      "Model: (2, 5, 6)\n",
      "Model: (2, 5, 7)\n",
      "Model: (2, 5, 8)\n",
      "Model: (2, 6, 0)\n",
      "Model: (2, 6, 1)\n",
      "Model: (2, 6, 2)\n",
      "Model: (2, 6, 3)\n",
      "Model: (2, 6, 4)\n",
      "Model: (2, 6, 5)\n",
      "Model: (2, 6, 6)\n",
      "Model: (2, 6, 7)\n",
      "Model: (2, 6, 8)\n",
      "Model: (2, 7, 0)\n",
      "Model: (2, 7, 1)\n",
      "Model: (2, 7, 2)\n",
      "Model: (2, 7, 3)\n",
      "Model: (2, 7, 4)\n",
      "Model: (2, 7, 5)\n",
      "Model: (2, 7, 6)\n",
      "Model: (2, 7, 7)\n",
      "Model: (2, 7, 8)\n",
      "Model: (2, 8, 0)\n",
      "Model: (2, 8, 1)\n",
      "Model: (2, 8, 2)\n",
      "Model: (2, 8, 3)\n",
      "Model: (2, 8, 4)\n",
      "Model: (2, 8, 5)\n",
      "Model: (2, 8, 6)\n",
      "Model: (2, 8, 7)\n",
      "Model: (2, 8, 8)\n",
      "Model: (2, 9, 0)\n",
      "Model: (2, 9, 1)\n",
      "Model: (2, 9, 2)\n",
      "Model: (2, 9, 3)\n",
      "Model: (2, 9, 4)\n",
      "Model: (2, 9, 5)\n",
      "Model: (2, 9, 6)\n",
      "Model: (2, 9, 7)\n",
      "Model: (2, 9, 8)\n",
      "Model: (3, 1, 0)\n",
      "Model: (3, 1, 1)\n",
      "Model: (3, 1, 2)\n",
      "Model: (3, 1, 3)\n",
      "Model: (3, 1, 4)\n",
      "Model: (3, 1, 5)\n",
      "Model: (3, 1, 6)\n",
      "Model: (3, 1, 7)\n",
      "Model: (3, 1, 8)\n",
      "Model: (3, 2, 0)\n",
      "Model: (3, 2, 1)\n",
      "Model: (3, 2, 2)\n",
      "Model: (3, 2, 3)\n",
      "Model: (3, 2, 4)\n",
      "Model: (3, 2, 5)\n",
      "Model: (3, 2, 6)\n",
      "Model: (3, 2, 7)\n",
      "Model: (3, 2, 8)\n",
      "Model: (3, 3, 0)\n",
      "Model: (3, 3, 1)\n",
      "Model: (3, 3, 2)\n",
      "Model: (3, 3, 3)\n",
      "Model: (3, 3, 4)\n",
      "Model: (3, 3, 5)\n",
      "Model: (3, 3, 6)\n",
      "Model: (3, 3, 7)\n",
      "Model: (3, 3, 8)\n",
      "Model: (3, 4, 0)\n",
      "Model: (3, 4, 1)\n",
      "Model: (3, 4, 2)\n",
      "Model: (3, 4, 3)\n",
      "Model: (3, 4, 4)\n",
      "Model: (3, 4, 5)\n",
      "Model: (3, 4, 6)\n",
      "Model: (3, 4, 7)\n",
      "Model: (3, 4, 8)\n",
      "Model: (3, 5, 0)\n",
      "Model: (3, 5, 1)\n",
      "Model: (3, 5, 2)\n",
      "Model: (3, 5, 3)\n",
      "Model: (3, 5, 4)\n",
      "Model: (3, 5, 5)\n",
      "Model: (3, 5, 6)\n",
      "Model: (3, 5, 7)\n",
      "Model: (3, 5, 8)\n",
      "Model: (3, 6, 0)\n",
      "Model: (3, 6, 1)\n",
      "Model: (3, 6, 2)\n",
      "Model: (3, 6, 3)\n",
      "Model: (3, 6, 4)\n",
      "Model: (3, 6, 5)\n",
      "Model: (3, 6, 6)\n",
      "Model: (3, 6, 7)\n",
      "Model: (3, 6, 8)\n",
      "Model: (3, 7, 0)\n",
      "Model: (3, 7, 1)\n",
      "Model: (3, 7, 2)\n",
      "Model: (3, 7, 3)\n",
      "Model: (3, 7, 4)\n",
      "Model: (3, 7, 5)\n",
      "Model: (3, 7, 6)\n",
      "Model: (3, 7, 7)\n",
      "Model: (3, 7, 8)\n",
      "Model: (3, 8, 0)\n",
      "Model: (3, 8, 1)\n",
      "Model: (3, 8, 2)\n",
      "Model: (3, 8, 3)\n",
      "Model: (3, 8, 4)\n",
      "Model: (3, 8, 5)\n",
      "Model: (3, 8, 6)\n",
      "Model: (3, 8, 7)\n",
      "Model: (3, 8, 8)\n",
      "Model: (3, 9, 0)\n",
      "Model: (3, 9, 1)\n",
      "Model: (3, 9, 2)\n",
      "Model: (3, 9, 3)\n",
      "Model: (3, 9, 4)\n",
      "Model: (3, 9, 5)\n",
      "Model: (3, 9, 6)\n",
      "Model: (3, 9, 7)\n",
      "Model: (3, 9, 8)\n",
      "Model: (4, 1, 0)\n",
      "Model: (4, 1, 1)\n",
      "Model: (4, 1, 2)\n",
      "Model: (4, 1, 3)\n",
      "Model: (4, 1, 4)\n",
      "Model: (4, 1, 5)\n",
      "Model: (4, 1, 6)\n",
      "Model: (4, 1, 7)\n",
      "Model: (4, 1, 8)\n",
      "Model: (4, 2, 0)\n",
      "Model: (4, 2, 1)\n",
      "Model: (4, 2, 2)\n",
      "Model: (4, 2, 3)\n",
      "Model: (4, 2, 4)\n",
      "Model: (4, 2, 5)\n",
      "Model: (4, 2, 6)\n",
      "Model: (4, 2, 7)\n",
      "Model: (4, 2, 8)\n",
      "Model: (4, 3, 0)\n",
      "Model: (4, 3, 1)\n",
      "Model: (4, 3, 2)\n",
      "Model: (4, 3, 3)\n",
      "Model: (4, 3, 4)\n",
      "Model: (4, 3, 5)\n",
      "Model: (4, 3, 6)\n",
      "Model: (4, 3, 7)\n",
      "Model: (4, 3, 8)\n",
      "Model: (4, 4, 0)\n",
      "Model: (4, 4, 1)\n",
      "Model: (4, 4, 2)\n",
      "Model: (4, 4, 3)\n",
      "Model: (4, 4, 4)\n",
      "Model: (4, 4, 5)\n",
      "Model: (4, 4, 6)\n",
      "Model: (4, 4, 7)\n",
      "Model: (4, 4, 8)\n",
      "Model: (4, 5, 0)\n",
      "Model: (4, 5, 1)\n",
      "Model: (4, 5, 2)\n",
      "Model: (4, 5, 3)\n",
      "Model: (4, 5, 4)\n",
      "Model: (4, 5, 5)\n",
      "Model: (4, 5, 6)\n",
      "Model: (4, 5, 7)\n",
      "Model: (4, 5, 8)\n",
      "Model: (4, 6, 0)\n",
      "Model: (4, 6, 1)\n",
      "Model: (4, 6, 2)\n",
      "Model: (4, 6, 3)\n",
      "Model: (4, 6, 4)\n",
      "Model: (4, 6, 5)\n",
      "Model: (4, 6, 6)\n",
      "Model: (4, 6, 7)\n",
      "Model: (4, 6, 8)\n",
      "Model: (4, 7, 0)\n",
      "Model: (4, 7, 1)\n",
      "Model: (4, 7, 2)\n",
      "Model: (4, 7, 3)\n",
      "Model: (4, 7, 4)\n",
      "Model: (4, 7, 5)\n",
      "Model: (4, 7, 6)\n",
      "Model: (4, 7, 7)\n",
      "Model: (4, 7, 8)\n",
      "Model: (4, 8, 0)\n",
      "Model: (4, 8, 1)\n",
      "Model: (4, 8, 2)\n",
      "Model: (4, 8, 3)\n",
      "Model: (4, 8, 4)\n",
      "Model: (4, 8, 5)\n",
      "Model: (4, 8, 6)\n",
      "Model: (4, 8, 7)\n",
      "Model: (4, 8, 8)\n",
      "Model: (4, 9, 0)\n",
      "Model: (4, 9, 1)\n",
      "Model: (4, 9, 2)\n",
      "Model: (4, 9, 3)\n",
      "Model: (4, 9, 4)\n",
      "Model: (4, 9, 5)\n",
      "Model: (4, 9, 6)\n",
      "Model: (4, 9, 7)\n",
      "Model: (4, 9, 8)\n",
      "Model: (5, 1, 0)\n",
      "Model: (5, 1, 1)\n",
      "Model: (5, 1, 2)\n",
      "Model: (5, 1, 3)\n",
      "Model: (5, 1, 4)\n",
      "Model: (5, 1, 5)\n",
      "Model: (5, 1, 6)\n",
      "Model: (5, 1, 7)\n",
      "Model: (5, 1, 8)\n",
      "Model: (5, 2, 0)\n",
      "Model: (5, 2, 1)\n",
      "Model: (5, 2, 2)\n",
      "Model: (5, 2, 3)\n",
      "Model: (5, 2, 4)\n",
      "Model: (5, 2, 5)\n",
      "Model: (5, 2, 6)\n",
      "Model: (5, 2, 7)\n",
      "Model: (5, 2, 8)\n",
      "Model: (5, 3, 0)\n",
      "Model: (5, 3, 1)\n",
      "Model: (5, 3, 2)\n",
      "Model: (5, 3, 3)\n",
      "Model: (5, 3, 4)\n",
      "Model: (5, 3, 5)\n",
      "Model: (5, 3, 6)\n",
      "Model: (5, 3, 7)\n",
      "Model: (5, 3, 8)\n",
      "Model: (5, 4, 0)\n",
      "Model: (5, 4, 1)\n",
      "Model: (5, 4, 2)\n",
      "Model: (5, 4, 3)\n",
      "Model: (5, 4, 4)\n",
      "Model: (5, 4, 5)\n",
      "Model: (5, 4, 6)\n",
      "Model: (5, 4, 7)\n",
      "Model: (5, 4, 8)\n",
      "Model: (5, 5, 0)\n",
      "Model: (5, 5, 1)\n",
      "Model: (5, 5, 2)\n",
      "Model: (5, 5, 3)\n",
      "Model: (5, 5, 4)\n",
      "Model: (5, 5, 5)\n",
      "Model: (5, 5, 6)\n",
      "Model: (5, 5, 7)\n",
      "Model: (5, 5, 8)\n",
      "Model: (5, 6, 0)\n",
      "Model: (5, 6, 1)\n",
      "Model: (5, 6, 2)\n",
      "Model: (5, 6, 3)\n",
      "Model: (5, 6, 4)\n",
      "Model: (5, 6, 5)\n",
      "Model: (5, 6, 6)\n",
      "Model: (5, 6, 7)\n",
      "Model: (5, 6, 8)\n",
      "Model: (5, 7, 0)\n",
      "Model: (5, 7, 1)\n",
      "Model: (5, 7, 2)\n",
      "Model: (5, 7, 3)\n",
      "Model: (5, 7, 4)\n",
      "Model: (5, 7, 5)\n",
      "Model: (5, 7, 6)\n",
      "Model: (5, 7, 7)\n",
      "Model: (5, 7, 8)\n",
      "Model: (5, 8, 0)\n",
      "Model: (5, 8, 1)\n",
      "Model: (5, 8, 2)\n",
      "Model: (5, 8, 3)\n",
      "Model: (5, 8, 4)\n",
      "Model: (5, 8, 5)\n",
      "Model: (5, 8, 6)\n",
      "Model: (5, 8, 7)\n",
      "Model: (5, 8, 8)\n",
      "Model: (5, 9, 0)\n",
      "Model: (5, 9, 1)\n",
      "Model: (5, 9, 2)\n",
      "Model: (5, 9, 3)\n",
      "Model: (5, 9, 4)\n",
      "Model: (5, 9, 5)\n",
      "Model: (5, 9, 6)\n",
      "Model: (5, 9, 7)\n",
      "Model: (5, 9, 8)\n",
      "Model: (6, 1, 0)\n",
      "Model: (6, 1, 1)\n",
      "Model: (6, 1, 2)\n",
      "Model: (6, 1, 3)\n",
      "Model: (6, 1, 4)\n",
      "Model: (6, 1, 5)\n",
      "Model: (6, 1, 6)\n",
      "Model: (6, 1, 7)\n",
      "Model: (6, 1, 8)\n",
      "Model: (6, 2, 0)\n",
      "Model: (6, 2, 1)\n",
      "Model: (6, 2, 2)\n",
      "Model: (6, 2, 3)\n",
      "Model: (6, 2, 4)\n",
      "Model: (6, 2, 5)\n",
      "Model: (6, 2, 6)\n",
      "Model: (6, 2, 7)\n",
      "Model: (6, 2, 8)\n",
      "Model: (6, 3, 0)\n",
      "Model: (6, 3, 1)\n",
      "Model: (6, 3, 2)\n",
      "Model: (6, 3, 3)\n",
      "Model: (6, 3, 4)\n",
      "Model: (6, 3, 5)\n",
      "Model: (6, 3, 6)\n",
      "Model: (6, 3, 7)\n",
      "Model: (6, 3, 8)\n",
      "Model: (6, 4, 0)\n",
      "Model: (6, 4, 1)\n",
      "Model: (6, 4, 2)\n",
      "Model: (6, 4, 3)\n",
      "Model: (6, 4, 4)\n",
      "Model: (6, 4, 5)\n",
      "Model: (6, 4, 6)\n",
      "Model: (6, 4, 7)\n",
      "Model: (6, 4, 8)\n",
      "Model: (6, 5, 0)\n",
      "Model: (6, 5, 1)\n",
      "Model: (6, 5, 2)\n",
      "Model: (6, 5, 3)\n",
      "Model: (6, 5, 4)\n",
      "Model: (6, 5, 5)\n",
      "Model: (6, 5, 6)\n",
      "Model: (6, 5, 7)\n",
      "Model: (6, 5, 8)\n",
      "Model: (6, 6, 0)\n",
      "Model: (6, 6, 1)\n",
      "Model: (6, 6, 2)\n",
      "Model: (6, 6, 3)\n",
      "Model: (6, 6, 4)\n",
      "Model: (6, 6, 5)\n",
      "Model: (6, 6, 6)\n",
      "Model: (6, 6, 7)\n",
      "Model: (6, 6, 8)\n",
      "Model: (6, 7, 0)\n",
      "Model: (6, 7, 1)\n",
      "Model: (6, 7, 2)\n",
      "Model: (6, 7, 3)\n",
      "Model: (6, 7, 4)\n",
      "Model: (6, 7, 5)\n",
      "Model: (6, 7, 6)\n",
      "Model: (6, 7, 7)\n",
      "Model: (6, 7, 8)\n",
      "Model: (6, 8, 0)\n",
      "Model: (6, 8, 1)\n",
      "Model: (6, 8, 2)\n",
      "Model: (6, 8, 3)\n",
      "Model: (6, 8, 4)\n",
      "Model: (6, 8, 5)\n",
      "Model: (6, 8, 6)\n",
      "Model: (6, 8, 7)\n",
      "Model: (6, 8, 8)\n",
      "Model: (6, 9, 0)\n",
      "Model: (6, 9, 1)\n",
      "Model: (6, 9, 2)\n",
      "Model: (6, 9, 3)\n",
      "Model: (6, 9, 4)\n",
      "Model: (6, 9, 5)\n",
      "Model: (6, 9, 6)\n",
      "Model: (6, 9, 7)\n",
      "Model: (6, 9, 8)\n",
      "Model: (7, 1, 0)\n",
      "Model: (7, 1, 1)\n",
      "Model: (7, 1, 2)\n",
      "Model: (7, 1, 3)\n",
      "Model: (7, 1, 4)\n",
      "Model: (7, 1, 5)\n",
      "Model: (7, 1, 6)\n",
      "Model: (7, 1, 7)\n",
      "Model: (7, 1, 8)\n",
      "Model: (7, 2, 0)\n",
      "Model: (7, 2, 1)\n",
      "Model: (7, 2, 2)\n",
      "Model: (7, 2, 3)\n",
      "Model: (7, 2, 4)\n",
      "Model: (7, 2, 5)\n",
      "Model: (7, 2, 6)\n",
      "Model: (7, 2, 7)\n",
      "Model: (7, 2, 8)\n",
      "Model: (7, 3, 0)\n",
      "Model: (7, 3, 1)\n",
      "Model: (7, 3, 2)\n",
      "Model: (7, 3, 3)\n",
      "Model: (7, 3, 4)\n",
      "Model: (7, 3, 5)\n",
      "Model: (7, 3, 6)\n",
      "Model: (7, 3, 7)\n",
      "Model: (7, 3, 8)\n",
      "Model: (7, 4, 0)\n",
      "Model: (7, 4, 1)\n",
      "Model: (7, 4, 2)\n",
      "Model: (7, 4, 3)\n",
      "Model: (7, 4, 4)\n",
      "Model: (7, 4, 5)\n",
      "Model: (7, 4, 6)\n",
      "Model: (7, 4, 7)\n",
      "Model: (7, 4, 8)\n",
      "Model: (7, 5, 0)\n",
      "Model: (7, 5, 1)\n",
      "Model: (7, 5, 2)\n",
      "Model: (7, 5, 3)\n",
      "Model: (7, 5, 4)\n",
      "Model: (7, 5, 5)\n",
      "Model: (7, 5, 6)\n",
      "Model: (7, 5, 7)\n",
      "Model: (7, 5, 8)\n",
      "Model: (7, 6, 0)\n",
      "Model: (7, 6, 1)\n",
      "Model: (7, 6, 2)\n",
      "Model: (7, 6, 3)\n",
      "Model: (7, 6, 4)\n",
      "Model: (7, 6, 5)\n",
      "Model: (7, 6, 6)\n",
      "Model: (7, 6, 7)\n",
      "Model: (7, 6, 8)\n",
      "Model: (7, 7, 0)\n",
      "Model: (7, 7, 1)\n",
      "Model: (7, 7, 2)\n",
      "Model: (7, 7, 3)\n",
      "Model: (7, 7, 4)\n",
      "Model: (7, 7, 5)\n",
      "Model: (7, 7, 6)\n",
      "Model: (7, 7, 7)\n",
      "Model: (7, 7, 8)\n",
      "Model: (7, 8, 0)\n",
      "Model: (7, 8, 1)\n",
      "Model: (7, 8, 2)\n",
      "Model: (7, 8, 3)\n",
      "Model: (7, 8, 4)\n",
      "Model: (7, 8, 5)\n",
      "Model: (7, 8, 6)\n",
      "Model: (7, 8, 7)\n",
      "Model: (7, 8, 8)\n",
      "Model: (7, 9, 0)\n",
      "Model: (7, 9, 1)\n",
      "Model: (7, 9, 2)\n",
      "Model: (7, 9, 3)\n",
      "Model: (7, 9, 4)\n",
      "Model: (7, 9, 5)\n",
      "Model: (7, 9, 6)\n",
      "Model: (7, 9, 7)\n",
      "Model: (7, 9, 8)\n",
      "Model: (8, 1, 0)\n",
      "Model: (8, 1, 1)\n",
      "Model: (8, 1, 2)\n",
      "Model: (8, 1, 3)\n",
      "Model: (8, 1, 4)\n",
      "Model: (8, 1, 5)\n",
      "Model: (8, 1, 6)\n",
      "Model: (8, 1, 7)\n",
      "Model: (8, 1, 8)\n",
      "Model: (8, 2, 0)\n",
      "Model: (8, 2, 1)\n",
      "Model: (8, 2, 2)\n",
      "Model: (8, 2, 3)\n",
      "Model: (8, 2, 4)\n",
      "Model: (8, 2, 5)\n",
      "Model: (8, 2, 6)\n",
      "Model: (8, 2, 7)\n",
      "Model: (8, 2, 8)\n",
      "Model: (8, 3, 0)\n",
      "Model: (8, 3, 1)\n",
      "Model: (8, 3, 2)\n",
      "Model: (8, 3, 3)\n",
      "Model: (8, 3, 4)\n",
      "Model: (8, 3, 5)\n",
      "Model: (8, 3, 6)\n",
      "Model: (8, 3, 7)\n",
      "Model: (8, 3, 8)\n",
      "Model: (8, 4, 0)\n",
      "Model: (8, 4, 1)\n",
      "Model: (8, 4, 2)\n",
      "Model: (8, 4, 3)\n",
      "Model: (8, 4, 4)\n",
      "Model: (8, 4, 5)\n",
      "Model: (8, 4, 6)\n",
      "Model: (8, 4, 7)\n",
      "Model: (8, 4, 8)\n",
      "Model: (8, 5, 0)\n",
      "Model: (8, 5, 1)\n",
      "Model: (8, 5, 2)\n",
      "Model: (8, 5, 3)\n",
      "Model: (8, 5, 4)\n",
      "Model: (8, 5, 5)\n",
      "Model: (8, 5, 6)\n",
      "Model: (8, 5, 7)\n",
      "Model: (8, 5, 8)\n",
      "Model: (8, 6, 0)\n",
      "Model: (8, 6, 1)\n",
      "Model: (8, 6, 2)\n",
      "Model: (8, 6, 3)\n",
      "Model: (8, 6, 4)\n",
      "Model: (8, 6, 5)\n",
      "Model: (8, 6, 6)\n",
      "Model: (8, 6, 7)\n",
      "Model: (8, 6, 8)\n",
      "Model: (8, 7, 0)\n",
      "Model: (8, 7, 1)\n",
      "Model: (8, 7, 2)\n",
      "Model: (8, 7, 3)\n",
      "Model: (8, 7, 4)\n",
      "Model: (8, 7, 5)\n",
      "Model: (8, 7, 6)\n",
      "Model: (8, 7, 7)\n",
      "Model: (8, 7, 8)\n",
      "Model: (8, 8, 0)\n",
      "Model: (8, 8, 1)\n",
      "Model: (8, 8, 2)\n",
      "Model: (8, 8, 3)\n",
      "Model: (8, 8, 4)\n",
      "Model: (8, 8, 5)\n",
      "Model: (8, 8, 6)\n",
      "Model: (8, 8, 7)\n",
      "Model: (8, 8, 8)\n",
      "Model: (8, 9, 0)\n",
      "Model: (8, 9, 1)\n",
      "Model: (8, 9, 2)\n",
      "Model: (8, 9, 3)\n",
      "Model: (8, 9, 4)\n",
      "Model: (8, 9, 5)\n",
      "Model: (8, 9, 6)\n",
      "Model: (8, 9, 7)\n",
      "Model: (8, 9, 8)\n"
     ]
    }
   ],
   "source": [
    "import itertools\n",
    "p = q = range(0, 9)\n",
    "d= range(1,10)\n",
    "pdq = list(itertools.product(p, d, q))\n",
    "print('parameter combinations for the Model')\n",
    "for i in range(1,len(pdq)):\n",
    "    print('Model: {}'.format(pdq[i]))"
   ]
  },
  {
   "cell_type": "code",
   "execution_count": 103,
   "id": "826a928c",
   "metadata": {},
   "outputs": [
    {
     "data": {
      "text/html": [
       "<div>\n",
       "<style scoped>\n",
       "    .dataframe tbody tr th:only-of-type {\n",
       "        vertical-align: middle;\n",
       "    }\n",
       "\n",
       "    .dataframe tbody tr th {\n",
       "        vertical-align: top;\n",
       "    }\n",
       "\n",
       "    .dataframe thead th {\n",
       "        text-align: right;\n",
       "    }\n",
       "</style>\n",
       "<table border=\"1\" class=\"dataframe\">\n",
       "  <thead>\n",
       "    <tr style=\"text-align: right;\">\n",
       "      <th></th>\n",
       "      <th>param</th>\n",
       "      <th>AIC</th>\n",
       "    </tr>\n",
       "  </thead>\n",
       "  <tbody>\n",
       "  </tbody>\n",
       "</table>\n",
       "</div>"
      ],
      "text/plain": [
       "Empty DataFrame\n",
       "Columns: [param, AIC]\n",
       "Index: []"
      ]
     },
     "execution_count": 103,
     "metadata": {},
     "output_type": "execute_result"
    }
   ],
   "source": [
    "dfObj1 = pd.DataFrame(columns=['param', 'AIC'])\n",
    "dfObj1"
   ]
  },
  {
   "cell_type": "code",
   "execution_count": 104,
   "id": "2810b08e",
   "metadata": {},
   "outputs": [
    {
     "name": "stdout",
     "output_type": "stream",
     "text": [
      "ARIMA(0, 1, 0) - AIC:1419.1253038085656\n",
      "ARIMA(0, 1, 1) - AIC:1396.9275665922669\n",
      "ARIMA(0, 1, 2) - AIC:1388.9356934903883\n",
      "ARIMA(0, 1, 3) - AIC:1384.689963513145\n",
      "ARIMA(0, 1, 4) - AIC:1386.5559406688396\n",
      "ARIMA(0, 1, 5) - AIC:1381.9858169619836\n",
      "ARIMA(0, 1, 6) - AIC:1383.6557314309212\n",
      "ARIMA(0, 1, 7) - AIC:1385.2443353926167\n",
      "ARIMA(0, 1, 8) - AIC:1377.048595032085\n",
      "ARIMA(0, 2, 0) - AIC:1544.7885505999727\n",
      "ARIMA(0, 2, 1) - AIC:1417.3412285091645\n",
      "ARIMA(0, 2, 2) - AIC:1394.7820850843532\n",
      "ARIMA(0, 2, 3) - AIC:1382.6615657452767\n",
      "ARIMA(0, 2, 4) - AIC:1382.6560253163275\n",
      "ARIMA(0, 2, 5) - AIC:1384.6494446669533\n",
      "ARIMA(0, 2, 6) - AIC:1376.7466291663427\n",
      "ARIMA(0, 2, 7) - AIC:1377.359667165258\n",
      "ARIMA(1, 1, 0) - AIC:1413.9423306180586\n",
      "ARIMA(1, 1, 1) - AIC:1395.2142669020257\n",
      "ARIMA(1, 1, 2) - AIC:1387.5516800180872\n",
      "ARIMA(1, 1, 3) - AIC:1386.636192488941\n",
      "ARIMA(1, 1, 4) - AIC:1387.8584598771083\n",
      "ARIMA(1, 1, 5) - AIC:1383.7950782668918\n",
      "ARIMA(1, 1, 6) - AIC:1385.6416883015274\n",
      "ARIMA(1, 1, 7) - AIC:1380.4921307606166\n",
      "ARIMA(1, 1, 8) - AIC:1378.7814299220147\n",
      "ARIMA(1, 2, 0) - AIC:1515.9271606019647\n",
      "ARIMA(1, 2, 3) - AIC:1383.0723134508862\n",
      "ARIMA(1, 2, 4) - AIC:1384.6083101225838\n",
      "ARIMA(2, 1, 0) - AIC:1382.0031912586137\n",
      "ARIMA(2, 1, 1) - AIC:1381.7856741806534\n",
      "ARIMA(2, 1, 2) - AIC:1379.8697636597044\n",
      "ARIMA(2, 1, 3) - AIC:1381.8550443337908\n",
      "ARIMA(2, 1, 4) - AIC:1379.391956950717\n",
      "ARIMA(2, 1, 8) - AIC:1380.5494106089213\n",
      "ARIMA(2, 2, 0) - AIC:1460.1110083523495\n",
      "ARIMA(2, 2, 1) - AIC:1380.3298454176588\n",
      "ARIMA(3, 1, 0) - AIC:1381.578486883243\n",
      "ARIMA(3, 1, 1) - AIC:1383.5556208483335\n",
      "ARIMA(3, 1, 2) - AIC:1381.8632027738286\n",
      "ARIMA(3, 1, 3) - AIC:1381.0631284937654\n",
      "ARIMA(3, 1, 4) - AIC:1382.1882178763292\n",
      "ARIMA(3, 1, 7) - AIC:1381.026245940421\n",
      "ARIMA(3, 1, 8) - AIC:1380.7843818928202\n",
      "ARIMA(3, 2, 0) - AIC:1431.6274205294642\n",
      "ARIMA(3, 2, 1) - AIC:1379.6262591416234\n",
      "ARIMA(3, 2, 2) - AIC:1381.5706065180684\n",
      "ARIMA(3, 2, 3) - AIC:1380.3852511492214\n",
      "ARIMA(4, 1, 0) - AIC:1383.5115352053447\n",
      "ARIMA(4, 1, 1) - AIC:1384.8653331744717\n",
      "ARIMA(4, 1, 2) - AIC:1381.1286589279077\n",
      "ARIMA(4, 1, 3) - AIC:1382.9485189027569\n",
      "ARIMA(4, 1, 4) - AIC:1382.39765719082\n",
      "ARIMA(4, 1, 7) - AIC:1382.589923592574\n",
      "ARIMA(4, 1, 8) - AIC:1382.0872231468652\n",
      "ARIMA(4, 2, 0) - AIC:1407.869023410863\n",
      "ARIMA(4, 2, 1) - AIC:1381.4789625525677\n",
      "ARIMA(4, 2, 2) - AIC:1381.58135698544\n",
      "ARIMA(4, 2, 3) - AIC:1381.504921778862\n",
      "ARIMA(5, 1, 0) - AIC:1383.2277480943255\n",
      "ARIMA(5, 1, 1) - AIC:1385.2273685001594\n",
      "ARIMA(5, 1, 2) - AIC:1383.0999374294702\n",
      "ARIMA(5, 1, 3) - AIC:1387.3643961882544\n",
      "ARIMA(5, 1, 4) - AIC:1383.4742526088999\n",
      "ARIMA(5, 1, 5) - AIC:1384.0832679117595\n",
      "ARIMA(5, 1, 6) - AIC:1386.7204808411661\n",
      "ARIMA(5, 1, 7) - AIC:1384.5884657537601\n",
      "ARIMA(5, 1, 8) - AIC:1381.5295127048582\n",
      "ARIMA(5, 2, 0) - AIC:1404.2020897014745\n",
      "ARIMA(5, 2, 1) - AIC:1381.5624176917454\n",
      "ARIMA(5, 2, 2) - AIC:1383.5570427647335\n",
      "ARIMA(5, 2, 3) - AIC:1383.4595836252038\n",
      "ARIMA(5, 2, 4) - AIC:1381.9035928867002\n",
      "ARIMA(6, 1, 0) - AIC:1385.2262173766308\n",
      "ARIMA(6, 1, 1) - AIC:1385.9990818410479\n",
      "ARIMA(6, 1, 2) - AIC:1380.199778048604\n",
      "ARIMA(6, 1, 3) - AIC:1382.1143204006246\n",
      "ARIMA(6, 1, 4) - AIC:1385.1677742837956\n",
      "ARIMA(6, 1, 5) - AIC:1386.4244705887068\n",
      "ARIMA(6, 1, 6) - AIC:1381.719822704369\n",
      "ARIMA(6, 1, 7) - AIC:1385.6144639686042\n",
      "ARIMA(6, 1, 8) - AIC:1383.3351789356038\n",
      "ARIMA(6, 2, 0) - AIC:1406.1939760832038\n",
      "ARIMA(6, 2, 1) - AIC:1383.5380959560437\n",
      "ARIMA(7, 1, 0) - AIC:1381.9064876618243\n",
      "ARIMA(7, 1, 1) - AIC:1383.508369222523\n",
      "ARIMA(7, 1, 2) - AIC:1381.958612512388\n",
      "ARIMA(7, 1, 3) - AIC:1384.0514097880637\n",
      "ARIMA(7, 1, 4) - AIC:1380.240984092296\n",
      "ARIMA(7, 1, 5) - AIC:1382.0279872387819\n",
      "ARIMA(7, 1, 6) - AIC:1385.702760633898\n",
      "ARIMA(7, 1, 7) - AIC:1382.9281157786613\n",
      "ARIMA(7, 1, 8) - AIC:1385.5745727040076\n",
      "ARIMA(7, 2, 0) - AIC:1404.6215347016919\n",
      "ARIMA(7, 2, 1) - AIC:1379.318737015665\n",
      "ARIMA(7, 2, 2) - AIC:1376.5384062677058\n",
      "ARIMA(8, 1, 0) - AIC:1383.5586041647728\n",
      "ARIMA(8, 1, 1) - AIC:1385.4861636733988\n",
      "ARIMA(8, 1, 2) - AIC:1378.7748718143894\n",
      "ARIMA(8, 1, 3) - AIC:1380.3949141711048\n",
      "ARIMA(8, 1, 4) - AIC:1381.938125295353\n",
      "ARIMA(8, 1, 5) - AIC:1385.2655011640556\n",
      "ARIMA(8, 1, 6) - AIC:1381.7577460733435\n",
      "ARIMA(8, 1, 7) - AIC:1381.8733149758527\n",
      "ARIMA(8, 1, 8) - AIC:1386.2020674919595\n",
      "ARIMA(8, 2, 0) - AIC:1403.8787836714168\n",
      "ARIMA(8, 2, 1) - AIC:1380.724030457422\n",
      "ARIMA(8, 2, 2) - AIC:1378.2468217630417\n",
      "ARIMA(8, 2, 3) - AIC:1371.3674183455446\n"
     ]
    }
   ],
   "source": [
    "for param in pdq:\n",
    "            try:\n",
    "                mod = ARIMA(train, order=param)\n",
    "                results_Arima = mod.fit()\n",
    "                print('ARIMA{} - AIC:{}'.format(param, results_Arima.aic))\n",
    "                dfObj1 = dfObj1.append({'param':param, 'AIC': results_Arima.aic}, ignore_index=True)\n",
    "\n",
    "            except:\n",
    "                continue"
   ]
  },
  {
   "cell_type": "code",
   "execution_count": 105,
   "id": "8ca2a93e",
   "metadata": {},
   "outputs": [
    {
     "data": {
      "text/html": [
       "<div>\n",
       "<style scoped>\n",
       "    .dataframe tbody tr th:only-of-type {\n",
       "        vertical-align: middle;\n",
       "    }\n",
       "\n",
       "    .dataframe tbody tr th {\n",
       "        vertical-align: top;\n",
       "    }\n",
       "\n",
       "    .dataframe thead th {\n",
       "        text-align: right;\n",
       "    }\n",
       "</style>\n",
       "<table border=\"1\" class=\"dataframe\">\n",
       "  <thead>\n",
       "    <tr style=\"text-align: right;\">\n",
       "      <th></th>\n",
       "      <th>param</th>\n",
       "      <th>AIC</th>\n",
       "    </tr>\n",
       "  </thead>\n",
       "  <tbody>\n",
       "    <tr>\n",
       "      <th>108</th>\n",
       "      <td>(8, 2, 3)</td>\n",
       "      <td>1371.367418</td>\n",
       "    </tr>\n",
       "    <tr>\n",
       "      <th>95</th>\n",
       "      <td>(7, 2, 2)</td>\n",
       "      <td>1376.538406</td>\n",
       "    </tr>\n",
       "    <tr>\n",
       "      <th>15</th>\n",
       "      <td>(0, 2, 6)</td>\n",
       "      <td>1376.746629</td>\n",
       "    </tr>\n",
       "    <tr>\n",
       "      <th>8</th>\n",
       "      <td>(0, 1, 8)</td>\n",
       "      <td>1377.048595</td>\n",
       "    </tr>\n",
       "    <tr>\n",
       "      <th>16</th>\n",
       "      <td>(0, 2, 7)</td>\n",
       "      <td>1377.359667</td>\n",
       "    </tr>\n",
       "    <tr>\n",
       "      <th>...</th>\n",
       "      <td>...</td>\n",
       "      <td>...</td>\n",
       "    </tr>\n",
       "    <tr>\n",
       "      <th>0</th>\n",
       "      <td>(0, 1, 0)</td>\n",
       "      <td>1419.125304</td>\n",
       "    </tr>\n",
       "    <tr>\n",
       "      <th>44</th>\n",
       "      <td>(3, 2, 0)</td>\n",
       "      <td>1431.627421</td>\n",
       "    </tr>\n",
       "    <tr>\n",
       "      <th>35</th>\n",
       "      <td>(2, 2, 0)</td>\n",
       "      <td>1460.111008</td>\n",
       "    </tr>\n",
       "    <tr>\n",
       "      <th>26</th>\n",
       "      <td>(1, 2, 0)</td>\n",
       "      <td>1515.927161</td>\n",
       "    </tr>\n",
       "    <tr>\n",
       "      <th>9</th>\n",
       "      <td>(0, 2, 0)</td>\n",
       "      <td>1544.788551</td>\n",
       "    </tr>\n",
       "  </tbody>\n",
       "</table>\n",
       "<p>109 rows × 2 columns</p>\n",
       "</div>"
      ],
      "text/plain": [
       "         param          AIC\n",
       "108  (8, 2, 3)  1371.367418\n",
       "95   (7, 2, 2)  1376.538406\n",
       "15   (0, 2, 6)  1376.746629\n",
       "8    (0, 1, 8)  1377.048595\n",
       "16   (0, 2, 7)  1377.359667\n",
       "..         ...          ...\n",
       "0    (0, 1, 0)  1419.125304\n",
       "44   (3, 2, 0)  1431.627421\n",
       "35   (2, 2, 0)  1460.111008\n",
       "26   (1, 2, 0)  1515.927161\n",
       "9    (0, 2, 0)  1544.788551\n",
       "\n",
       "[109 rows x 2 columns]"
      ]
     },
     "execution_count": 105,
     "metadata": {},
     "output_type": "execute_result"
    }
   ],
   "source": [
    "dfObj1.sort_values(by=['AIC'])"
   ]
  },
  {
   "cell_type": "code",
   "execution_count": 170,
   "id": "b0e82691",
   "metadata": {
    "scrolled": true
   },
   "outputs": [
    {
     "name": "stdout",
     "output_type": "stream",
     "text": [
      "                              ARIMA Model Results                               \n",
      "================================================================================\n",
      "Dep. Variable:     D2.Avg_sunspot_count   No. Observations:                  151\n",
      "Model:                   ARIMA(8, 2, 3)   Log Likelihood                -672.684\n",
      "Method:                         css-mle   S.D. of innovations             20.222\n",
      "Date:                  Fri, 17 Sep 2021   AIC                           1371.367\n",
      "Time:                          09:31:48   BIC                           1410.592\n",
      "Sample:                      03-31-1995   HQIC                          1387.303\n",
      "                           - 09-30-2007                                         \n",
      "==============================================================================================\n",
      "                                 coef    std err          z      P>|z|      [0.025      0.975]\n",
      "----------------------------------------------------------------------------------------------\n",
      "const                         -0.0319      0.020     -1.574      0.116      -0.072       0.008\n",
      "ar.L1.D2.Avg_sunspot_count    -2.0746      0.113    -18.417      0.000      -2.295      -1.854\n",
      "ar.L2.D2.Avg_sunspot_count    -1.8883      0.220     -8.564      0.000      -2.320      -1.456\n",
      "ar.L3.D2.Avg_sunspot_count    -1.1894      0.255     -4.656      0.000      -1.690      -0.689\n",
      "ar.L4.D2.Avg_sunspot_count    -0.5361      0.270     -1.983      0.047      -1.066      -0.006\n",
      "ar.L5.D2.Avg_sunspot_count    -0.0383      0.268     -0.143      0.886      -0.564       0.488\n",
      "ar.L6.D2.Avg_sunspot_count     0.0313      0.250      0.125      0.900      -0.459       0.521\n",
      "ar.L7.D2.Avg_sunspot_count    -0.1412      0.195     -0.725      0.469      -0.523       0.241\n",
      "ar.L8.D2.Avg_sunspot_count    -0.1794      0.088     -2.048      0.041      -0.351      -0.008\n",
      "ma.L1.D2.Avg_sunspot_count     0.8229      0.094      8.727      0.000       0.638       1.008\n",
      "ma.L2.D2.Avg_sunspot_count    -0.9248      0.051    -18.236      0.000      -1.024      -0.825\n",
      "ma.L3.D2.Avg_sunspot_count    -0.8981      0.105     -8.562      0.000      -1.104      -0.692\n",
      "                                    Roots                                    \n",
      "=============================================================================\n",
      "                  Real          Imaginary           Modulus         Frequency\n",
      "-----------------------------------------------------------------------------\n",
      "AR.1           -0.9808           -0.2440j            1.0106           -0.4612\n",
      "AR.2           -0.9808           +0.2440j            1.0106            0.4612\n",
      "AR.3           -0.8247           -0.8440j            1.1801           -0.3732\n",
      "AR.4           -0.8247           +0.8440j            1.1801            0.3732\n",
      "AR.5            0.0311           -1.1826j            1.1830           -0.2458\n",
      "AR.6            0.0311           +1.1826j            1.1830            0.2458\n",
      "AR.7            1.3807           -0.9458j            1.6736           -0.0956\n",
      "AR.8            1.3807           +0.9458j            1.6736            0.0956\n",
      "MA.1            1.0000           -0.0000j            1.0000           -0.0000\n",
      "MA.2           -1.0149           -0.2889j            1.0552           -0.4559\n",
      "MA.3           -1.0149           +0.2889j            1.0552            0.4559\n",
      "-----------------------------------------------------------------------------\n"
     ]
    }
   ],
   "source": [
    "model = ARIMA(train, order=(8,2,3),freq='M')\n",
    "\n",
    "results_Arima = model.fit()\n",
    "\n",
    "print(results_Arima.summary())"
   ]
  },
  {
   "cell_type": "code",
   "execution_count": 171,
   "id": "071b70ad",
   "metadata": {},
   "outputs": [],
   "source": [
    "pred_start=test.index[0]\n",
    "pred_end=test.index[-1]"
   ]
  },
  {
   "cell_type": "code",
   "execution_count": 172,
   "id": "2170c0cf",
   "metadata": {},
   "outputs": [],
   "source": [
    "ARIMA_predictions=results_Arima.predict(start=pred_start, end=pred_end)"
   ]
  },
  {
   "cell_type": "code",
   "execution_count": 173,
   "id": "602030e9",
   "metadata": {},
   "outputs": [
    {
     "data": {
      "text/plain": [
       "2007-10-31     8.459725\n",
       "2007-11-30   -10.020085\n",
       "2007-12-31     8.553736\n",
       "2008-01-31    -9.903240\n",
       "2008-02-29    15.121312\n",
       "2008-03-31   -16.936998\n",
       "2008-04-30    14.163671\n",
       "2008-05-31   -11.958039\n",
       "2008-06-30    10.421933\n",
       "2008-07-31    -7.330677\n",
       "2008-08-31     2.920591\n",
       "2008-09-30     0.143049\n",
       "2008-10-31    -2.322700\n",
       "2008-11-30     5.045344\n",
       "2008-12-31    -8.285462\n",
       "2009-01-31    10.455807\n",
       "2009-02-28   -11.773674\n",
       "2009-03-31    12.603868\n",
       "2009-04-30   -12.943591\n",
       "2009-05-31    12.004839\n",
       "2009-06-30   -10.322226\n",
       "2009-07-31     8.203314\n",
       "2009-08-31    -5.931857\n",
       "2009-09-30     3.111014\n",
       "2009-10-31    -0.232912\n",
       "2009-11-30    -2.619276\n",
       "2009-12-31     5.118928\n",
       "2010-01-31    -7.499827\n",
       "2010-02-28     9.297677\n",
       "2010-03-31   -10.562310\n",
       "2010-04-30    11.025607\n",
       "2010-05-31   -10.993625\n",
       "2010-06-30    10.201292\n",
       "2010-07-31    -8.923212\n",
       "2010-08-31     7.026618\n",
       "2010-09-30    -4.911706\n",
       "2010-10-31     2.432058\n",
       "2010-11-30     0.034546\n",
       "2010-12-31    -2.576920\n",
       "Freq: M, dtype: float64"
      ]
     },
     "execution_count": 173,
     "metadata": {},
     "output_type": "execute_result"
    }
   ],
   "source": [
    "ARIMA_predictions"
   ]
  },
  {
   "cell_type": "code",
   "execution_count": 174,
   "id": "530d852a",
   "metadata": {},
   "outputs": [
    {
     "data": {
      "text/plain": [
       "2007-10-31     8.459725\n",
       "2007-11-30    -1.560361\n",
       "2007-12-31     6.993375\n",
       "2008-01-31    -2.909865\n",
       "2008-02-29    12.211447\n",
       "2008-03-31    -4.725551\n",
       "2008-04-30     9.438120\n",
       "2008-05-31    -2.519919\n",
       "2008-06-30     7.902014\n",
       "2008-07-31     0.571336\n",
       "2008-08-31     3.491927\n",
       "2008-09-30     3.634976\n",
       "2008-10-31     1.312276\n",
       "2008-11-30     6.357620\n",
       "2008-12-31    -1.927842\n",
       "2009-01-31     8.527966\n",
       "2009-02-28    -3.245708\n",
       "2009-03-31     9.358159\n",
       "2009-04-30    -3.585432\n",
       "2009-05-31     8.419407\n",
       "2009-06-30    -1.902819\n",
       "2009-07-31     6.300496\n",
       "2009-08-31     0.368638\n",
       "2009-09-30     3.479653\n",
       "2009-10-31     3.246741\n",
       "2009-11-30     0.627464\n",
       "2009-12-31     5.746393\n",
       "2010-01-31    -1.753435\n",
       "2010-02-28     7.544242\n",
       "2010-03-31    -3.018067\n",
       "2010-04-30     8.007539\n",
       "2010-05-31    -2.986086\n",
       "2010-06-30     7.215206\n",
       "2010-07-31    -1.708006\n",
       "2010-08-31     5.318611\n",
       "2010-09-30     0.406906\n",
       "2010-10-31     2.838963\n",
       "2010-11-30     2.873509\n",
       "2010-12-31     0.296589\n",
       "Freq: M, dtype: float64"
      ]
     },
     "execution_count": 174,
     "metadata": {},
     "output_type": "execute_result"
    }
   ],
   "source": [
    "ARIMA_pred=ARIMA_predictions.cumsum()\n",
    "ARIMA_pred"
   ]
  },
  {
   "cell_type": "code",
   "execution_count": 175,
   "id": "13100f2f",
   "metadata": {},
   "outputs": [],
   "source": [
    "ARIMA_pred=pd.DataFrame(ARIMA_pred,columns=train.columns)"
   ]
  },
  {
   "cell_type": "code",
   "execution_count": 176,
   "id": "32228b08",
   "metadata": {},
   "outputs": [],
   "source": [
    "predict_fc = ARIMA_pred.copy()\n",
    "columns = train.columns\n",
    "for col in columns:        \n",
    "        predict_fc[str(col)+'_forecast'] = train[col].iloc[-1] + predict_fc[str(col)]"
   ]
  },
  {
   "cell_type": "code",
   "execution_count": 177,
   "id": "f69134fe",
   "metadata": {},
   "outputs": [
    {
     "data": {
      "text/html": [
       "<div>\n",
       "<style scoped>\n",
       "    .dataframe tbody tr th:only-of-type {\n",
       "        vertical-align: middle;\n",
       "    }\n",
       "\n",
       "    .dataframe tbody tr th {\n",
       "        vertical-align: top;\n",
       "    }\n",
       "\n",
       "    .dataframe thead th {\n",
       "        text-align: right;\n",
       "    }\n",
       "</style>\n",
       "<table border=\"1\" class=\"dataframe\">\n",
       "  <thead>\n",
       "    <tr style=\"text-align: right;\">\n",
       "      <th></th>\n",
       "      <th>Avg_sunspot_count</th>\n",
       "      <th>Avg_sunspot_count_forecast</th>\n",
       "    </tr>\n",
       "  </thead>\n",
       "  <tbody>\n",
       "    <tr>\n",
       "      <th>2007-10-31</th>\n",
       "      <td>8.459725</td>\n",
       "      <td>12.459725</td>\n",
       "    </tr>\n",
       "    <tr>\n",
       "      <th>2007-11-30</th>\n",
       "      <td>-1.560361</td>\n",
       "      <td>2.439639</td>\n",
       "    </tr>\n",
       "    <tr>\n",
       "      <th>2007-12-31</th>\n",
       "      <td>6.993375</td>\n",
       "      <td>10.993375</td>\n",
       "    </tr>\n",
       "    <tr>\n",
       "      <th>2008-01-31</th>\n",
       "      <td>-2.909865</td>\n",
       "      <td>1.090135</td>\n",
       "    </tr>\n",
       "    <tr>\n",
       "      <th>2008-02-29</th>\n",
       "      <td>12.211447</td>\n",
       "      <td>16.211447</td>\n",
       "    </tr>\n",
       "  </tbody>\n",
       "</table>\n",
       "</div>"
      ],
      "text/plain": [
       "            Avg_sunspot_count  Avg_sunspot_count_forecast\n",
       "2007-10-31           8.459725                   12.459725\n",
       "2007-11-30          -1.560361                    2.439639\n",
       "2007-12-31           6.993375                   10.993375\n",
       "2008-01-31          -2.909865                    1.090135\n",
       "2008-02-29          12.211447                   16.211447"
      ]
     },
     "execution_count": 177,
     "metadata": {},
     "output_type": "execute_result"
    }
   ],
   "source": [
    "predict_fc.head()"
   ]
  },
  {
   "cell_type": "code",
   "execution_count": 178,
   "id": "7226a7f1",
   "metadata": {},
   "outputs": [
    {
     "data": {
      "image/png": "[encoded data removed]",
      "text/plain": [
       "<Figure size 1080x576 with 1 Axes>"
      ]
     },
     "metadata": {
      "needs_background": "light"
     },
     "output_type": "display_data"
    }
   ],
   "source": [
    "plt.plot(train,label='Training Data')\n",
    "plt.plot(test,label='Test Data')\n",
    "plt.plot(test.index,predict_fc['Avg_sunspot_count_forecast'],label='Predicted Data - ARIMA')\n",
    "plt.legend(loc='best')\n",
    "plt.grid();"
   ]
  },
  {
   "cell_type": "code",
   "execution_count": 179,
   "id": "124cd0c1",
   "metadata": {},
   "outputs": [
    {
     "data": {
      "text/html": [
       "<div>\n",
       "<style scoped>\n",
       "    .dataframe tbody tr th:only-of-type {\n",
       "        vertical-align: middle;\n",
       "    }\n",
       "\n",
       "    .dataframe tbody tr th {\n",
       "        vertical-align: top;\n",
       "    }\n",
       "\n",
       "    .dataframe thead th {\n",
       "        text-align: right;\n",
       "    }\n",
       "</style>\n",
       "<table border=\"1\" class=\"dataframe\">\n",
       "  <thead>\n",
       "    <tr style=\"text-align: right;\">\n",
       "      <th></th>\n",
       "      <th>Avg_sunspot_count</th>\n",
       "    </tr>\n",
       "    <tr>\n",
       "      <th>Time_Stamp</th>\n",
       "      <th></th>\n",
       "    </tr>\n",
       "  </thead>\n",
       "  <tbody>\n",
       "    <tr>\n",
       "      <th>2007-10-31</th>\n",
       "      <td>2</td>\n",
       "    </tr>\n",
       "    <tr>\n",
       "      <th>2007-11-30</th>\n",
       "      <td>3</td>\n",
       "    </tr>\n",
       "    <tr>\n",
       "      <th>2007-12-31</th>\n",
       "      <td>17</td>\n",
       "    </tr>\n",
       "    <tr>\n",
       "      <th>2008-01-31</th>\n",
       "      <td>4</td>\n",
       "    </tr>\n",
       "    <tr>\n",
       "      <th>2008-02-29</th>\n",
       "      <td>3</td>\n",
       "    </tr>\n",
       "  </tbody>\n",
       "</table>\n",
       "</div>"
      ],
      "text/plain": [
       "            Avg_sunspot_count\n",
       "Time_Stamp                   \n",
       "2007-10-31                  2\n",
       "2007-11-30                  3\n",
       "2007-12-31                 17\n",
       "2008-01-31                  4\n",
       "2008-02-29                  3"
      ]
     },
     "execution_count": 179,
     "metadata": {},
     "output_type": "execute_result"
    }
   ],
   "source": [
    "test.head()"
   ]
  },
  {
   "cell_type": "code",
   "execution_count": 180,
   "id": "9a3279a1",
   "metadata": {},
   "outputs": [
    {
     "name": "stdout",
     "output_type": "stream",
     "text": [
      "12.993577967203516\n"
     ]
    }
   ],
   "source": [
    "from sklearn.metrics import  mean_squared_error\n",
    "rmse = mean_squared_error(test['Avg_sunspot_count'],predict_fc['Avg_sunspot_count_forecast'], squared=False)\n",
    "print(rmse)"
   ]
  },
  {
   "cell_type": "markdown",
   "id": "6862190a",
   "metadata": {},
   "source": [
    "# result 2"
   ]
  },
  {
   "cell_type": "code",
   "execution_count": null,
   "id": "9a6eb324",
   "metadata": {},
   "outputs": [],
   "source": []
  },
  {
   "cell_type": "code",
   "execution_count": null,
   "id": "0524f59e",
   "metadata": {},
   "outputs": [],
   "source": []
  },
  {
   "cell_type": "code",
   "execution_count": null,
   "id": "e068ec57",
   "metadata": {},
   "outputs": [],
   "source": []
  },
  {
   "cell_type": "code",
   "execution_count": null,
   "id": "e5b55674",
   "metadata": {},
   "outputs": [],
   "source": []
  },
  {
   "cell_type": "code",
   "execution_count": 165,
   "id": "0c29922d",
   "metadata": {},
   "outputs": [],
   "source": [
    "train= a1\n",
    "test = pd.read_csv('test_(2).csv')"
   ]
  },
  {
   "cell_type": "code",
   "execution_count": 166,
   "id": "047a7b48",
   "metadata": {
    "scrolled": true
   },
   "outputs": [
    {
     "name": "stdout",
     "output_type": "stream",
     "text": [
      "                              ARIMA Model Results                               \n",
      "================================================================================\n",
      "Dep. Variable:     D2.Avg_sunspot_count   No. Observations:                  190\n",
      "Model:                   ARIMA(8, 2, 3)   Log Likelihood                -827.867\n",
      "Method:                         css-mle   S.D. of innovations             18.464\n",
      "Date:                  Fri, 17 Sep 2021   AIC                           1681.735\n",
      "Time:                          08:41:24   BIC                           1723.946\n",
      "Sample:                      03-31-1995   HQIC                          1698.834\n",
      "                           - 12-31-2010                                         \n",
      "==============================================================================================\n",
      "                                 coef    std err          z      P>|z|      [0.025      0.975]\n",
      "----------------------------------------------------------------------------------------------\n",
      "const                         -0.0117      0.013     -0.872      0.383      -0.038       0.015\n",
      "ar.L1.D2.Avg_sunspot_count    -2.0278      0.106    -19.043      0.000      -2.237      -1.819\n",
      "ar.L2.D2.Avg_sunspot_count    -1.8020      0.198     -9.083      0.000      -2.191      -1.413\n",
      "ar.L3.D2.Avg_sunspot_count    -1.1054      0.222     -4.979      0.000      -1.541      -0.670\n",
      "ar.L4.D2.Avg_sunspot_count    -0.4610      0.232     -1.989      0.047      -0.915      -0.007\n",
      "ar.L5.D2.Avg_sunspot_count     0.0065      0.229      0.028      0.977      -0.443       0.455\n",
      "ar.L6.D2.Avg_sunspot_count     0.0535      0.215      0.249      0.804      -0.368       0.475\n",
      "ar.L7.D2.Avg_sunspot_count    -0.1342      0.170     -0.789      0.430      -0.468       0.199\n",
      "ar.L8.D2.Avg_sunspot_count    -0.1808      0.077     -2.336      0.019      -0.332      -0.029\n",
      "ma.L1.D2.Avg_sunspot_count     0.7743      0.093      8.352      0.000       0.593       0.956\n",
      "ma.L2.D2.Avg_sunspot_count    -0.9311      0.064    -14.599      0.000      -1.056      -0.806\n",
      "ma.L3.D2.Avg_sunspot_count    -0.8432      0.098     -8.565      0.000      -1.036      -0.650\n",
      "                                    Roots                                    \n",
      "=============================================================================\n",
      "                  Real          Imaginary           Modulus         Frequency\n",
      "-----------------------------------------------------------------------------\n",
      "AR.1           -0.9876           -0.2409j            1.0166           -0.4619\n",
      "AR.2           -0.9876           +0.2409j            1.0166            0.4619\n",
      "AR.3           -0.8128           -0.8513j            1.1770           -0.3713\n",
      "AR.4           -0.8128           +0.8513j            1.1770            0.3713\n",
      "AR.5            0.0360           -1.1801j            1.1807           -0.2451\n",
      "AR.6            0.0360           +1.1801j            1.1807            0.2451\n",
      "AR.7            1.3931           -0.9116j            1.6649           -0.0922\n",
      "AR.8            1.3931           +0.9116j            1.6649            0.0922\n",
      "MA.1            1.0000           -0.0000j            1.0000           -0.0000\n",
      "MA.2           -1.0521           -0.2811j            1.0890           -0.4584\n",
      "MA.3           -1.0521           +0.2811j            1.0890            0.4584\n",
      "-----------------------------------------------------------------------------\n"
     ]
    }
   ],
   "source": [
    "model = ARIMA(train, order=(8,2,3))\n",
    "\n",
    "results_Arima = model.fit()\n",
    "\n",
    "print(results_Arima.summary())"
   ]
  },
  {
   "cell_type": "code",
   "execution_count": 81,
   "id": "460d496d",
   "metadata": {},
   "outputs": [
    {
     "data": {
      "text/html": [
       "<div>\n",
       "<style scoped>\n",
       "    .dataframe tbody tr th:only-of-type {\n",
       "        vertical-align: middle;\n",
       "    }\n",
       "\n",
       "    .dataframe tbody tr th {\n",
       "        vertical-align: top;\n",
       "    }\n",
       "\n",
       "    .dataframe thead th {\n",
       "        text-align: right;\n",
       "    }\n",
       "</style>\n",
       "<table border=\"1\" class=\"dataframe\">\n",
       "  <thead>\n",
       "    <tr style=\"text-align: right;\">\n",
       "      <th></th>\n",
       "      <th>Month</th>\n",
       "    </tr>\n",
       "  </thead>\n",
       "  <tbody>\n",
       "    <tr>\n",
       "      <th>0</th>\n",
       "      <td>01-01-2011</td>\n",
       "    </tr>\n",
       "    <tr>\n",
       "      <th>1</th>\n",
       "      <td>02-01-2011</td>\n",
       "    </tr>\n",
       "    <tr>\n",
       "      <th>2</th>\n",
       "      <td>03-01-2011</td>\n",
       "    </tr>\n",
       "    <tr>\n",
       "      <th>3</th>\n",
       "      <td>04-01-2011</td>\n",
       "    </tr>\n",
       "    <tr>\n",
       "      <th>4</th>\n",
       "      <td>05-01-2011</td>\n",
       "    </tr>\n",
       "  </tbody>\n",
       "</table>\n",
       "</div>"
      ],
      "text/plain": [
       "        Month\n",
       "0  01-01-2011\n",
       "1  02-01-2011\n",
       "2  03-01-2011\n",
       "3  04-01-2011\n",
       "4  05-01-2011"
      ]
     },
     "execution_count": 81,
     "metadata": {},
     "output_type": "execute_result"
    }
   ],
   "source": [
    "test.head()"
   ]
  },
  {
   "cell_type": "code",
   "execution_count": 82,
   "id": "b066b6b5",
   "metadata": {},
   "outputs": [],
   "source": [
    "pred_start=test.iloc[0,0]\n",
    "pred_end=test.iloc[-1,0]"
   ]
  },
  {
   "cell_type": "code",
   "execution_count": 83,
   "id": "8888f382",
   "metadata": {},
   "outputs": [],
   "source": [
    "ARIMA_predictions=results_Arima.predict(start=pred_start, end=pred_end)"
   ]
  },
  {
   "cell_type": "code",
   "execution_count": 84,
   "id": "431b5fa3",
   "metadata": {},
   "outputs": [
    {
     "data": {
      "text/plain": [
       "2011-01-31    9.986820\n",
       "2011-02-28   -0.126576\n",
       "2011-03-31   -3.604039\n",
       "2011-04-30    0.199495\n",
       "2011-05-31    2.490569\n",
       "                ...   \n",
       "2020-08-31    0.435467\n",
       "2020-09-30   -0.493662\n",
       "2020-10-31    0.476881\n",
       "2020-11-30   -0.479087\n",
       "2020-12-31    0.408950\n",
       "Freq: M, Length: 120, dtype: float64"
      ]
     },
     "execution_count": 84,
     "metadata": {},
     "output_type": "execute_result"
    }
   ],
   "source": [
    "ARIMA_predictions"
   ]
  },
  {
   "cell_type": "code",
   "execution_count": 85,
   "id": "d74b78e0",
   "metadata": {},
   "outputs": [
    {
     "data": {
      "text/plain": [
       "2011-01-31    9.986820\n",
       "2011-02-28    9.860244\n",
       "2011-03-31    6.256205\n",
       "2011-04-30    6.455699\n",
       "2011-05-31    8.946268\n",
       "                ...   \n",
       "2020-08-31    6.732764\n",
       "2020-09-30    6.239102\n",
       "2020-10-31    6.715983\n",
       "2020-11-30    6.236896\n",
       "2020-12-31    6.645846\n",
       "Freq: M, Length: 120, dtype: float64"
      ]
     },
     "execution_count": 85,
     "metadata": {},
     "output_type": "execute_result"
    }
   ],
   "source": [
    "ARIMA_pred=ARIMA_predictions.cumsum()\n",
    "ARIMA_pred"
   ]
  },
  {
   "cell_type": "code",
   "execution_count": 86,
   "id": "c25f92f9",
   "metadata": {},
   "outputs": [],
   "source": [
    "ARIMA_pred=pd.DataFrame(ARIMA_pred,columns=train.columns)"
   ]
  },
  {
   "cell_type": "code",
   "execution_count": 87,
   "id": "0c54fd85",
   "metadata": {},
   "outputs": [],
   "source": [
    "predict_fc = ARIMA_pred.copy()\n",
    "columns = train.columns\n",
    "for col in columns:        \n",
    "        predict_fc[str(col)+'_forecast'] = train[col].iloc[-1] + predict_fc[str(col)]"
   ]
  },
  {
   "cell_type": "code",
   "execution_count": 88,
   "id": "6697adb8",
   "metadata": {},
   "outputs": [
    {
     "data": {
      "text/html": [
       "<div>\n",
       "<style scoped>\n",
       "    .dataframe tbody tr th:only-of-type {\n",
       "        vertical-align: middle;\n",
       "    }\n",
       "\n",
       "    .dataframe tbody tr th {\n",
       "        vertical-align: top;\n",
       "    }\n",
       "\n",
       "    .dataframe thead th {\n",
       "        text-align: right;\n",
       "    }\n",
       "</style>\n",
       "<table border=\"1\" class=\"dataframe\">\n",
       "  <thead>\n",
       "    <tr style=\"text-align: right;\">\n",
       "      <th></th>\n",
       "      <th>Avg_sunspot_count</th>\n",
       "      <th>Avg_sunspot_count_forecast</th>\n",
       "    </tr>\n",
       "  </thead>\n",
       "  <tbody>\n",
       "    <tr>\n",
       "      <th>2011-01-31</th>\n",
       "      <td>9.986820</td>\n",
       "      <td>34.986820</td>\n",
       "    </tr>\n",
       "    <tr>\n",
       "      <th>2011-02-28</th>\n",
       "      <td>9.860244</td>\n",
       "      <td>34.860244</td>\n",
       "    </tr>\n",
       "    <tr>\n",
       "      <th>2011-03-31</th>\n",
       "      <td>6.256205</td>\n",
       "      <td>31.256205</td>\n",
       "    </tr>\n",
       "    <tr>\n",
       "      <th>2011-04-30</th>\n",
       "      <td>6.455699</td>\n",
       "      <td>31.455699</td>\n",
       "    </tr>\n",
       "    <tr>\n",
       "      <th>2011-05-31</th>\n",
       "      <td>8.946268</td>\n",
       "      <td>33.946268</td>\n",
       "    </tr>\n",
       "  </tbody>\n",
       "</table>\n",
       "</div>"
      ],
      "text/plain": [
       "            Avg_sunspot_count  Avg_sunspot_count_forecast\n",
       "2011-01-31           9.986820                   34.986820\n",
       "2011-02-28           9.860244                   34.860244\n",
       "2011-03-31           6.256205                   31.256205\n",
       "2011-04-30           6.455699                   31.455699\n",
       "2011-05-31           8.946268                   33.946268"
      ]
     },
     "execution_count": 88,
     "metadata": {},
     "output_type": "execute_result"
    }
   ],
   "source": [
    "predict_fc.head()"
   ]
  },
  {
   "cell_type": "code",
   "execution_count": 89,
   "id": "d2ba1d61",
   "metadata": {},
   "outputs": [
    {
     "data": {
      "image/png": "[encoded data removed]",
      "text/plain": [
       "<Figure size 1080x576 with 1 Axes>"
      ]
     },
     "metadata": {
      "needs_background": "light"
     },
     "output_type": "display_data"
    }
   ],
   "source": [
    "plt.plot(train,label='Training Data')\n",
    "#plt.plot(test,label='Test Data')\n",
    "plt.plot(predict_fc['Avg_sunspot_count_forecast'],label='Predicted Data - ARIMA')\n",
    "plt.legend(loc='best')\n",
    "plt.grid();"
   ]
  },
  {
   "cell_type": "code",
   "execution_count": 90,
   "id": "e7875586",
   "metadata": {},
   "outputs": [
    {
     "data": {
      "text/html": [
       "<div>\n",
       "<style scoped>\n",
       "    .dataframe tbody tr th:only-of-type {\n",
       "        vertical-align: middle;\n",
       "    }\n",
       "\n",
       "    .dataframe tbody tr th {\n",
       "        vertical-align: top;\n",
       "    }\n",
       "\n",
       "    .dataframe thead th {\n",
       "        text-align: right;\n",
       "    }\n",
       "</style>\n",
       "<table border=\"1\" class=\"dataframe\">\n",
       "  <thead>\n",
       "    <tr style=\"text-align: right;\">\n",
       "      <th></th>\n",
       "      <th>Month</th>\n",
       "    </tr>\n",
       "  </thead>\n",
       "  <tbody>\n",
       "    <tr>\n",
       "      <th>0</th>\n",
       "      <td>01-01-2011</td>\n",
       "    </tr>\n",
       "    <tr>\n",
       "      <th>1</th>\n",
       "      <td>02-01-2011</td>\n",
       "    </tr>\n",
       "    <tr>\n",
       "      <th>2</th>\n",
       "      <td>03-01-2011</td>\n",
       "    </tr>\n",
       "    <tr>\n",
       "      <th>3</th>\n",
       "      <td>04-01-2011</td>\n",
       "    </tr>\n",
       "    <tr>\n",
       "      <th>4</th>\n",
       "      <td>05-01-2011</td>\n",
       "    </tr>\n",
       "  </tbody>\n",
       "</table>\n",
       "</div>"
      ],
      "text/plain": [
       "        Month\n",
       "0  01-01-2011\n",
       "1  02-01-2011\n",
       "2  03-01-2011\n",
       "3  04-01-2011\n",
       "4  05-01-2011"
      ]
     },
     "execution_count": 90,
     "metadata": {},
     "output_type": "execute_result"
    }
   ],
   "source": [
    "test.head()"
   ]
  },
  {
   "cell_type": "code",
   "execution_count": 91,
   "id": "80c0da2c",
   "metadata": {},
   "outputs": [],
   "source": [
    "result=test.copy()"
   ]
  },
  {
   "cell_type": "code",
   "execution_count": 92,
   "id": "8c626272",
   "metadata": {},
   "outputs": [
    {
     "data": {
      "text/html": [
       "<div>\n",
       "<style scoped>\n",
       "    .dataframe tbody tr th:only-of-type {\n",
       "        vertical-align: middle;\n",
       "    }\n",
       "\n",
       "    .dataframe tbody tr th {\n",
       "        vertical-align: top;\n",
       "    }\n",
       "\n",
       "    .dataframe thead th {\n",
       "        text-align: right;\n",
       "    }\n",
       "</style>\n",
       "<table border=\"1\" class=\"dataframe\">\n",
       "  <thead>\n",
       "    <tr style=\"text-align: right;\">\n",
       "      <th></th>\n",
       "      <th>Avg_sunspot_count</th>\n",
       "      <th>Avg_sunspot_count_forecast</th>\n",
       "    </tr>\n",
       "  </thead>\n",
       "  <tbody>\n",
       "    <tr>\n",
       "      <th>2011-01-31</th>\n",
       "      <td>9.986820</td>\n",
       "      <td>34.986820</td>\n",
       "    </tr>\n",
       "    <tr>\n",
       "      <th>2011-02-28</th>\n",
       "      <td>9.860244</td>\n",
       "      <td>34.860244</td>\n",
       "    </tr>\n",
       "    <tr>\n",
       "      <th>2011-03-31</th>\n",
       "      <td>6.256205</td>\n",
       "      <td>31.256205</td>\n",
       "    </tr>\n",
       "    <tr>\n",
       "      <th>2011-04-30</th>\n",
       "      <td>6.455699</td>\n",
       "      <td>31.455699</td>\n",
       "    </tr>\n",
       "    <tr>\n",
       "      <th>2011-05-31</th>\n",
       "      <td>8.946268</td>\n",
       "      <td>33.946268</td>\n",
       "    </tr>\n",
       "  </tbody>\n",
       "</table>\n",
       "</div>"
      ],
      "text/plain": [
       "            Avg_sunspot_count  Avg_sunspot_count_forecast\n",
       "2011-01-31           9.986820                   34.986820\n",
       "2011-02-28           9.860244                   34.860244\n",
       "2011-03-31           6.256205                   31.256205\n",
       "2011-04-30           6.455699                   31.455699\n",
       "2011-05-31           8.946268                   33.946268"
      ]
     },
     "execution_count": 92,
     "metadata": {},
     "output_type": "execute_result"
    }
   ],
   "source": [
    "predict_fc.head()"
   ]
  },
  {
   "cell_type": "code",
   "execution_count": 93,
   "id": "a1df8262",
   "metadata": {},
   "outputs": [],
   "source": [
    "a=list(predict_fc['Avg_sunspot_count_forecast'])"
   ]
  },
  {
   "cell_type": "code",
   "execution_count": 94,
   "id": "8a0e44a6",
   "metadata": {},
   "outputs": [
    {
     "data": {
      "text/html": [
       "<div>\n",
       "<style scoped>\n",
       "    .dataframe tbody tr th:only-of-type {\n",
       "        vertical-align: middle;\n",
       "    }\n",
       "\n",
       "    .dataframe tbody tr th {\n",
       "        vertical-align: top;\n",
       "    }\n",
       "\n",
       "    .dataframe thead th {\n",
       "        text-align: right;\n",
       "    }\n",
       "</style>\n",
       "<table border=\"1\" class=\"dataframe\">\n",
       "  <thead>\n",
       "    <tr style=\"text-align: right;\">\n",
       "      <th></th>\n",
       "      <th>Month</th>\n",
       "      <th>Avg_sunspot_count</th>\n",
       "    </tr>\n",
       "  </thead>\n",
       "  <tbody>\n",
       "    <tr>\n",
       "      <th>0</th>\n",
       "      <td>01-01-2011</td>\n",
       "      <td>34.986820</td>\n",
       "    </tr>\n",
       "    <tr>\n",
       "      <th>1</th>\n",
       "      <td>02-01-2011</td>\n",
       "      <td>34.860244</td>\n",
       "    </tr>\n",
       "    <tr>\n",
       "      <th>2</th>\n",
       "      <td>03-01-2011</td>\n",
       "      <td>31.256205</td>\n",
       "    </tr>\n",
       "    <tr>\n",
       "      <th>3</th>\n",
       "      <td>04-01-2011</td>\n",
       "      <td>31.455699</td>\n",
       "    </tr>\n",
       "    <tr>\n",
       "      <th>4</th>\n",
       "      <td>05-01-2011</td>\n",
       "      <td>33.946268</td>\n",
       "    </tr>\n",
       "  </tbody>\n",
       "</table>\n",
       "</div>"
      ],
      "text/plain": [
       "        Month  Avg_sunspot_count\n",
       "0  01-01-2011          34.986820\n",
       "1  02-01-2011          34.860244\n",
       "2  03-01-2011          31.256205\n",
       "3  04-01-2011          31.455699\n",
       "4  05-01-2011          33.946268"
      ]
     },
     "execution_count": 94,
     "metadata": {},
     "output_type": "execute_result"
    }
   ],
   "source": [
    "result['Avg_sunspot_count']=pd.DataFrame(a)\n",
    "result.head()"
   ]
  },
  {
   "cell_type": "code",
   "execution_count": 95,
   "id": "47b7839d",
   "metadata": {},
   "outputs": [
    {
     "data": {
      "image/png": "[encoded data removed]",
      "text/plain": [
       "<Figure size 1080x576 with 1 Axes>"
      ]
     },
     "metadata": {
      "needs_background": "light"
     },
     "output_type": "display_data"
    }
   ],
   "source": [
    "plt.plot(train,label='Training Data')\n",
    "#plt.plot(test,label='Test Data')\n",
    "plt.plot(predict_fc['Avg_sunspot_count_forecast'],label='Predicted Data - ARIMA')\n",
    "plt.legend(loc='best')\n",
    "plt.grid();"
   ]
  },
  {
   "cell_type": "code",
   "execution_count": 96,
   "id": "2ed9bd12",
   "metadata": {},
   "outputs": [],
   "source": [
    "result.to_csv('result25.csv', header=True, index=False)#not final result "
   ]
  },
  {
   "cell_type": "markdown",
   "id": "80c01de8",
   "metadata": {},
   "source": [
    "# Sarimax"
   ]
  },
  {
   "cell_type": "code",
   "execution_count": 118,
   "id": "4f6e52db",
   "metadata": {},
   "outputs": [
    {
     "name": "stdout",
     "output_type": "stream",
     "text": [
      "Examples of parameter combinations for Model...\n",
      "Model: (0, 1, 1)(0, 1, 1, 12)\n",
      "Model: (0, 1, 1)(0, 1, 2, 12)\n",
      "Model: (0, 1, 2)(0, 1, 3, 12)\n",
      "Model: (0, 1, 2)(0, 1, 4, 12)\n"
     ]
    }
   ],
   "source": [
    "import itertools\n",
    "p = q = range(0, 6)\n",
    "d= range(1,2)\n",
    "pdq = list(itertools.product(p, d, q))\n",
    "\n",
    "model_pdq = [(x[0], x[1], x[2], 12) for x in list(itertools.product(p, d, q))]\n",
    "print('Examples of parameter combinations for Model...')\n",
    "print('Model: {}{}'.format(pdq[1], model_pdq[1]))\n",
    "print('Model: {}{}'.format(pdq[1], model_pdq[2]))\n",
    "print('Model: {}{}'.format(pdq[2], model_pdq[3]))\n",
    "print('Model: {}{}'.format(pdq[2], model_pdq[4]))"
   ]
  },
  {
   "cell_type": "code",
   "execution_count": 119,
   "id": "88d40dfd",
   "metadata": {},
   "outputs": [
    {
     "data": {
      "text/plain": [
       "[(0, 1, 0),\n",
       " (0, 1, 1),\n",
       " (0, 1, 2),\n",
       " (0, 1, 3),\n",
       " (0, 1, 4),\n",
       " (0, 1, 5),\n",
       " (1, 1, 0),\n",
       " (1, 1, 1),\n",
       " (1, 1, 2),\n",
       " (1, 1, 3),\n",
       " (1, 1, 4),\n",
       " (1, 1, 5),\n",
       " (2, 1, 0),\n",
       " (2, 1, 1),\n",
       " (2, 1, 2),\n",
       " (2, 1, 3),\n",
       " (2, 1, 4),\n",
       " (2, 1, 5),\n",
       " (3, 1, 0),\n",
       " (3, 1, 1),\n",
       " (3, 1, 2),\n",
       " (3, 1, 3),\n",
       " (3, 1, 4),\n",
       " (3, 1, 5),\n",
       " (4, 1, 0),\n",
       " (4, 1, 1),\n",
       " (4, 1, 2),\n",
       " (4, 1, 3),\n",
       " (4, 1, 4),\n",
       " (4, 1, 5),\n",
       " (5, 1, 0),\n",
       " (5, 1, 1),\n",
       " (5, 1, 2),\n",
       " (5, 1, 3),\n",
       " (5, 1, 4),\n",
       " (5, 1, 5)]"
      ]
     },
     "execution_count": 119,
     "metadata": {},
     "output_type": "execute_result"
    }
   ],
   "source": [
    "pdq"
   ]
  },
  {
   "cell_type": "code",
   "execution_count": 120,
   "id": "1f52c12b",
   "metadata": {},
   "outputs": [
    {
     "data": {
      "text/plain": [
       "[(0, 1, 0, 12),\n",
       " (0, 1, 1, 12),\n",
       " (0, 1, 2, 12),\n",
       " (0, 1, 3, 12),\n",
       " (0, 1, 4, 12),\n",
       " (0, 1, 5, 12),\n",
       " (1, 1, 0, 12),\n",
       " (1, 1, 1, 12),\n",
       " (1, 1, 2, 12),\n",
       " (1, 1, 3, 12),\n",
       " (1, 1, 4, 12),\n",
       " (1, 1, 5, 12),\n",
       " (2, 1, 0, 12),\n",
       " (2, 1, 1, 12),\n",
       " (2, 1, 2, 12),\n",
       " (2, 1, 3, 12),\n",
       " (2, 1, 4, 12),\n",
       " (2, 1, 5, 12),\n",
       " (3, 1, 0, 12),\n",
       " (3, 1, 1, 12),\n",
       " (3, 1, 2, 12),\n",
       " (3, 1, 3, 12),\n",
       " (3, 1, 4, 12),\n",
       " (3, 1, 5, 12),\n",
       " (4, 1, 0, 12),\n",
       " (4, 1, 1, 12),\n",
       " (4, 1, 2, 12),\n",
       " (4, 1, 3, 12),\n",
       " (4, 1, 4, 12),\n",
       " (4, 1, 5, 12),\n",
       " (5, 1, 0, 12),\n",
       " (5, 1, 1, 12),\n",
       " (5, 1, 2, 12),\n",
       " (5, 1, 3, 12),\n",
       " (5, 1, 4, 12),\n",
       " (5, 1, 5, 12)]"
      ]
     },
     "execution_count": 120,
     "metadata": {},
     "output_type": "execute_result"
    }
   ],
   "source": [
    "model_pdq"
   ]
  },
  {
   "cell_type": "code",
   "execution_count": 121,
   "id": "b627a9f6",
   "metadata": {},
   "outputs": [
    {
     "data": {
      "text/html": [
       "<div>\n",
       "<style scoped>\n",
       "    .dataframe tbody tr th:only-of-type {\n",
       "        vertical-align: middle;\n",
       "    }\n",
       "\n",
       "    .dataframe tbody tr th {\n",
       "        vertical-align: top;\n",
       "    }\n",
       "\n",
       "    .dataframe thead th {\n",
       "        text-align: right;\n",
       "    }\n",
       "</style>\n",
       "<table border=\"1\" class=\"dataframe\">\n",
       "  <thead>\n",
       "    <tr style=\"text-align: right;\">\n",
       "      <th></th>\n",
       "      <th>param</th>\n",
       "      <th>seasonal</th>\n",
       "      <th>AIC</th>\n",
       "    </tr>\n",
       "  </thead>\n",
       "  <tbody>\n",
       "  </tbody>\n",
       "</table>\n",
       "</div>"
      ],
      "text/plain": [
       "Empty DataFrame\n",
       "Columns: [param, seasonal, AIC]\n",
       "Index: []"
      ]
     },
     "execution_count": 121,
     "metadata": {},
     "output_type": "execute_result"
    }
   ],
   "source": [
    "dfObj2 = pd.DataFrame(columns=['param','seasonal', 'AIC'])\n",
    "dfObj2"
   ]
  },
  {
   "cell_type": "code",
   "execution_count": 122,
   "id": "bfc6cd7b",
   "metadata": {},
   "outputs": [
    {
     "name": "stdout",
     "output_type": "stream",
     "text": [
      "SARIMA(0, 1, 0)x(0, 1, 0, 12)12 - AIC:1421.3733612343854\n",
      "SARIMA(0, 1, 0)x(0, 1, 1, 12)12 - AIC:1221.6987863180584\n",
      "SARIMA(0, 1, 0)x(0, 1, 2, 12)12 - AIC:1113.006641423068\n",
      "SARIMA(0, 1, 0)x(0, 1, 3, 12)12 - AIC:4112.505708931099\n",
      "SARIMA(0, 1, 0)x(0, 1, 4, 12)12 - AIC:884.0793623639097\n",
      "SARIMA(0, 1, 0)x(0, 1, 5, 12)12 - AIC:777.991606412811\n",
      "SARIMA(0, 1, 0)x(1, 1, 0, 12)12 - AIC:1280.1419203106107\n",
      "SARIMA(0, 1, 0)x(1, 1, 1, 12)12 - AIC:1223.441876457295\n",
      "SARIMA(0, 1, 0)x(1, 1, 2, 12)12 - AIC:1114.5378145539978\n"
     ]
    },
    {
     "ename": "KeyboardInterrupt",
     "evalue": "",
     "output_type": "error",
     "traceback": [
      "\u001b[1;31m---------------------------------------------------------------------------\u001b[0m",
      "\u001b[1;31mKeyboardInterrupt\u001b[0m                         Traceback (most recent call last)",
      "\u001b[1;32m<ipython-input-122-3fc154f2470b>\u001b[0m in \u001b[0;36m<module>\u001b[1;34m\u001b[0m\n\u001b[0;32m      8\u001b[0m                       enforce_invertibility=False)\n\u001b[0;32m      9\u001b[0m \u001b[1;33m\u001b[0m\u001b[0m\n\u001b[1;32m---> 10\u001b[1;33m         \u001b[0mresults_SARIMA\u001b[0m \u001b[1;33m=\u001b[0m \u001b[0mmod\u001b[0m\u001b[1;33m.\u001b[0m\u001b[0mfit\u001b[0m\u001b[1;33m(\u001b[0m\u001b[1;33m)\u001b[0m\u001b[1;33m\u001b[0m\u001b[1;33m\u001b[0m\u001b[0m\n\u001b[0m\u001b[0;32m     11\u001b[0m         \u001b[0mprint\u001b[0m\u001b[1;33m(\u001b[0m\u001b[1;34m'SARIMA{}x{}12 - AIC:{}'\u001b[0m\u001b[1;33m.\u001b[0m\u001b[0mformat\u001b[0m\u001b[1;33m(\u001b[0m\u001b[0mparam\u001b[0m\u001b[1;33m,\u001b[0m \u001b[0mparam_seasonal\u001b[0m\u001b[1;33m,\u001b[0m \u001b[0mresults_SARIMA\u001b[0m\u001b[1;33m.\u001b[0m\u001b[0maic\u001b[0m\u001b[1;33m)\u001b[0m\u001b[1;33m)\u001b[0m\u001b[1;33m\u001b[0m\u001b[1;33m\u001b[0m\u001b[0m\n\u001b[0;32m     12\u001b[0m         \u001b[0mdfObj2\u001b[0m \u001b[1;33m=\u001b[0m \u001b[0mdfObj2\u001b[0m\u001b[1;33m.\u001b[0m\u001b[0mappend\u001b[0m\u001b[1;33m(\u001b[0m\u001b[1;33m{\u001b[0m\u001b[1;34m'param'\u001b[0m\u001b[1;33m:\u001b[0m\u001b[0mparam\u001b[0m\u001b[1;33m,\u001b[0m\u001b[1;34m'seasonal'\u001b[0m\u001b[1;33m:\u001b[0m\u001b[0mparam_seasonal\u001b[0m \u001b[1;33m,\u001b[0m\u001b[1;34m'AIC'\u001b[0m\u001b[1;33m:\u001b[0m \u001b[0mresults_SARIMA\u001b[0m\u001b[1;33m.\u001b[0m\u001b[0maic\u001b[0m\u001b[1;33m}\u001b[0m\u001b[1;33m,\u001b[0m \u001b[0mignore_index\u001b[0m\u001b[1;33m=\u001b[0m\u001b[1;32mTrue\u001b[0m\u001b[1;33m)\u001b[0m\u001b[1;33m\u001b[0m\u001b[1;33m\u001b[0m\u001b[0m\n",
      "\u001b[1;32m~\\anaconda3\\lib\\site-packages\\statsmodels\\tsa\\statespace\\mlemodel.py\u001b[0m in \u001b[0;36mfit\u001b[1;34m(self, start_params, transformed, includes_fixed, cov_type, cov_kwds, method, maxiter, full_output, disp, callback, return_params, optim_score, optim_complex_step, optim_hessian, flags, low_memory, **kwargs)\u001b[0m\n\u001b[0;32m    688\u001b[0m                 \u001b[0mflags\u001b[0m\u001b[1;33m[\u001b[0m\u001b[1;34m'hessian_method'\u001b[0m\u001b[1;33m]\u001b[0m \u001b[1;33m=\u001b[0m \u001b[0moptim_hessian\u001b[0m\u001b[1;33m\u001b[0m\u001b[1;33m\u001b[0m\u001b[0m\n\u001b[0;32m    689\u001b[0m             \u001b[0mfargs\u001b[0m \u001b[1;33m=\u001b[0m \u001b[1;33m(\u001b[0m\u001b[0mflags\u001b[0m\u001b[1;33m,\u001b[0m\u001b[1;33m)\u001b[0m\u001b[1;33m\u001b[0m\u001b[1;33m\u001b[0m\u001b[0m\n\u001b[1;32m--> 690\u001b[1;33m             mlefit = super(MLEModel, self).fit(start_params, method=method,\n\u001b[0m\u001b[0;32m    691\u001b[0m                                                \u001b[0mfargs\u001b[0m\u001b[1;33m=\u001b[0m\u001b[0mfargs\u001b[0m\u001b[1;33m,\u001b[0m\u001b[1;33m\u001b[0m\u001b[1;33m\u001b[0m\u001b[0m\n\u001b[0;32m    692\u001b[0m                                                \u001b[0mmaxiter\u001b[0m\u001b[1;33m=\u001b[0m\u001b[0mmaxiter\u001b[0m\u001b[1;33m,\u001b[0m\u001b[1;33m\u001b[0m\u001b[1;33m\u001b[0m\u001b[0m\n",
      "\u001b[1;32m~\\anaconda3\\lib\\site-packages\\statsmodels\\base\\model.py\u001b[0m in \u001b[0;36mfit\u001b[1;34m(self, start_params, method, maxiter, full_output, disp, fargs, callback, retall, skip_hessian, **kwargs)\u001b[0m\n\u001b[0;32m    517\u001b[0m         \u001b[0mwarn_convergence\u001b[0m \u001b[1;33m=\u001b[0m \u001b[0mkwargs\u001b[0m\u001b[1;33m.\u001b[0m\u001b[0mpop\u001b[0m\u001b[1;33m(\u001b[0m\u001b[1;34m'warn_convergence'\u001b[0m\u001b[1;33m,\u001b[0m \u001b[1;32mTrue\u001b[0m\u001b[1;33m)\u001b[0m\u001b[1;33m\u001b[0m\u001b[1;33m\u001b[0m\u001b[0m\n\u001b[0;32m    518\u001b[0m         \u001b[0moptimizer\u001b[0m \u001b[1;33m=\u001b[0m \u001b[0mOptimizer\u001b[0m\u001b[1;33m(\u001b[0m\u001b[1;33m)\u001b[0m\u001b[1;33m\u001b[0m\u001b[1;33m\u001b[0m\u001b[0m\n\u001b[1;32m--> 519\u001b[1;33m         xopt, retvals, optim_settings = optimizer._fit(f, score, start_params,\n\u001b[0m\u001b[0;32m    520\u001b[0m                                                        \u001b[0mfargs\u001b[0m\u001b[1;33m,\u001b[0m \u001b[0mkwargs\u001b[0m\u001b[1;33m,\u001b[0m\u001b[1;33m\u001b[0m\u001b[1;33m\u001b[0m\u001b[0m\n\u001b[0;32m    521\u001b[0m                                                        \u001b[0mhessian\u001b[0m\u001b[1;33m=\u001b[0m\u001b[0mhess\u001b[0m\u001b[1;33m,\u001b[0m\u001b[1;33m\u001b[0m\u001b[1;33m\u001b[0m\u001b[0m\n",
      "\u001b[1;32m~\\anaconda3\\lib\\site-packages\\statsmodels\\base\\optimizer.py\u001b[0m in \u001b[0;36m_fit\u001b[1;34m(self, objective, gradient, start_params, fargs, kwargs, hessian, method, maxiter, full_output, disp, callback, retall)\u001b[0m\n\u001b[0;32m    222\u001b[0m \u001b[1;33m\u001b[0m\u001b[0m\n\u001b[0;32m    223\u001b[0m         \u001b[0mfunc\u001b[0m \u001b[1;33m=\u001b[0m \u001b[0mfit_funcs\u001b[0m\u001b[1;33m[\u001b[0m\u001b[0mmethod\u001b[0m\u001b[1;33m]\u001b[0m\u001b[1;33m\u001b[0m\u001b[1;33m\u001b[0m\u001b[0m\n\u001b[1;32m--> 224\u001b[1;33m         xopt, retvals = func(objective, gradient, start_params, fargs, kwargs,\n\u001b[0m\u001b[0;32m    225\u001b[0m                             \u001b[0mdisp\u001b[0m\u001b[1;33m=\u001b[0m\u001b[0mdisp\u001b[0m\u001b[1;33m,\u001b[0m \u001b[0mmaxiter\u001b[0m\u001b[1;33m=\u001b[0m\u001b[0mmaxiter\u001b[0m\u001b[1;33m,\u001b[0m \u001b[0mcallback\u001b[0m\u001b[1;33m=\u001b[0m\u001b[0mcallback\u001b[0m\u001b[1;33m,\u001b[0m\u001b[1;33m\u001b[0m\u001b[1;33m\u001b[0m\u001b[0m\n\u001b[0;32m    226\u001b[0m                             \u001b[0mretall\u001b[0m\u001b[1;33m=\u001b[0m\u001b[0mretall\u001b[0m\u001b[1;33m,\u001b[0m \u001b[0mfull_output\u001b[0m\u001b[1;33m=\u001b[0m\u001b[0mfull_output\u001b[0m\u001b[1;33m,\u001b[0m\u001b[1;33m\u001b[0m\u001b[1;33m\u001b[0m\u001b[0m\n",
      "\u001b[1;32m~\\anaconda3\\lib\\site-packages\\statsmodels\\base\\optimizer.py\u001b[0m in \u001b[0;36m_fit_lbfgs\u001b[1;34m(f, score, start_params, fargs, kwargs, disp, maxiter, callback, retall, full_output, hess)\u001b[0m\n\u001b[0;32m    627\u001b[0m         \u001b[0mfunc\u001b[0m \u001b[1;33m=\u001b[0m \u001b[0mf\u001b[0m\u001b[1;33m\u001b[0m\u001b[1;33m\u001b[0m\u001b[0m\n\u001b[0;32m    628\u001b[0m \u001b[1;33m\u001b[0m\u001b[0m\n\u001b[1;32m--> 629\u001b[1;33m     retvals = optimize.fmin_l_bfgs_b(func, start_params, maxiter=maxiter,\n\u001b[0m\u001b[0;32m    630\u001b[0m                                      \u001b[0mcallback\u001b[0m\u001b[1;33m=\u001b[0m\u001b[0mcallback\u001b[0m\u001b[1;33m,\u001b[0m \u001b[0margs\u001b[0m\u001b[1;33m=\u001b[0m\u001b[0mfargs\u001b[0m\u001b[1;33m,\u001b[0m\u001b[1;33m\u001b[0m\u001b[1;33m\u001b[0m\u001b[0m\n\u001b[0;32m    631\u001b[0m                                      \u001b[0mbounds\u001b[0m\u001b[1;33m=\u001b[0m\u001b[0mbounds\u001b[0m\u001b[1;33m,\u001b[0m \u001b[0mdisp\u001b[0m\u001b[1;33m=\u001b[0m\u001b[0mdisp\u001b[0m\u001b[1;33m,\u001b[0m\u001b[1;33m\u001b[0m\u001b[1;33m\u001b[0m\u001b[0m\n",
      "\u001b[1;32m~\\anaconda3\\lib\\site-packages\\scipy\\optimize\\lbfgsb.py\u001b[0m in \u001b[0;36mfmin_l_bfgs_b\u001b[1;34m(func, x0, fprime, args, approx_grad, bounds, m, factr, pgtol, epsilon, iprint, maxfun, maxiter, disp, callback, maxls)\u001b[0m\n\u001b[0;32m    195\u001b[0m             'maxls': maxls}\n\u001b[0;32m    196\u001b[0m \u001b[1;33m\u001b[0m\u001b[0m\n\u001b[1;32m--> 197\u001b[1;33m     res = _minimize_lbfgsb(fun, x0, args=args, jac=jac, bounds=bounds,\n\u001b[0m\u001b[0;32m    198\u001b[0m                            **opts)\n\u001b[0;32m    199\u001b[0m     d = {'grad': res['jac'],\n",
      "\u001b[1;32m~\\anaconda3\\lib\\site-packages\\scipy\\optimize\\lbfgsb.py\u001b[0m in \u001b[0;36m_minimize_lbfgsb\u001b[1;34m(fun, x0, args, jac, bounds, disp, maxcor, ftol, gtol, eps, maxfun, maxiter, iprint, callback, maxls, finite_diff_rel_step, **unknown_options)\u001b[0m\n\u001b[0;32m    358\u001b[0m             \u001b[1;31m# until the completion of the current minimization iteration.\u001b[0m\u001b[1;33m\u001b[0m\u001b[1;33m\u001b[0m\u001b[1;33m\u001b[0m\u001b[0m\n\u001b[0;32m    359\u001b[0m             \u001b[1;31m# Overwrite f and g:\u001b[0m\u001b[1;33m\u001b[0m\u001b[1;33m\u001b[0m\u001b[1;33m\u001b[0m\u001b[0m\n\u001b[1;32m--> 360\u001b[1;33m             \u001b[0mf\u001b[0m\u001b[1;33m,\u001b[0m \u001b[0mg\u001b[0m \u001b[1;33m=\u001b[0m \u001b[0mfunc_and_grad\u001b[0m\u001b[1;33m(\u001b[0m\u001b[0mx\u001b[0m\u001b[1;33m)\u001b[0m\u001b[1;33m\u001b[0m\u001b[1;33m\u001b[0m\u001b[0m\n\u001b[0m\u001b[0;32m    361\u001b[0m         \u001b[1;32melif\u001b[0m \u001b[0mtask_str\u001b[0m\u001b[1;33m.\u001b[0m\u001b[0mstartswith\u001b[0m\u001b[1;33m(\u001b[0m\u001b[1;34mb'NEW_X'\u001b[0m\u001b[1;33m)\u001b[0m\u001b[1;33m:\u001b[0m\u001b[1;33m\u001b[0m\u001b[1;33m\u001b[0m\u001b[0m\n\u001b[0;32m    362\u001b[0m             \u001b[1;31m# new iteration\u001b[0m\u001b[1;33m\u001b[0m\u001b[1;33m\u001b[0m\u001b[1;33m\u001b[0m\u001b[0m\n",
      "\u001b[1;32m~\\anaconda3\\lib\\site-packages\\scipy\\optimize\\_differentiable_functions.py\u001b[0m in \u001b[0;36mfun_and_grad\u001b[1;34m(self, x)\u001b[0m\n\u001b[0;32m    259\u001b[0m             \u001b[0mself\u001b[0m\u001b[1;33m.\u001b[0m\u001b[0m_update_x_impl\u001b[0m\u001b[1;33m(\u001b[0m\u001b[0mx\u001b[0m\u001b[1;33m)\u001b[0m\u001b[1;33m\u001b[0m\u001b[1;33m\u001b[0m\u001b[0m\n\u001b[0;32m    260\u001b[0m         \u001b[0mself\u001b[0m\u001b[1;33m.\u001b[0m\u001b[0m_update_fun\u001b[0m\u001b[1;33m(\u001b[0m\u001b[1;33m)\u001b[0m\u001b[1;33m\u001b[0m\u001b[1;33m\u001b[0m\u001b[0m\n\u001b[1;32m--> 261\u001b[1;33m         \u001b[0mself\u001b[0m\u001b[1;33m.\u001b[0m\u001b[0m_update_grad\u001b[0m\u001b[1;33m(\u001b[0m\u001b[1;33m)\u001b[0m\u001b[1;33m\u001b[0m\u001b[1;33m\u001b[0m\u001b[0m\n\u001b[0m\u001b[0;32m    262\u001b[0m         \u001b[1;32mreturn\u001b[0m \u001b[0mself\u001b[0m\u001b[1;33m.\u001b[0m\u001b[0mf\u001b[0m\u001b[1;33m,\u001b[0m \u001b[0mself\u001b[0m\u001b[1;33m.\u001b[0m\u001b[0mg\u001b[0m\u001b[1;33m\u001b[0m\u001b[1;33m\u001b[0m\u001b[0m\n\u001b[0;32m    263\u001b[0m \u001b[1;33m\u001b[0m\u001b[0m\n",
      "\u001b[1;32m~\\anaconda3\\lib\\site-packages\\scipy\\optimize\\_differentiable_functions.py\u001b[0m in \u001b[0;36m_update_grad\u001b[1;34m(self)\u001b[0m\n\u001b[0;32m    229\u001b[0m     \u001b[1;32mdef\u001b[0m \u001b[0m_update_grad\u001b[0m\u001b[1;33m(\u001b[0m\u001b[0mself\u001b[0m\u001b[1;33m)\u001b[0m\u001b[1;33m:\u001b[0m\u001b[1;33m\u001b[0m\u001b[1;33m\u001b[0m\u001b[0m\n\u001b[0;32m    230\u001b[0m         \u001b[1;32mif\u001b[0m \u001b[1;32mnot\u001b[0m \u001b[0mself\u001b[0m\u001b[1;33m.\u001b[0m\u001b[0mg_updated\u001b[0m\u001b[1;33m:\u001b[0m\u001b[1;33m\u001b[0m\u001b[1;33m\u001b[0m\u001b[0m\n\u001b[1;32m--> 231\u001b[1;33m             \u001b[0mself\u001b[0m\u001b[1;33m.\u001b[0m\u001b[0m_update_grad_impl\u001b[0m\u001b[1;33m(\u001b[0m\u001b[1;33m)\u001b[0m\u001b[1;33m\u001b[0m\u001b[1;33m\u001b[0m\u001b[0m\n\u001b[0m\u001b[0;32m    232\u001b[0m             \u001b[0mself\u001b[0m\u001b[1;33m.\u001b[0m\u001b[0mg_updated\u001b[0m \u001b[1;33m=\u001b[0m \u001b[1;32mTrue\u001b[0m\u001b[1;33m\u001b[0m\u001b[1;33m\u001b[0m\u001b[0m\n\u001b[0;32m    233\u001b[0m \u001b[1;33m\u001b[0m\u001b[0m\n",
      "\u001b[1;32m~\\anaconda3\\lib\\site-packages\\scipy\\optimize\\_differentiable_functions.py\u001b[0m in \u001b[0;36mupdate_grad\u001b[1;34m()\u001b[0m\n\u001b[0;32m    149\u001b[0m                 \u001b[0mself\u001b[0m\u001b[1;33m.\u001b[0m\u001b[0m_update_fun\u001b[0m\u001b[1;33m(\u001b[0m\u001b[1;33m)\u001b[0m\u001b[1;33m\u001b[0m\u001b[1;33m\u001b[0m\u001b[0m\n\u001b[0;32m    150\u001b[0m                 \u001b[0mself\u001b[0m\u001b[1;33m.\u001b[0m\u001b[0mngev\u001b[0m \u001b[1;33m+=\u001b[0m \u001b[1;36m1\u001b[0m\u001b[1;33m\u001b[0m\u001b[1;33m\u001b[0m\u001b[0m\n\u001b[1;32m--> 151\u001b[1;33m                 self.g = approx_derivative(fun_wrapped, self.x, f0=self.f,\n\u001b[0m\u001b[0;32m    152\u001b[0m                                            **finite_diff_options)\n\u001b[0;32m    153\u001b[0m \u001b[1;33m\u001b[0m\u001b[0m\n",
      "\u001b[1;32m~\\anaconda3\\lib\\site-packages\\scipy\\optimize\\_numdiff.py\u001b[0m in \u001b[0;36mapprox_derivative\u001b[1;34m(fun, x0, method, rel_step, abs_step, f0, bounds, sparsity, as_linear_operator, args, kwargs)\u001b[0m\n\u001b[0;32m    484\u001b[0m \u001b[1;33m\u001b[0m\u001b[0m\n\u001b[0;32m    485\u001b[0m         \u001b[1;32mif\u001b[0m \u001b[0msparsity\u001b[0m \u001b[1;32mis\u001b[0m \u001b[1;32mNone\u001b[0m\u001b[1;33m:\u001b[0m\u001b[1;33m\u001b[0m\u001b[1;33m\u001b[0m\u001b[0m\n\u001b[1;32m--> 486\u001b[1;33m             return _dense_difference(fun_wrapped, x0, f0, h,\n\u001b[0m\u001b[0;32m    487\u001b[0m                                      use_one_sided, method)\n\u001b[0;32m    488\u001b[0m         \u001b[1;32melse\u001b[0m\u001b[1;33m:\u001b[0m\u001b[1;33m\u001b[0m\u001b[1;33m\u001b[0m\u001b[0m\n",
      "\u001b[1;32m~\\anaconda3\\lib\\site-packages\\scipy\\optimize\\_numdiff.py\u001b[0m in \u001b[0;36m_dense_difference\u001b[1;34m(fun, x0, f0, h, use_one_sided, method)\u001b[0m\n\u001b[0;32m    555\u001b[0m             \u001b[0mx\u001b[0m \u001b[1;33m=\u001b[0m \u001b[0mx0\u001b[0m \u001b[1;33m+\u001b[0m \u001b[0mh_vecs\u001b[0m\u001b[1;33m[\u001b[0m\u001b[0mi\u001b[0m\u001b[1;33m]\u001b[0m\u001b[1;33m\u001b[0m\u001b[1;33m\u001b[0m\u001b[0m\n\u001b[0;32m    556\u001b[0m             \u001b[0mdx\u001b[0m \u001b[1;33m=\u001b[0m \u001b[0mx\u001b[0m\u001b[1;33m[\u001b[0m\u001b[0mi\u001b[0m\u001b[1;33m]\u001b[0m \u001b[1;33m-\u001b[0m \u001b[0mx0\u001b[0m\u001b[1;33m[\u001b[0m\u001b[0mi\u001b[0m\u001b[1;33m]\u001b[0m  \u001b[1;31m# Recompute dx as exactly representable number.\u001b[0m\u001b[1;33m\u001b[0m\u001b[1;33m\u001b[0m\u001b[0m\n\u001b[1;32m--> 557\u001b[1;33m             \u001b[0mdf\u001b[0m \u001b[1;33m=\u001b[0m \u001b[0mfun\u001b[0m\u001b[1;33m(\u001b[0m\u001b[0mx\u001b[0m\u001b[1;33m)\u001b[0m \u001b[1;33m-\u001b[0m \u001b[0mf0\u001b[0m\u001b[1;33m\u001b[0m\u001b[1;33m\u001b[0m\u001b[0m\n\u001b[0m\u001b[0;32m    558\u001b[0m         \u001b[1;32melif\u001b[0m \u001b[0mmethod\u001b[0m \u001b[1;33m==\u001b[0m \u001b[1;34m'3-point'\u001b[0m \u001b[1;32mand\u001b[0m \u001b[0muse_one_sided\u001b[0m\u001b[1;33m[\u001b[0m\u001b[0mi\u001b[0m\u001b[1;33m]\u001b[0m\u001b[1;33m:\u001b[0m\u001b[1;33m\u001b[0m\u001b[1;33m\u001b[0m\u001b[0m\n\u001b[0;32m    559\u001b[0m             \u001b[0mx1\u001b[0m \u001b[1;33m=\u001b[0m \u001b[0mx0\u001b[0m \u001b[1;33m+\u001b[0m \u001b[0mh_vecs\u001b[0m\u001b[1;33m[\u001b[0m\u001b[0mi\u001b[0m\u001b[1;33m]\u001b[0m\u001b[1;33m\u001b[0m\u001b[1;33m\u001b[0m\u001b[0m\n",
      "\u001b[1;32m~\\anaconda3\\lib\\site-packages\\scipy\\optimize\\_numdiff.py\u001b[0m in \u001b[0;36mfun_wrapped\u001b[1;34m(x)\u001b[0m\n\u001b[0;32m    435\u001b[0m \u001b[1;33m\u001b[0m\u001b[0m\n\u001b[0;32m    436\u001b[0m     \u001b[1;32mdef\u001b[0m \u001b[0mfun_wrapped\u001b[0m\u001b[1;33m(\u001b[0m\u001b[0mx\u001b[0m\u001b[1;33m)\u001b[0m\u001b[1;33m:\u001b[0m\u001b[1;33m\u001b[0m\u001b[1;33m\u001b[0m\u001b[0m\n\u001b[1;32m--> 437\u001b[1;33m         \u001b[0mf\u001b[0m \u001b[1;33m=\u001b[0m \u001b[0mnp\u001b[0m\u001b[1;33m.\u001b[0m\u001b[0matleast_1d\u001b[0m\u001b[1;33m(\u001b[0m\u001b[0mfun\u001b[0m\u001b[1;33m(\u001b[0m\u001b[0mx\u001b[0m\u001b[1;33m,\u001b[0m \u001b[1;33m*\u001b[0m\u001b[0margs\u001b[0m\u001b[1;33m,\u001b[0m \u001b[1;33m**\u001b[0m\u001b[0mkwargs\u001b[0m\u001b[1;33m)\u001b[0m\u001b[1;33m)\u001b[0m\u001b[1;33m\u001b[0m\u001b[1;33m\u001b[0m\u001b[0m\n\u001b[0m\u001b[0;32m    438\u001b[0m         \u001b[1;32mif\u001b[0m \u001b[0mf\u001b[0m\u001b[1;33m.\u001b[0m\u001b[0mndim\u001b[0m \u001b[1;33m>\u001b[0m \u001b[1;36m1\u001b[0m\u001b[1;33m:\u001b[0m\u001b[1;33m\u001b[0m\u001b[1;33m\u001b[0m\u001b[0m\n\u001b[0;32m    439\u001b[0m             raise RuntimeError(\"`fun` return value has \"\n",
      "\u001b[1;32m~\\anaconda3\\lib\\site-packages\\scipy\\optimize\\_differentiable_functions.py\u001b[0m in \u001b[0;36mfun_wrapped\u001b[1;34m(x)\u001b[0m\n\u001b[0;32m    128\u001b[0m         \u001b[1;32mdef\u001b[0m \u001b[0mfun_wrapped\u001b[0m\u001b[1;33m(\u001b[0m\u001b[0mx\u001b[0m\u001b[1;33m)\u001b[0m\u001b[1;33m:\u001b[0m\u001b[1;33m\u001b[0m\u001b[1;33m\u001b[0m\u001b[0m\n\u001b[0;32m    129\u001b[0m             \u001b[0mself\u001b[0m\u001b[1;33m.\u001b[0m\u001b[0mnfev\u001b[0m \u001b[1;33m+=\u001b[0m \u001b[1;36m1\u001b[0m\u001b[1;33m\u001b[0m\u001b[1;33m\u001b[0m\u001b[0m\n\u001b[1;32m--> 130\u001b[1;33m             \u001b[1;32mreturn\u001b[0m \u001b[0mfun\u001b[0m\u001b[1;33m(\u001b[0m\u001b[0mx\u001b[0m\u001b[1;33m,\u001b[0m \u001b[1;33m*\u001b[0m\u001b[0margs\u001b[0m\u001b[1;33m)\u001b[0m\u001b[1;33m\u001b[0m\u001b[1;33m\u001b[0m\u001b[0m\n\u001b[0m\u001b[0;32m    131\u001b[0m \u001b[1;33m\u001b[0m\u001b[0m\n\u001b[0;32m    132\u001b[0m         \u001b[1;32mdef\u001b[0m \u001b[0mupdate_fun\u001b[0m\u001b[1;33m(\u001b[0m\u001b[1;33m)\u001b[0m\u001b[1;33m:\u001b[0m\u001b[1;33m\u001b[0m\u001b[1;33m\u001b[0m\u001b[0m\n",
      "\u001b[1;32m~\\anaconda3\\lib\\site-packages\\statsmodels\\base\\model.py\u001b[0m in \u001b[0;36mf\u001b[1;34m(params, *args)\u001b[0m\n\u001b[0;32m    499\u001b[0m \u001b[1;33m\u001b[0m\u001b[0m\n\u001b[0;32m    500\u001b[0m         \u001b[1;32mdef\u001b[0m \u001b[0mf\u001b[0m\u001b[1;33m(\u001b[0m\u001b[0mparams\u001b[0m\u001b[1;33m,\u001b[0m \u001b[1;33m*\u001b[0m\u001b[0margs\u001b[0m\u001b[1;33m)\u001b[0m\u001b[1;33m:\u001b[0m\u001b[1;33m\u001b[0m\u001b[1;33m\u001b[0m\u001b[0m\n\u001b[1;32m--> 501\u001b[1;33m             \u001b[1;32mreturn\u001b[0m \u001b[1;33m-\u001b[0m\u001b[0mself\u001b[0m\u001b[1;33m.\u001b[0m\u001b[0mloglike\u001b[0m\u001b[1;33m(\u001b[0m\u001b[0mparams\u001b[0m\u001b[1;33m,\u001b[0m \u001b[1;33m*\u001b[0m\u001b[0margs\u001b[0m\u001b[1;33m)\u001b[0m \u001b[1;33m/\u001b[0m \u001b[0mnobs\u001b[0m\u001b[1;33m\u001b[0m\u001b[1;33m\u001b[0m\u001b[0m\n\u001b[0m\u001b[0;32m    502\u001b[0m \u001b[1;33m\u001b[0m\u001b[0m\n\u001b[0;32m    503\u001b[0m         \u001b[1;32mif\u001b[0m \u001b[0mmethod\u001b[0m \u001b[1;33m==\u001b[0m \u001b[1;34m'newton'\u001b[0m\u001b[1;33m:\u001b[0m\u001b[1;33m\u001b[0m\u001b[1;33m\u001b[0m\u001b[0m\n",
      "\u001b[1;32m~\\anaconda3\\lib\\site-packages\\statsmodels\\tsa\\statespace\\mlemodel.py\u001b[0m in \u001b[0;36mloglike\u001b[1;34m(self, params, *args, **kwargs)\u001b[0m\n\u001b[0;32m    923\u001b[0m             \u001b[0mkwargs\u001b[0m\u001b[1;33m[\u001b[0m\u001b[1;34m'inversion_method'\u001b[0m\u001b[1;33m]\u001b[0m \u001b[1;33m=\u001b[0m \u001b[0mINVERT_UNIVARIATE\u001b[0m \u001b[1;33m|\u001b[0m \u001b[0mSOLVE_LU\u001b[0m\u001b[1;33m\u001b[0m\u001b[1;33m\u001b[0m\u001b[0m\n\u001b[0;32m    924\u001b[0m \u001b[1;33m\u001b[0m\u001b[0m\n\u001b[1;32m--> 925\u001b[1;33m         \u001b[0mloglike\u001b[0m \u001b[1;33m=\u001b[0m \u001b[0mself\u001b[0m\u001b[1;33m.\u001b[0m\u001b[0mssm\u001b[0m\u001b[1;33m.\u001b[0m\u001b[0mloglike\u001b[0m\u001b[1;33m(\u001b[0m\u001b[0mcomplex_step\u001b[0m\u001b[1;33m=\u001b[0m\u001b[0mcomplex_step\u001b[0m\u001b[1;33m,\u001b[0m \u001b[1;33m**\u001b[0m\u001b[0mkwargs\u001b[0m\u001b[1;33m)\u001b[0m\u001b[1;33m\u001b[0m\u001b[1;33m\u001b[0m\u001b[0m\n\u001b[0m\u001b[0;32m    926\u001b[0m \u001b[1;33m\u001b[0m\u001b[0m\n\u001b[0;32m    927\u001b[0m         \u001b[1;31m# Koopman, Shephard, and Doornik recommend maximizing the average\u001b[0m\u001b[1;33m\u001b[0m\u001b[1;33m\u001b[0m\u001b[1;33m\u001b[0m\u001b[0m\n",
      "\u001b[1;32m~\\anaconda3\\lib\\site-packages\\statsmodels\\tsa\\statespace\\kalman_filter.py\u001b[0m in \u001b[0;36mloglike\u001b[1;34m(self, **kwargs)\u001b[0m\n\u001b[0;32m    981\u001b[0m         kwargs.setdefault('conserve_memory',\n\u001b[0;32m    982\u001b[0m                           MEMORY_CONSERVE ^ MEMORY_NO_LIKELIHOOD)\n\u001b[1;32m--> 983\u001b[1;33m         \u001b[0mkfilter\u001b[0m \u001b[1;33m=\u001b[0m \u001b[0mself\u001b[0m\u001b[1;33m.\u001b[0m\u001b[0m_filter\u001b[0m\u001b[1;33m(\u001b[0m\u001b[1;33m**\u001b[0m\u001b[0mkwargs\u001b[0m\u001b[1;33m)\u001b[0m\u001b[1;33m\u001b[0m\u001b[1;33m\u001b[0m\u001b[0m\n\u001b[0m\u001b[0;32m    984\u001b[0m         loglikelihood_burn = kwargs.get('loglikelihood_burn',\n\u001b[0;32m    985\u001b[0m                                         self.loglikelihood_burn)\n",
      "\u001b[1;32m~\\anaconda3\\lib\\site-packages\\statsmodels\\tsa\\statespace\\kalman_filter.py\u001b[0m in \u001b[0;36m_filter\u001b[1;34m(self, filter_method, inversion_method, stability_method, conserve_memory, filter_timing, tolerance, loglikelihood_burn, complex_step)\u001b[0m\n\u001b[0;32m    901\u001b[0m \u001b[1;33m\u001b[0m\u001b[0m\n\u001b[0;32m    902\u001b[0m         \u001b[1;31m# Initialize the state\u001b[0m\u001b[1;33m\u001b[0m\u001b[1;33m\u001b[0m\u001b[1;33m\u001b[0m\u001b[0m\n\u001b[1;32m--> 903\u001b[1;33m         \u001b[0mself\u001b[0m\u001b[1;33m.\u001b[0m\u001b[0m_initialize_state\u001b[0m\u001b[1;33m(\u001b[0m\u001b[0mprefix\u001b[0m\u001b[1;33m=\u001b[0m\u001b[0mprefix\u001b[0m\u001b[1;33m,\u001b[0m \u001b[0mcomplex_step\u001b[0m\u001b[1;33m=\u001b[0m\u001b[0mcomplex_step\u001b[0m\u001b[1;33m)\u001b[0m\u001b[1;33m\u001b[0m\u001b[1;33m\u001b[0m\u001b[0m\n\u001b[0m\u001b[0;32m    904\u001b[0m \u001b[1;33m\u001b[0m\u001b[0m\n\u001b[0;32m    905\u001b[0m         \u001b[1;31m# Run the filter\u001b[0m\u001b[1;33m\u001b[0m\u001b[1;33m\u001b[0m\u001b[1;33m\u001b[0m\u001b[0m\n",
      "\u001b[1;32m~\\anaconda3\\lib\\site-packages\\statsmodels\\tsa\\statespace\\representation.py\u001b[0m in \u001b[0;36m_initialize_state\u001b[1;34m(self, prefix, complex_step)\u001b[0m\n\u001b[0;32m    983\u001b[0m             \u001b[1;32mif\u001b[0m \u001b[1;32mnot\u001b[0m \u001b[0mself\u001b[0m\u001b[1;33m.\u001b[0m\u001b[0minitialization\u001b[0m\u001b[1;33m.\u001b[0m\u001b[0minitialized\u001b[0m\u001b[1;33m:\u001b[0m\u001b[1;33m\u001b[0m\u001b[1;33m\u001b[0m\u001b[0m\n\u001b[0;32m    984\u001b[0m                 \u001b[1;32mraise\u001b[0m \u001b[0mRuntimeError\u001b[0m\u001b[1;33m(\u001b[0m\u001b[1;34m'Initialization is incomplete.'\u001b[0m\u001b[1;33m)\u001b[0m\u001b[1;33m\u001b[0m\u001b[1;33m\u001b[0m\u001b[0m\n\u001b[1;32m--> 985\u001b[1;33m             self._statespaces[prefix].initialize(self.initialization,\n\u001b[0m\u001b[0;32m    986\u001b[0m                                                  complex_step=complex_step)\n\u001b[0;32m    987\u001b[0m         \u001b[1;32melse\u001b[0m\u001b[1;33m:\u001b[0m\u001b[1;33m\u001b[0m\u001b[1;33m\u001b[0m\u001b[0m\n",
      "\u001b[1;32mstatsmodels\\tsa\\statespace\\_representation.pyx\u001b[0m in \u001b[0;36mstatsmodels.tsa.statespace._representation.dStatespace.initialize\u001b[1;34m()\u001b[0m\n",
      "\u001b[1;32m~\\anaconda3\\lib\\site-packages\\statsmodels\\tsa\\statespace\\initialization.py\u001b[0m in \u001b[0;36m_initialize_initialization\u001b[1;34m(self, prefix)\u001b[0m\n\u001b[0;32m    229\u001b[0m             self._representations[prefix]['constant'][:] = (\n\u001b[0;32m    230\u001b[0m                 self.constant.astype(dtype)[:])\n\u001b[1;32m--> 231\u001b[1;33m             self._representations[prefix]['stationary_cov'][:] = (\n\u001b[0m\u001b[0;32m    232\u001b[0m                 self.stationary_cov.astype(dtype)[:])\n\u001b[0;32m    233\u001b[0m \u001b[1;33m\u001b[0m\u001b[0m\n",
      "\u001b[1;31mKeyboardInterrupt\u001b[0m: "
     ]
    }
   ],
   "source": [
    "import statsmodels.api as sm\n",
    "for param in pdq:\n",
    "    for param_seasonal in model_pdq:\n",
    "        mod = SARIMAX(train,\n",
    "                      order=param,\n",
    "                      seasonal_order=param_seasonal,\n",
    "                      enforce_stationarity=False,\n",
    "                      enforce_invertibility=False)\n",
    "            \n",
    "        results_SARIMA = mod.fit()\n",
    "        print('SARIMA{}x{}12 - AIC:{}'.format(param, param_seasonal, results_SARIMA.aic))\n",
    "        dfObj2 = dfObj2.append({'param':param,'seasonal':param_seasonal ,'AIC': results_SARIMA.aic}, ignore_index=True)"
   ]
  },
  {
   "cell_type": "code",
   "execution_count": 60,
   "id": "ff381cbe",
   "metadata": {},
   "outputs": [
    {
     "data": {
      "text/html": [
       "<div>\n",
       "<style scoped>\n",
       "    .dataframe tbody tr th:only-of-type {\n",
       "        vertical-align: middle;\n",
       "    }\n",
       "\n",
       "    .dataframe tbody tr th {\n",
       "        vertical-align: top;\n",
       "    }\n",
       "\n",
       "    .dataframe thead th {\n",
       "        text-align: right;\n",
       "    }\n",
       "</style>\n",
       "<table border=\"1\" class=\"dataframe\">\n",
       "  <thead>\n",
       "    <tr style=\"text-align: right;\">\n",
       "      <th></th>\n",
       "      <th>param</th>\n",
       "      <th>seasonal</th>\n",
       "      <th>AIC</th>\n",
       "    </tr>\n",
       "  </thead>\n",
       "  <tbody>\n",
       "    <tr>\n",
       "      <th>27</th>\n",
       "      <td>(0, 1, 0)</td>\n",
       "      <td>(4, 1, 3, 12)</td>\n",
       "      <td>186.156546</td>\n",
       "    </tr>\n",
       "    <tr>\n",
       "      <th>29</th>\n",
       "      <td>(0, 1, 0)</td>\n",
       "      <td>(4, 1, 5, 12)</td>\n",
       "      <td>740.745133</td>\n",
       "    </tr>\n",
       "    <tr>\n",
       "      <th>17</th>\n",
       "      <td>(0, 1, 0)</td>\n",
       "      <td>(2, 1, 5, 12)</td>\n",
       "      <td>748.841424</td>\n",
       "    </tr>\n",
       "    <tr>\n",
       "      <th>23</th>\n",
       "      <td>(0, 1, 0)</td>\n",
       "      <td>(3, 1, 5, 12)</td>\n",
       "      <td>749.273907</td>\n",
       "    </tr>\n",
       "    <tr>\n",
       "      <th>32</th>\n",
       "      <td>(0, 1, 0)</td>\n",
       "      <td>(5, 1, 2, 12)</td>\n",
       "      <td>758.063053</td>\n",
       "    </tr>\n",
       "    <tr>\n",
       "      <th>31</th>\n",
       "      <td>(0, 1, 0)</td>\n",
       "      <td>(5, 1, 1, 12)</td>\n",
       "      <td>760.942322</td>\n",
       "    </tr>\n",
       "    <tr>\n",
       "      <th>30</th>\n",
       "      <td>(0, 1, 0)</td>\n",
       "      <td>(5, 1, 0, 12)</td>\n",
       "      <td>763.918340</td>\n",
       "    </tr>\n",
       "    <tr>\n",
       "      <th>5</th>\n",
       "      <td>(0, 1, 0)</td>\n",
       "      <td>(0, 1, 5, 12)</td>\n",
       "      <td>777.991606</td>\n",
       "    </tr>\n",
       "    <tr>\n",
       "      <th>11</th>\n",
       "      <td>(0, 1, 0)</td>\n",
       "      <td>(1, 1, 5, 12)</td>\n",
       "      <td>778.416323</td>\n",
       "    </tr>\n",
       "    <tr>\n",
       "      <th>22</th>\n",
       "      <td>(0, 1, 0)</td>\n",
       "      <td>(3, 1, 4, 12)</td>\n",
       "      <td>861.899913</td>\n",
       "    </tr>\n",
       "    <tr>\n",
       "      <th>28</th>\n",
       "      <td>(0, 1, 0)</td>\n",
       "      <td>(4, 1, 4, 12)</td>\n",
       "      <td>863.902943</td>\n",
       "    </tr>\n",
       "    <tr>\n",
       "      <th>16</th>\n",
       "      <td>(0, 1, 0)</td>\n",
       "      <td>(2, 1, 4, 12)</td>\n",
       "      <td>875.181578</td>\n",
       "    </tr>\n",
       "    <tr>\n",
       "      <th>10</th>\n",
       "      <td>(0, 1, 0)</td>\n",
       "      <td>(1, 1, 4, 12)</td>\n",
       "      <td>878.200623</td>\n",
       "    </tr>\n",
       "    <tr>\n",
       "      <th>24</th>\n",
       "      <td>(0, 1, 0)</td>\n",
       "      <td>(4, 1, 0, 12)</td>\n",
       "      <td>883.382660</td>\n",
       "    </tr>\n",
       "    <tr>\n",
       "      <th>26</th>\n",
       "      <td>(0, 1, 0)</td>\n",
       "      <td>(4, 1, 2, 12)</td>\n",
       "      <td>883.792715</td>\n",
       "    </tr>\n",
       "    <tr>\n",
       "      <th>4</th>\n",
       "      <td>(0, 1, 0)</td>\n",
       "      <td>(0, 1, 4, 12)</td>\n",
       "      <td>884.079362</td>\n",
       "    </tr>\n",
       "    <tr>\n",
       "      <th>25</th>\n",
       "      <td>(0, 1, 0)</td>\n",
       "      <td>(4, 1, 1, 12)</td>\n",
       "      <td>884.104797</td>\n",
       "    </tr>\n",
       "    <tr>\n",
       "      <th>19</th>\n",
       "      <td>(0, 1, 0)</td>\n",
       "      <td>(3, 1, 1, 12)</td>\n",
       "      <td>1010.470609</td>\n",
       "    </tr>\n",
       "    <tr>\n",
       "      <th>20</th>\n",
       "      <td>(0, 1, 0)</td>\n",
       "      <td>(3, 1, 2, 12)</td>\n",
       "      <td>1012.329326</td>\n",
       "    </tr>\n",
       "    <tr>\n",
       "      <th>18</th>\n",
       "      <td>(0, 1, 0)</td>\n",
       "      <td>(3, 1, 0, 12)</td>\n",
       "      <td>1019.633305</td>\n",
       "    </tr>\n",
       "    <tr>\n",
       "      <th>2</th>\n",
       "      <td>(0, 1, 0)</td>\n",
       "      <td>(0, 1, 2, 12)</td>\n",
       "      <td>1113.006641</td>\n",
       "    </tr>\n",
       "    <tr>\n",
       "      <th>8</th>\n",
       "      <td>(0, 1, 0)</td>\n",
       "      <td>(1, 1, 2, 12)</td>\n",
       "      <td>1114.537815</td>\n",
       "    </tr>\n",
       "    <tr>\n",
       "      <th>14</th>\n",
       "      <td>(0, 1, 0)</td>\n",
       "      <td>(2, 1, 2, 12)</td>\n",
       "      <td>1116.884574</td>\n",
       "    </tr>\n",
       "    <tr>\n",
       "      <th>13</th>\n",
       "      <td>(0, 1, 0)</td>\n",
       "      <td>(2, 1, 1, 12)</td>\n",
       "      <td>1124.636016</td>\n",
       "    </tr>\n",
       "    <tr>\n",
       "      <th>12</th>\n",
       "      <td>(0, 1, 0)</td>\n",
       "      <td>(2, 1, 0, 12)</td>\n",
       "      <td>1153.358409</td>\n",
       "    </tr>\n",
       "    <tr>\n",
       "      <th>1</th>\n",
       "      <td>(0, 1, 0)</td>\n",
       "      <td>(0, 1, 1, 12)</td>\n",
       "      <td>1221.698786</td>\n",
       "    </tr>\n",
       "    <tr>\n",
       "      <th>7</th>\n",
       "      <td>(0, 1, 0)</td>\n",
       "      <td>(1, 1, 1, 12)</td>\n",
       "      <td>1223.441876</td>\n",
       "    </tr>\n",
       "    <tr>\n",
       "      <th>6</th>\n",
       "      <td>(0, 1, 0)</td>\n",
       "      <td>(1, 1, 0, 12)</td>\n",
       "      <td>1280.141920</td>\n",
       "    </tr>\n",
       "    <tr>\n",
       "      <th>0</th>\n",
       "      <td>(0, 1, 0)</td>\n",
       "      <td>(0, 1, 0, 12)</td>\n",
       "      <td>1421.373361</td>\n",
       "    </tr>\n",
       "    <tr>\n",
       "      <th>15</th>\n",
       "      <td>(0, 1, 0)</td>\n",
       "      <td>(2, 1, 3, 12)</td>\n",
       "      <td>3742.810179</td>\n",
       "    </tr>\n",
       "    <tr>\n",
       "      <th>9</th>\n",
       "      <td>(0, 1, 0)</td>\n",
       "      <td>(1, 1, 3, 12)</td>\n",
       "      <td>3784.867322</td>\n",
       "    </tr>\n",
       "    <tr>\n",
       "      <th>3</th>\n",
       "      <td>(0, 1, 0)</td>\n",
       "      <td>(0, 1, 3, 12)</td>\n",
       "      <td>4112.505709</td>\n",
       "    </tr>\n",
       "    <tr>\n",
       "      <th>33</th>\n",
       "      <td>(0, 1, 0)</td>\n",
       "      <td>(5, 1, 3, 12)</td>\n",
       "      <td>5248.549832</td>\n",
       "    </tr>\n",
       "    <tr>\n",
       "      <th>21</th>\n",
       "      <td>(0, 1, 0)</td>\n",
       "      <td>(3, 1, 3, 12)</td>\n",
       "      <td>6059.185743</td>\n",
       "    </tr>\n",
       "  </tbody>\n",
       "</table>\n",
       "</div>"
      ],
      "text/plain": [
       "        param       seasonal          AIC\n",
       "27  (0, 1, 0)  (4, 1, 3, 12)   186.156546\n",
       "29  (0, 1, 0)  (4, 1, 5, 12)   740.745133\n",
       "17  (0, 1, 0)  (2, 1, 5, 12)   748.841424\n",
       "23  (0, 1, 0)  (3, 1, 5, 12)   749.273907\n",
       "32  (0, 1, 0)  (5, 1, 2, 12)   758.063053\n",
       "31  (0, 1, 0)  (5, 1, 1, 12)   760.942322\n",
       "30  (0, 1, 0)  (5, 1, 0, 12)   763.918340\n",
       "5   (0, 1, 0)  (0, 1, 5, 12)   777.991606\n",
       "11  (0, 1, 0)  (1, 1, 5, 12)   778.416323\n",
       "22  (0, 1, 0)  (3, 1, 4, 12)   861.899913\n",
       "28  (0, 1, 0)  (4, 1, 4, 12)   863.902943\n",
       "16  (0, 1, 0)  (2, 1, 4, 12)   875.181578\n",
       "10  (0, 1, 0)  (1, 1, 4, 12)   878.200623\n",
       "24  (0, 1, 0)  (4, 1, 0, 12)   883.382660\n",
       "26  (0, 1, 0)  (4, 1, 2, 12)   883.792715\n",
       "4   (0, 1, 0)  (0, 1, 4, 12)   884.079362\n",
       "25  (0, 1, 0)  (4, 1, 1, 12)   884.104797\n",
       "19  (0, 1, 0)  (3, 1, 1, 12)  1010.470609\n",
       "20  (0, 1, 0)  (3, 1, 2, 12)  1012.329326\n",
       "18  (0, 1, 0)  (3, 1, 0, 12)  1019.633305\n",
       "2   (0, 1, 0)  (0, 1, 2, 12)  1113.006641\n",
       "8   (0, 1, 0)  (1, 1, 2, 12)  1114.537815\n",
       "14  (0, 1, 0)  (2, 1, 2, 12)  1116.884574\n",
       "13  (0, 1, 0)  (2, 1, 1, 12)  1124.636016\n",
       "12  (0, 1, 0)  (2, 1, 0, 12)  1153.358409\n",
       "1   (0, 1, 0)  (0, 1, 1, 12)  1221.698786\n",
       "7   (0, 1, 0)  (1, 1, 1, 12)  1223.441876\n",
       "6   (0, 1, 0)  (1, 1, 0, 12)  1280.141920\n",
       "0   (0, 1, 0)  (0, 1, 0, 12)  1421.373361\n",
       "15  (0, 1, 0)  (2, 1, 3, 12)  3742.810179\n",
       "9   (0, 1, 0)  (1, 1, 3, 12)  3784.867322\n",
       "3   (0, 1, 0)  (0, 1, 3, 12)  4112.505709\n",
       "33  (0, 1, 0)  (5, 1, 3, 12)  5248.549832\n",
       "21  (0, 1, 0)  (3, 1, 3, 12)  6059.185743"
      ]
     },
     "execution_count": 60,
     "metadata": {},
     "output_type": "execute_result"
    }
   ],
   "source": [
    "dfObj2.sort_values(by=['AIC']).head(200)"
   ]
  },
  {
   "cell_type": "code",
   "execution_count": 181,
   "id": "d83d55f6",
   "metadata": {},
   "outputs": [
    {
     "name": "stdout",
     "output_type": "stream",
     "text": [
      "                                              SARIMAX Results                                              \n",
      "===========================================================================================================\n",
      "Dep. Variable:                                   Avg_sunspot_count   No. Observations:                  153\n",
      "Model:             SARIMAX(0, 1, 1)x(4, 1, [1, 2, 3, 4, 5, 6], 12)   Log Likelihood                -287.222\n",
      "Date:                                             Fri, 17 Sep 2021   AIC                            598.444\n",
      "Time:                                                     09:32:19   BIC                            624.720\n",
      "Sample:                                                 01-31-1995   HQIC                           608.827\n",
      "                                                      - 09-30-2007                                         \n",
      "Covariance Type:                                               opg                                         \n",
      "==============================================================================\n",
      "                 coef    std err          z      P>|z|      [0.025      0.975]\n",
      "------------------------------------------------------------------------------\n",
      "ma.L1         -0.4264      0.150     -2.846      0.004      -0.720      -0.133\n",
      "ar.S.L12      -1.2187      0.202     -6.040      0.000      -1.614      -0.823\n",
      "ar.S.L24      -1.0096      0.219     -4.614      0.000      -1.439      -0.581\n",
      "ar.S.L36      -0.8975      0.199     -4.510      0.000      -1.288      -0.507\n",
      "ar.S.L48      -0.4514      0.153     -2.943      0.003      -0.752      -0.151\n",
      "ma.S.L12       0.1748     17.046      0.010      0.992     -33.235      33.585\n",
      "ma.S.L24       0.1146     21.416      0.005      0.996     -41.859      42.088\n",
      "ma.S.L36       0.1791     23.044      0.008      0.994     -44.987      45.345\n",
      "ma.S.L48      -0.5643     24.751     -0.023      0.982     -49.076      47.947\n",
      "ma.S.L60      -0.6545     14.988     -0.044      0.965     -30.031      28.722\n",
      "ma.S.L72      -0.2382      4.392     -0.054      0.957      -8.847       8.370\n",
      "sigma2       233.1172   3880.195      0.060      0.952   -7371.926    7838.160\n",
      "===================================================================================\n",
      "Ljung-Box (L1) (Q):                   0.00   Jarque-Bera (JB):                13.92\n",
      "Prob(Q):                              0.98   Prob(JB):                         0.00\n",
      "Heteroskedasticity (H):               0.43   Skew:                            -0.50\n",
      "Prob(H) (two-sided):                  0.06   Kurtosis:                         5.02\n",
      "===================================================================================\n",
      "\n",
      "Warnings:\n",
      "[1] Covariance matrix calculated using the outer product of gradients (complex-step).\n"
     ]
    }
   ],
   "source": [
    "model = sm.tsa.statespace.SARIMAX(train,\n",
    "                                order=(0,1,1),\n",
    "                                seasonal_order=(4,1,6,12),\n",
    "                                enforce_stationarity=False,\n",
    "                                enforce_invertibility=False)\n",
    "model_Sarima = model.fit()\n",
    "print(model_Sarima.summary())"
   ]
  },
  {
   "cell_type": "code",
   "execution_count": 182,
   "id": "a1dbc1ba",
   "metadata": {},
   "outputs": [],
   "source": [
    "pred_start=test.index[0]\n",
    "pred_end=test.index[-1]"
   ]
  },
  {
   "cell_type": "code",
   "execution_count": 183,
   "id": "fa32c49c",
   "metadata": {},
   "outputs": [],
   "source": [
    "SARIMA_predictions=model_Sarima.predict(start=pred_start, end=pred_end)"
   ]
  },
  {
   "cell_type": "code",
   "execution_count": 184,
   "id": "3566049b",
   "metadata": {},
   "outputs": [
    {
     "data": {
      "text/plain": [
       "2007-10-31    -6.387446\n",
       "2007-11-30     4.778927\n",
       "2007-12-31    -3.022044\n",
       "2008-01-31   -13.630352\n",
       "2008-02-29   -15.643083\n",
       "2008-03-31     2.411519\n",
       "2008-04-30    -1.647427\n",
       "2008-05-31     7.949353\n",
       "2008-06-30    32.231320\n",
       "2008-07-31    24.339623\n",
       "2008-08-31     9.708758\n",
       "2008-09-30    -2.216750\n",
       "2008-10-31     2.179752\n",
       "2008-11-30    13.403066\n",
       "2008-12-31    -0.679990\n",
       "2009-01-31    -6.177795\n",
       "2009-02-28    -1.144051\n",
       "2009-03-31     4.013142\n",
       "2009-04-30     8.184689\n",
       "2009-05-31    12.229168\n",
       "2009-06-30     9.701795\n",
       "2009-07-31    19.497095\n",
       "2009-08-31     5.491182\n",
       "2009-09-30    -2.175425\n",
       "2009-10-31    -8.549289\n",
       "2009-11-30     4.312993\n",
       "2009-12-31   -13.706860\n",
       "2010-01-31   -13.204448\n",
       "2010-02-28   -24.453922\n",
       "2010-03-31   -13.521857\n",
       "2010-04-30   -11.551767\n",
       "2010-05-31   -11.278743\n",
       "2010-06-30    -0.538830\n",
       "2010-07-31    -1.742285\n",
       "2010-08-31    -3.742399\n",
       "2010-09-30    -7.301942\n",
       "2010-10-31   -17.575477\n",
       "2010-11-30   -10.364501\n",
       "2010-12-31   -15.355356\n",
       "Freq: M, Name: predicted_mean, dtype: float64"
      ]
     },
     "execution_count": 184,
     "metadata": {},
     "output_type": "execute_result"
    }
   ],
   "source": [
    "SARIMA_predictions"
   ]
  },
  {
   "cell_type": "code",
   "execution_count": 185,
   "id": "91185521",
   "metadata": {},
   "outputs": [
    {
     "data": {
      "image/png": "[encoded data removed]",
      "text/plain": [
       "<Figure size 1080x576 with 1 Axes>"
      ]
     },
     "metadata": {
      "needs_background": "light"
     },
     "output_type": "display_data"
    }
   ],
   "source": [
    "plt.plot(train,label='Training Data')\n",
    "plt.plot(test,label='Test Data')\n",
    "plt.plot(test.index,SARIMA_predictions,label='Predicted Data - SARIMA')\n",
    "plt.legend(loc='best')\n",
    "plt.grid();"
   ]
  },
  {
   "cell_type": "code",
   "execution_count": 186,
   "id": "43766954",
   "metadata": {},
   "outputs": [
    {
     "name": "stdout",
     "output_type": "stream",
     "text": [
      "23.375649345527673\n"
     ]
    }
   ],
   "source": [
    "from sklearn.metrics import  mean_squared_error\n",
    "rmse = mean_squared_error(test,SARIMA_predictions, squared=False)\n",
    "print(rmse)"
   ]
  },
  {
   "cell_type": "code",
   "execution_count": 187,
   "id": "2aced019",
   "metadata": {},
   "outputs": [
    {
     "data": {
      "text/plain": [
       "Avg_sunspot_count    67.505208\n",
       "dtype: float64"
      ]
     },
     "execution_count": 187,
     "metadata": {},
     "output_type": "execute_result"
    }
   ],
   "source": [
    "a1.mean()"
   ]
  },
  {
   "cell_type": "code",
   "execution_count": null,
   "id": "020b8262",
   "metadata": {},
   "outputs": [],
   "source": []
  },
  {
   "cell_type": "code",
   "execution_count": null,
   "id": "b0fa5b3b",
   "metadata": {},
   "outputs": [],
   "source": []
  },
  {
   "cell_type": "code",
   "execution_count": 188,
   "id": "83e4f991",
   "metadata": {},
   "outputs": [],
   "source": [
    "train= a1\n",
    "test = pd.read_csv('test_(2).csv')"
   ]
  },
  {
   "cell_type": "code",
   "execution_count": 189,
   "id": "dd89a0c1",
   "metadata": {
    "scrolled": true
   },
   "outputs": [
    {
     "name": "stdout",
     "output_type": "stream",
     "text": [
      "                                              SARIMAX Results                                              \n",
      "===========================================================================================================\n",
      "Dep. Variable:                                   Avg_sunspot_count   No. Observations:                  192\n",
      "Model:             SARIMAX(0, 1, 1)x(4, 1, [1, 2, 3, 4, 5, 6], 12)   Log Likelihood                -438.288\n",
      "Date:                                             Fri, 17 Sep 2021   AIC                            900.577\n",
      "Time:                                                     09:32:36   BIC                            932.424\n",
      "Sample:                                                 01-31-1995   HQIC                           913.482\n",
      "                                                      - 12-31-2010                                         \n",
      "Covariance Type:                                               opg                                         \n",
      "==============================================================================\n",
      "                 coef    std err          z      P>|z|      [0.025      0.975]\n",
      "------------------------------------------------------------------------------\n",
      "ma.L1         -0.4133      0.113     -3.661      0.000      -0.635      -0.192\n",
      "ar.S.L12      -1.2099      0.134     -9.061      0.000      -1.472      -0.948\n",
      "ar.S.L24      -1.0003      0.139     -7.216      0.000      -1.272      -0.729\n",
      "ar.S.L36      -0.8277      0.126     -6.573      0.000      -1.075      -0.581\n",
      "ar.S.L48      -0.3936      0.095     -4.126      0.000      -0.581      -0.207\n",
      "ma.S.L12       0.1384      0.469      0.295      0.768      -0.781       1.058\n",
      "ma.S.L24       0.0297      2.333      0.013      0.990      -4.543       4.602\n",
      "ma.S.L36      -0.1061      1.422     -0.075      0.941      -2.894       2.681\n",
      "ma.S.L48      -0.6813      1.790     -0.381      0.703      -4.190       2.827\n",
      "ma.S.L60      -0.7103      1.886     -0.377      0.706      -4.407       2.986\n",
      "ma.S.L72      -0.0875      0.339     -0.258      0.796      -0.751       0.576\n",
      "sigma2       168.1667    400.153      0.420      0.674    -616.118     952.452\n",
      "===================================================================================\n",
      "Ljung-Box (L1) (Q):                   0.56   Jarque-Bera (JB):                89.47\n",
      "Prob(Q):                              0.46   Prob(JB):                         0.00\n",
      "Heteroskedasticity (H):               0.21   Skew:                            -1.00\n",
      "Prob(H) (two-sided):                  0.00   Kurtosis:                         7.06\n",
      "===================================================================================\n",
      "\n",
      "Warnings:\n",
      "[1] Covariance matrix calculated using the outer product of gradients (complex-step).\n"
     ]
    }
   ],
   "source": [
    "model = sm.tsa.statespace.SARIMAX(train,\n",
    "                                order=(0,1,1),\n",
    "                                seasonal_order=(4,1,6,12),\n",
    "                                enforce_stationarity=False,\n",
    "                                enforce_invertibility=False)\n",
    "model_Sarima = model.fit()\n",
    "print(model_Sarima.summary())"
   ]
  },
  {
   "cell_type": "code",
   "execution_count": 190,
   "id": "c7644c77",
   "metadata": {},
   "outputs": [
    {
     "data": {
      "text/html": [
       "<div>\n",
       "<style scoped>\n",
       "    .dataframe tbody tr th:only-of-type {\n",
       "        vertical-align: middle;\n",
       "    }\n",
       "\n",
       "    .dataframe tbody tr th {\n",
       "        vertical-align: top;\n",
       "    }\n",
       "\n",
       "    .dataframe thead th {\n",
       "        text-align: right;\n",
       "    }\n",
       "</style>\n",
       "<table border=\"1\" class=\"dataframe\">\n",
       "  <thead>\n",
       "    <tr style=\"text-align: right;\">\n",
       "      <th></th>\n",
       "      <th>Month</th>\n",
       "    </tr>\n",
       "  </thead>\n",
       "  <tbody>\n",
       "    <tr>\n",
       "      <th>0</th>\n",
       "      <td>01-01-2011</td>\n",
       "    </tr>\n",
       "    <tr>\n",
       "      <th>1</th>\n",
       "      <td>02-01-2011</td>\n",
       "    </tr>\n",
       "    <tr>\n",
       "      <th>2</th>\n",
       "      <td>03-01-2011</td>\n",
       "    </tr>\n",
       "    <tr>\n",
       "      <th>3</th>\n",
       "      <td>04-01-2011</td>\n",
       "    </tr>\n",
       "    <tr>\n",
       "      <th>4</th>\n",
       "      <td>05-01-2011</td>\n",
       "    </tr>\n",
       "  </tbody>\n",
       "</table>\n",
       "</div>"
      ],
      "text/plain": [
       "        Month\n",
       "0  01-01-2011\n",
       "1  02-01-2011\n",
       "2  03-01-2011\n",
       "3  04-01-2011\n",
       "4  05-01-2011"
      ]
     },
     "execution_count": 190,
     "metadata": {},
     "output_type": "execute_result"
    }
   ],
   "source": [
    "test.head()"
   ]
  },
  {
   "cell_type": "code",
   "execution_count": 191,
   "id": "a9091f36",
   "metadata": {},
   "outputs": [],
   "source": [
    "pred_start=test.iloc[0,0]\n",
    "pred_end=test.iloc[-1,0]"
   ]
  },
  {
   "cell_type": "code",
   "execution_count": 192,
   "id": "5a709373",
   "metadata": {},
   "outputs": [],
   "source": [
    "SARIMA_predictions=model_Sarima.predict(start=pred_start, end=pred_end)"
   ]
  },
  {
   "cell_type": "code",
   "execution_count": 193,
   "id": "48fb9d94",
   "metadata": {},
   "outputs": [
    {
     "data": {
      "text/plain": [
       "2011-01-31    22.913742\n",
       "2011-02-28    23.401521\n",
       "2011-03-31    30.450548\n",
       "2011-04-30    22.668783\n",
       "2011-05-31    32.064203\n",
       "                ...    \n",
       "2020-08-31    48.528438\n",
       "2020-09-30    44.369560\n",
       "2020-10-31    41.475062\n",
       "2020-11-30    46.641393\n",
       "2020-12-31    40.120995\n",
       "Freq: M, Name: predicted_mean, Length: 120, dtype: float64"
      ]
     },
     "execution_count": 193,
     "metadata": {},
     "output_type": "execute_result"
    }
   ],
   "source": [
    "SARIMA_predictions"
   ]
  },
  {
   "cell_type": "code",
   "execution_count": 194,
   "id": "e3943e29",
   "metadata": {},
   "outputs": [
    {
     "data": {
      "text/plain": [
       "array([22.91374191, 23.4015212 , 30.45054785, 22.66878254, 32.064203  ,\n",
       "       42.4110967 , 40.69364352, 40.06654701, 39.23590043, 36.71376065,\n",
       "       39.13688806, 37.07112024, 31.39367746, 35.14730138, 43.29187109,\n",
       "       38.26978753, 45.28933534, 55.5445753 , 58.9882766 , 51.86034657,\n",
       "       46.86203059, 44.79145737, 51.58889106, 42.61841983, 38.46479174,\n",
       "       38.16927355, 43.30413985, 44.36442175, 49.6304498 , 54.61874936,\n",
       "       59.27295215, 51.11136529, 44.53780034, 43.0274086 , 49.99586838,\n",
       "       39.21285749, 36.7949002 , 33.20003328, 41.83099506, 39.16813466,\n",
       "       41.91982261, 46.642056  , 51.24278071, 47.24382478, 41.76634271,\n",
       "       36.78184771, 41.69394302, 35.5898533 , 29.65587341, 26.58694429,\n",
       "       36.7115997 , 33.1202338 , 38.30377351, 46.40569666, 45.70233308,\n",
       "       43.95976974, 41.36201139, 37.85898791, 41.98072439, 37.07823491,\n",
       "       32.07572838, 32.74319203, 40.63068504, 36.43273585, 43.30551179,\n",
       "       51.98965162, 54.27273264, 48.92041023, 44.37843151, 41.70697043,\n",
       "       47.10579791, 40.66601003, 35.86642743, 35.811826  , 43.20240489,\n",
       "       41.35522002, 46.52293153, 53.41492626, 56.95851888, 50.67758494,\n",
       "       45.319846  , 42.815555  , 49.09473119, 40.15325103, 36.40366511,\n",
       "       34.34817083, 41.96554788, 40.11486432, 44.63225752, 50.41728821,\n",
       "       53.85987962, 48.80745086, 43.56648898, 40.169077  , 45.56914475,\n",
       "       38.35615094, 33.74594459, 31.53379917, 40.63780855, 37.30733165,\n",
       "       41.96182645, 49.06685141, 50.98614763, 47.47625681, 43.38602953,\n",
       "       39.63058679, 44.46756185, 38.46544609, 33.31157626, 32.41772171,\n",
       "       40.7879973 , 37.54426122, 43.42996592, 51.29960997, 52.94421142,\n",
       "       48.52843797, 44.36955969, 41.47506215, 46.64139283, 40.12099486])"
      ]
     },
     "execution_count": 194,
     "metadata": {},
     "output_type": "execute_result"
    }
   ],
   "source": [
    "SARIMA_predictions.values"
   ]
  },
  {
   "cell_type": "code",
   "execution_count": 195,
   "id": "7cfa603d",
   "metadata": {},
   "outputs": [
    {
     "data": {
      "text/html": [
       "<div>\n",
       "<style scoped>\n",
       "    .dataframe tbody tr th:only-of-type {\n",
       "        vertical-align: middle;\n",
       "    }\n",
       "\n",
       "    .dataframe tbody tr th {\n",
       "        vertical-align: top;\n",
       "    }\n",
       "\n",
       "    .dataframe thead th {\n",
       "        text-align: right;\n",
       "    }\n",
       "</style>\n",
       "<table border=\"1\" class=\"dataframe\">\n",
       "  <thead>\n",
       "    <tr style=\"text-align: right;\">\n",
       "      <th></th>\n",
       "      <th>Month</th>\n",
       "    </tr>\n",
       "  </thead>\n",
       "  <tbody>\n",
       "    <tr>\n",
       "      <th>0</th>\n",
       "      <td>01-01-2011</td>\n",
       "    </tr>\n",
       "    <tr>\n",
       "      <th>1</th>\n",
       "      <td>02-01-2011</td>\n",
       "    </tr>\n",
       "    <tr>\n",
       "      <th>2</th>\n",
       "      <td>03-01-2011</td>\n",
       "    </tr>\n",
       "    <tr>\n",
       "      <th>3</th>\n",
       "      <td>04-01-2011</td>\n",
       "    </tr>\n",
       "    <tr>\n",
       "      <th>4</th>\n",
       "      <td>05-01-2011</td>\n",
       "    </tr>\n",
       "  </tbody>\n",
       "</table>\n",
       "</div>"
      ],
      "text/plain": [
       "        Month\n",
       "0  01-01-2011\n",
       "1  02-01-2011\n",
       "2  03-01-2011\n",
       "3  04-01-2011\n",
       "4  05-01-2011"
      ]
     },
     "execution_count": 195,
     "metadata": {},
     "output_type": "execute_result"
    }
   ],
   "source": [
    "test.head()"
   ]
  },
  {
   "cell_type": "code",
   "execution_count": 196,
   "id": "09689e47",
   "metadata": {},
   "outputs": [],
   "source": [
    "result=test.copy()"
   ]
  },
  {
   "cell_type": "code",
   "execution_count": 197,
   "id": "04e9ebea",
   "metadata": {},
   "outputs": [],
   "source": [
    "a=SARIMA_predictions.values"
   ]
  },
  {
   "cell_type": "code",
   "execution_count": 198,
   "id": "def4e44e",
   "metadata": {},
   "outputs": [
    {
     "data": {
      "text/html": [
       "<div>\n",
       "<style scoped>\n",
       "    .dataframe tbody tr th:only-of-type {\n",
       "        vertical-align: middle;\n",
       "    }\n",
       "\n",
       "    .dataframe tbody tr th {\n",
       "        vertical-align: top;\n",
       "    }\n",
       "\n",
       "    .dataframe thead th {\n",
       "        text-align: right;\n",
       "    }\n",
       "</style>\n",
       "<table border=\"1\" class=\"dataframe\">\n",
       "  <thead>\n",
       "    <tr style=\"text-align: right;\">\n",
       "      <th></th>\n",
       "      <th>Month</th>\n",
       "      <th>Avg_sunspot_count</th>\n",
       "    </tr>\n",
       "  </thead>\n",
       "  <tbody>\n",
       "    <tr>\n",
       "      <th>0</th>\n",
       "      <td>01-01-2011</td>\n",
       "      <td>22.913742</td>\n",
       "    </tr>\n",
       "    <tr>\n",
       "      <th>1</th>\n",
       "      <td>02-01-2011</td>\n",
       "      <td>23.401521</td>\n",
       "    </tr>\n",
       "    <tr>\n",
       "      <th>2</th>\n",
       "      <td>03-01-2011</td>\n",
       "      <td>30.450548</td>\n",
       "    </tr>\n",
       "    <tr>\n",
       "      <th>3</th>\n",
       "      <td>04-01-2011</td>\n",
       "      <td>22.668783</td>\n",
       "    </tr>\n",
       "    <tr>\n",
       "      <th>4</th>\n",
       "      <td>05-01-2011</td>\n",
       "      <td>32.064203</td>\n",
       "    </tr>\n",
       "  </tbody>\n",
       "</table>\n",
       "</div>"
      ],
      "text/plain": [
       "        Month  Avg_sunspot_count\n",
       "0  01-01-2011          22.913742\n",
       "1  02-01-2011          23.401521\n",
       "2  03-01-2011          30.450548\n",
       "3  04-01-2011          22.668783\n",
       "4  05-01-2011          32.064203"
      ]
     },
     "execution_count": 198,
     "metadata": {},
     "output_type": "execute_result"
    }
   ],
   "source": [
    "result['Avg_sunspot_count']=pd.DataFrame(a)\n",
    "result.head()"
   ]
  },
  {
   "cell_type": "code",
   "execution_count": 199,
   "id": "7d4e0282",
   "metadata": {},
   "outputs": [],
   "source": [
    "result.to_csv('result32.csv', header=True, index=False)"
   ]
  }
 ],
 "metadata": {
  "kernelspec": {
   "display_name": "Python 3 (ipykernel)",
   "language": "python",
   "name": "python3"
  },
  "language_info": {
   "codemirror_mode": {
    "name": "ipython",
    "version": 3
   },
   "file_extension": ".py",
   "mimetype": "text/x-python",
   "name": "python",
   "nbconvert_exporter": "python",
   "pygments_lexer": "ipython3",
   "version": "3.8.8"
  }
 },
 "nbformat": 4,
 "nbformat_minor": 5
}
